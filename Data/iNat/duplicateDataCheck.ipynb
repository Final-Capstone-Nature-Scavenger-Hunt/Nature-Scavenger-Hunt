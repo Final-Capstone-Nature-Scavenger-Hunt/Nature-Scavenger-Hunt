{
 "cells": [
  {
   "cell_type": "markdown",
   "metadata": {},
   "source": [
    "### Check 2018, 2019 imgs for western fence lizard duplicates using md5"
   ]
  },
  {
   "cell_type": "code",
   "execution_count": 74,
   "metadata": {},
   "outputs": [],
   "source": [
    "import os\n",
    "import hashlib\n",
    "import pandas as pd\n",
    "from PIL import Image"
   ]
  },
  {
   "cell_type": "code",
   "execution_count": 75,
   "metadata": {},
   "outputs": [
    {
     "data": {
      "text/plain": [
       "'/home/gjack/data'"
      ]
     },
     "execution_count": 75,
     "metadata": {},
     "output_type": "execute_result"
    }
   ],
   "source": [
    "os.getcwd()"
   ]
  },
  {
   "cell_type": "code",
   "execution_count": 76,
   "metadata": {},
   "outputs": [],
   "source": [
    "dir2018 = os.listdir('md5check/4436')\n",
    "dir2019 = os.listdir('md5check/165')"
   ]
  },
  {
   "cell_type": "code",
   "execution_count": 77,
   "metadata": {},
   "outputs": [],
   "source": [
    "d2018 = ['md5check/4436/'+d for d in dir2018]"
   ]
  },
  {
   "cell_type": "code",
   "execution_count": 78,
   "metadata": {},
   "outputs": [],
   "source": [
    "d2019 = ['md5check/165/'+d for d in dir2019]"
   ]
  },
  {
   "cell_type": "code",
   "execution_count": 79,
   "metadata": {},
   "outputs": [],
   "source": [
    "df = pd.DataFrame(d2018,columns=[\"dir\"])"
   ]
  },
  {
   "cell_type": "code",
   "execution_count": 80,
   "metadata": {},
   "outputs": [],
   "source": [
    "df_ = pd.DataFrame(d2019,columns=[\"dir\"])"
   ]
  },
  {
   "cell_type": "code",
   "execution_count": 81,
   "metadata": {},
   "outputs": [],
   "source": [
    "df1 = pd.merge(df,df_, how=\"outer\")"
   ]
  },
  {
   "cell_type": "code",
   "execution_count": 82,
   "metadata": {},
   "outputs": [],
   "source": [
    "# remove shorter filename (easy way to filter out couple different files)\n",
    "df1 = df1.loc[(df1[\"dir\"].apply(len)>40)]"
   ]
  },
  {
   "cell_type": "code",
   "execution_count": 83,
   "metadata": {},
   "outputs": [],
   "source": [
    "df1[\"hash\"] = df1[\"dir\"].apply(lambda x: hashlib.md5(Image.open(x).tobytes()).hexdigest())"
   ]
  },
  {
   "cell_type": "code",
   "execution_count": 84,
   "metadata": {},
   "outputs": [
    {
     "data": {
      "text/html": [
       "<div>\n",
       "<style scoped>\n",
       "    .dataframe tbody tr th:only-of-type {\n",
       "        vertical-align: middle;\n",
       "    }\n",
       "\n",
       "    .dataframe tbody tr th {\n",
       "        vertical-align: top;\n",
       "    }\n",
       "\n",
       "    .dataframe thead th {\n",
       "        text-align: right;\n",
       "    }\n",
       "</style>\n",
       "<table border=\"1\" class=\"dataframe\">\n",
       "  <thead>\n",
       "    <tr style=\"text-align: right;\">\n",
       "      <th></th>\n",
       "      <th>dir</th>\n",
       "      <th>hash</th>\n",
       "    </tr>\n",
       "  </thead>\n",
       "  <tbody>\n",
       "    <tr>\n",
       "      <th>0</th>\n",
       "      <td>md5check/4436/615e404a84a95e3f25a27c6eba3fbfb8...</td>\n",
       "      <td>3349c82ee0492515b8e958b458205915</td>\n",
       "    </tr>\n",
       "    <tr>\n",
       "      <th>1</th>\n",
       "      <td>md5check/4436/d34c58d5df2ab6f75206df0ec9935828...</td>\n",
       "      <td>61dd70b3505ce43617874c7fd883b6d7</td>\n",
       "    </tr>\n",
       "    <tr>\n",
       "      <th>2</th>\n",
       "      <td>md5check/4436/c9c8b39a7467c2175f9914a321535832...</td>\n",
       "      <td>1d34cd2b2eb19bdcc341175de950ffa7</td>\n",
       "    </tr>\n",
       "    <tr>\n",
       "      <th>3</th>\n",
       "      <td>md5check/4436/04b8bb6c8dd385f43734336fef354bb8...</td>\n",
       "      <td>9cd8791c8df581278c2f77cffdb4a0b5</td>\n",
       "    </tr>\n",
       "    <tr>\n",
       "      <th>4</th>\n",
       "      <td>md5check/4436/6dbadbe6a2d05384c23cc31bbf4b293e...</td>\n",
       "      <td>65d20abedb0aba3608342232bfda2969</td>\n",
       "    </tr>\n",
       "  </tbody>\n",
       "</table>\n",
       "</div>"
      ],
      "text/plain": [
       "                                                 dir  \\\n",
       "0  md5check/4436/615e404a84a95e3f25a27c6eba3fbfb8...   \n",
       "1  md5check/4436/d34c58d5df2ab6f75206df0ec9935828...   \n",
       "2  md5check/4436/c9c8b39a7467c2175f9914a321535832...   \n",
       "3  md5check/4436/04b8bb6c8dd385f43734336fef354bb8...   \n",
       "4  md5check/4436/6dbadbe6a2d05384c23cc31bbf4b293e...   \n",
       "\n",
       "                               hash  \n",
       "0  3349c82ee0492515b8e958b458205915  \n",
       "1  61dd70b3505ce43617874c7fd883b6d7  \n",
       "2  1d34cd2b2eb19bdcc341175de950ffa7  \n",
       "3  9cd8791c8df581278c2f77cffdb4a0b5  \n",
       "4  65d20abedb0aba3608342232bfda2969  "
      ]
     },
     "execution_count": 84,
     "metadata": {},
     "output_type": "execute_result"
    }
   ],
   "source": [
    "df1.head()"
   ]
  },
  {
   "cell_type": "code",
   "execution_count": 85,
   "metadata": {},
   "outputs": [
    {
     "data": {
      "text/plain": [
       "1506"
      ]
     },
     "execution_count": 85,
     "metadata": {},
     "output_type": "execute_result"
    }
   ],
   "source": [
    "len(df1[\"hash\"].unique())"
   ]
  },
  {
   "cell_type": "code",
   "execution_count": 86,
   "metadata": {},
   "outputs": [
    {
     "data": {
      "text/plain": [
       "0"
      ]
     },
     "execution_count": 86,
     "metadata": {},
     "output_type": "execute_result"
    }
   ],
   "source": [
    "df1[\"hash\"].duplicated().sum()"
   ]
  },
  {
   "cell_type": "code",
   "execution_count": null,
   "metadata": {},
   "outputs": [],
   "source": []
  }
 ],
 "metadata": {
  "kernelspec": {
   "display_name": "Python 3",
   "language": "python",
   "name": "python3"
  },
  "language_info": {
   "codemirror_mode": {
    "name": "ipython",
    "version": 3
   },
   "file_extension": ".py",
   "mimetype": "text/x-python",
   "name": "python",
   "nbconvert_exporter": "python",
   "pygments_lexer": "ipython3",
   "version": "3.7.0"
  }
 },
 "nbformat": 4,
 "nbformat_minor": 2
}
