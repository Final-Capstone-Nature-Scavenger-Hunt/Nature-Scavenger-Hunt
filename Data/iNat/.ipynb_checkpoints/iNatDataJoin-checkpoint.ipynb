{
 "cells": [
  {
   "cell_type": "markdown",
   "metadata": {},
   "source": [
    "## Join 2018 and 2019 iNat Data by Species Name and Create GCP UL Links"
   ]
  },
  {
   "cell_type": "code",
   "execution_count": 1,
   "metadata": {},
   "outputs": [],
   "source": [
    "import json\n",
    "import pandas as pd"
   ]
  },
  {
   "cell_type": "code",
   "execution_count": 2,
   "metadata": {},
   "outputs": [],
   "source": [
    "# load the data\n",
    "with open('train2019.json') as json_file:\n",
    "    data2019 = json.load(json_file)\n",
    "with open('categories2019.json') as json_file:\n",
    "    cat2019 = json.load(json_file)\n",
    "with open('train2018.json') as json_file:\n",
    "    data2018 = json.load(json_file)\n",
    "with open('categories2018.json') as json_file:\n",
    "    cat2018 = json.load(json_file)"
   ]
  },
  {
   "cell_type": "code",
   "execution_count": 3,
   "metadata": {},
   "outputs": [
    {
     "data": {
      "text/plain": [
       "dict_keys(['info', 'images', 'licenses', 'annotations', 'categories'])"
      ]
     },
     "execution_count": 3,
     "metadata": {},
     "output_type": "execute_result"
    }
   ],
   "source": [
    "# check out what keys are available\n",
    "data2019.keys()"
   ]
  },
  {
   "cell_type": "code",
   "execution_count": 4,
   "metadata": {},
   "outputs": [],
   "source": [
    "# get numeric ID from binomial name\n",
    "def getID(binom_name, cat=cat2019):\n",
    "    for row in cat:\n",
    "        if row['name'].lower() == binom_name.lower():\n",
    "            print(row['id'])"
   ]
  },
  {
   "cell_type": "code",
   "execution_count": 10,
   "metadata": {},
   "outputs": [
    {
     "data": {
      "text/plain": [
       "dict_keys(['kingdom', 'phylum', 'name', 'family', 'genus', 'order', 'id', 'class'])"
      ]
     },
     "execution_count": 10,
     "metadata": {},
     "output_type": "execute_result"
    }
   ],
   "source": [
    "def getAllDirectory(year=2019, species_map=species_map):\n",
    "    '''returns tuple of common name and dir'''\n",
    "\n",
    "    data = eval(\"data\"+str(year))\n",
    "    dirs = []\n",
    "    for keys in species_map.keys():\n",
    "        common_name = species_map[keys][0]\n",
    "        if year == 2019:\n",
    "            key = species_map[keys][1][0]\n",
    "        elif year == 2018:\n",
    "            key = species_map[keys][1][1]\n",
    "        try:\n",
    "            # join and split token\n",
    "            s =\"/\"\n",
    "            # get dirname if numeric ID key matches key from species dict\n",
    "            dirname = [s.join(row[\"file_name\"].split(\"/\")[:3]) for row in data[\"images\"]]\n",
    "            dirs.append((keys, common_name, dirname[0]))\n",
    "        except:\n",
    "            pass\n",
    "    return dirs"
   ]
  },
  {
   "cell_type": "code",
   "execution_count": 4,
   "metadata": {},
   "outputs": [],
   "source": [
    "dirnames2019 = [\"/\".join(row[\"file_name\"].split(\"/\")[:3]) for row in data2019[\"images\"]]\n",
    "dirnames2018 = [\"/\".join(row[\"file_name\"].split(\"/\")[:3]) for row in data2018[\"images\"]]"
   ]
  },
  {
   "cell_type": "code",
   "execution_count": 5,
   "metadata": {},
   "outputs": [],
   "source": [
    "df_dir19 = pd.DataFrame(set(dirnames2019), columns=[\"dir19\"])\n",
    "df_dir19[\"id\"]=df_dir19[\"dir19\"].apply(lambda x: x.split(\"/\")[2])\n",
    "df_dir19[\"id\"]=df_dir19[\"id\"].astype(\"int64\")"
   ]
  },
  {
   "cell_type": "code",
   "execution_count": 6,
   "metadata": {},
   "outputs": [],
   "source": [
    "df_dir18 = pd.DataFrame(set(dirnames2018), columns=[\"dir18\"])\n",
    "df_dir18[\"id\"]=df_dir18[\"dir18\"].apply(lambda x: x.split(\"/\")[2])\n",
    "df_dir18[\"id\"]=df_dir18[\"id\"].astype(\"int64\")"
   ]
  },
  {
   "cell_type": "code",
   "execution_count": 7,
   "metadata": {},
   "outputs": [
    {
     "data": {
      "text/html": [
       "<div>\n",
       "<style scoped>\n",
       "    .dataframe tbody tr th:only-of-type {\n",
       "        vertical-align: middle;\n",
       "    }\n",
       "\n",
       "    .dataframe tbody tr th {\n",
       "        vertical-align: top;\n",
       "    }\n",
       "\n",
       "    .dataframe thead th {\n",
       "        text-align: right;\n",
       "    }\n",
       "</style>\n",
       "<table border=\"1\" class=\"dataframe\">\n",
       "  <thead>\n",
       "    <tr style=\"text-align: right;\">\n",
       "      <th></th>\n",
       "      <th>dir18</th>\n",
       "      <th>id</th>\n",
       "    </tr>\n",
       "  </thead>\n",
       "  <tbody>\n",
       "    <tr>\n",
       "      <th>0</th>\n",
       "      <td>train_val2018/Plantae/6993</td>\n",
       "      <td>6993</td>\n",
       "    </tr>\n",
       "    <tr>\n",
       "      <th>1</th>\n",
       "      <td>train_val2018/Insecta/928</td>\n",
       "      <td>928</td>\n",
       "    </tr>\n",
       "    <tr>\n",
       "      <th>2</th>\n",
       "      <td>train_val2018/Mollusca/4673</td>\n",
       "      <td>4673</td>\n",
       "    </tr>\n",
       "    <tr>\n",
       "      <th>3</th>\n",
       "      <td>train_val2018/Plantae/5559</td>\n",
       "      <td>5559</td>\n",
       "    </tr>\n",
       "    <tr>\n",
       "      <th>4</th>\n",
       "      <td>train_val2018/Plantae/7863</td>\n",
       "      <td>7863</td>\n",
       "    </tr>\n",
       "  </tbody>\n",
       "</table>\n",
       "</div>"
      ],
      "text/plain": [
       "                         dir18    id\n",
       "0   train_val2018/Plantae/6993  6993\n",
       "1    train_val2018/Insecta/928   928\n",
       "2  train_val2018/Mollusca/4673  4673\n",
       "3   train_val2018/Plantae/5559  5559\n",
       "4   train_val2018/Plantae/7863  7863"
      ]
     },
     "execution_count": 7,
     "metadata": {},
     "output_type": "execute_result"
    }
   ],
   "source": [
    "df_dir18.head()"
   ]
  },
  {
   "cell_type": "code",
   "execution_count": 8,
   "metadata": {},
   "outputs": [],
   "source": [
    "df19 = pd.read_json(\"categories2019.json\", orient=\"records\")"
   ]
  },
  {
   "cell_type": "code",
   "execution_count": 9,
   "metadata": {},
   "outputs": [],
   "source": [
    "df18 = pd.read_json(\"categories2018.json\", orient=\"records\")"
   ]
  },
  {
   "cell_type": "code",
   "execution_count": 10,
   "metadata": {},
   "outputs": [
    {
     "data": {
      "text/html": [
       "<div>\n",
       "<style scoped>\n",
       "    .dataframe tbody tr th:only-of-type {\n",
       "        vertical-align: middle;\n",
       "    }\n",
       "\n",
       "    .dataframe tbody tr th {\n",
       "        vertical-align: top;\n",
       "    }\n",
       "\n",
       "    .dataframe thead th {\n",
       "        text-align: right;\n",
       "    }\n",
       "</style>\n",
       "<table border=\"1\" class=\"dataframe\">\n",
       "  <thead>\n",
       "    <tr style=\"text-align: right;\">\n",
       "      <th></th>\n",
       "      <th>class</th>\n",
       "      <th>family</th>\n",
       "      <th>genus</th>\n",
       "      <th>id</th>\n",
       "      <th>kingdom</th>\n",
       "      <th>name</th>\n",
       "      <th>order</th>\n",
       "      <th>phylum</th>\n",
       "    </tr>\n",
       "  </thead>\n",
       "  <tbody>\n",
       "    <tr>\n",
       "      <th>0</th>\n",
       "      <td>Agaricomycetes</td>\n",
       "      <td>Amanitaceae</td>\n",
       "      <td>Amanita</td>\n",
       "      <td>0</td>\n",
       "      <td>Fungi</td>\n",
       "      <td>Amanita vaginata</td>\n",
       "      <td>Agaricales</td>\n",
       "      <td>Basidiomycota</td>\n",
       "    </tr>\n",
       "    <tr>\n",
       "      <th>1</th>\n",
       "      <td>Agaricomycetes</td>\n",
       "      <td>Amanitaceae</td>\n",
       "      <td>Amanita</td>\n",
       "      <td>1</td>\n",
       "      <td>Fungi</td>\n",
       "      <td>Amanita flavoconia</td>\n",
       "      <td>Agaricales</td>\n",
       "      <td>Basidiomycota</td>\n",
       "    </tr>\n",
       "  </tbody>\n",
       "</table>\n",
       "</div>"
      ],
      "text/plain": [
       "            class       family    genus  id kingdom                name  \\\n",
       "0  Agaricomycetes  Amanitaceae  Amanita   0   Fungi    Amanita vaginata   \n",
       "1  Agaricomycetes  Amanitaceae  Amanita   1   Fungi  Amanita flavoconia   \n",
       "\n",
       "        order         phylum  \n",
       "0  Agaricales  Basidiomycota  \n",
       "1  Agaricales  Basidiomycota  "
      ]
     },
     "execution_count": 10,
     "metadata": {},
     "output_type": "execute_result"
    }
   ],
   "source": [
    "df19.head(2)"
   ]
  },
  {
   "cell_type": "code",
   "execution_count": 11,
   "metadata": {},
   "outputs": [],
   "source": [
    "df_dirmerge18 = df18.merge(df_dir18,on=\"id\", how=\"right\")"
   ]
  },
  {
   "cell_type": "code",
   "execution_count": 12,
   "metadata": {},
   "outputs": [
    {
     "data": {
      "text/html": [
       "<div>\n",
       "<style scoped>\n",
       "    .dataframe tbody tr th:only-of-type {\n",
       "        vertical-align: middle;\n",
       "    }\n",
       "\n",
       "    .dataframe tbody tr th {\n",
       "        vertical-align: top;\n",
       "    }\n",
       "\n",
       "    .dataframe thead th {\n",
       "        text-align: right;\n",
       "    }\n",
       "</style>\n",
       "<table border=\"1\" class=\"dataframe\">\n",
       "  <thead>\n",
       "    <tr style=\"text-align: right;\">\n",
       "      <th></th>\n",
       "      <th>class</th>\n",
       "      <th>family</th>\n",
       "      <th>genus</th>\n",
       "      <th>id</th>\n",
       "      <th>kingdom</th>\n",
       "      <th>name</th>\n",
       "      <th>order</th>\n",
       "      <th>phylum</th>\n",
       "      <th>supercategory</th>\n",
       "      <th>dir18</th>\n",
       "    </tr>\n",
       "  </thead>\n",
       "  <tbody>\n",
       "    <tr>\n",
       "      <th>0</th>\n",
       "      <td>Polychaeta</td>\n",
       "      <td>Amphinomidae</td>\n",
       "      <td>Hermodice</td>\n",
       "      <td>0</td>\n",
       "      <td>Animalia</td>\n",
       "      <td>Hermodice carunculata</td>\n",
       "      <td>Phyllodocida</td>\n",
       "      <td>Annelida</td>\n",
       "      <td>Animalia</td>\n",
       "      <td>train_val2018/Animalia/0</td>\n",
       "    </tr>\n",
       "    <tr>\n",
       "      <th>1</th>\n",
       "      <td>Polychaeta</td>\n",
       "      <td>Sabellariidae</td>\n",
       "      <td>Phragmatopoma</td>\n",
       "      <td>1</td>\n",
       "      <td>Animalia</td>\n",
       "      <td>Phragmatopoma californica</td>\n",
       "      <td>Sabellida</td>\n",
       "      <td>Annelida</td>\n",
       "      <td>Animalia</td>\n",
       "      <td>train_val2018/Animalia/1</td>\n",
       "    </tr>\n",
       "    <tr>\n",
       "      <th>2</th>\n",
       "      <td>Polychaeta</td>\n",
       "      <td>Sabellidae</td>\n",
       "      <td>Eudistylia</td>\n",
       "      <td>2</td>\n",
       "      <td>Animalia</td>\n",
       "      <td>Eudistylia vancouveri</td>\n",
       "      <td>Sabellida</td>\n",
       "      <td>Annelida</td>\n",
       "      <td>Animalia</td>\n",
       "      <td>train_val2018/Animalia/2</td>\n",
       "    </tr>\n",
       "    <tr>\n",
       "      <th>3</th>\n",
       "      <td>Polychaeta</td>\n",
       "      <td>Serpulidae</td>\n",
       "      <td>Galeolaria</td>\n",
       "      <td>3</td>\n",
       "      <td>Animalia</td>\n",
       "      <td>Galeolaria hystrix</td>\n",
       "      <td>Sabellida</td>\n",
       "      <td>Annelida</td>\n",
       "      <td>Animalia</td>\n",
       "      <td>train_val2018/Animalia/3</td>\n",
       "    </tr>\n",
       "    <tr>\n",
       "      <th>4</th>\n",
       "      <td>Polychaeta</td>\n",
       "      <td>Serpulidae</td>\n",
       "      <td>Serpula</td>\n",
       "      <td>4</td>\n",
       "      <td>Animalia</td>\n",
       "      <td>Serpula columbiana</td>\n",
       "      <td>Sabellida</td>\n",
       "      <td>Annelida</td>\n",
       "      <td>Animalia</td>\n",
       "      <td>train_val2018/Animalia/4</td>\n",
       "    </tr>\n",
       "  </tbody>\n",
       "</table>\n",
       "</div>"
      ],
      "text/plain": [
       "        class         family          genus  id   kingdom  \\\n",
       "0  Polychaeta   Amphinomidae      Hermodice   0  Animalia   \n",
       "1  Polychaeta  Sabellariidae  Phragmatopoma   1  Animalia   \n",
       "2  Polychaeta     Sabellidae     Eudistylia   2  Animalia   \n",
       "3  Polychaeta     Serpulidae     Galeolaria   3  Animalia   \n",
       "4  Polychaeta     Serpulidae        Serpula   4  Animalia   \n",
       "\n",
       "                        name         order    phylum supercategory  \\\n",
       "0      Hermodice carunculata  Phyllodocida  Annelida      Animalia   \n",
       "1  Phragmatopoma californica     Sabellida  Annelida      Animalia   \n",
       "2      Eudistylia vancouveri     Sabellida  Annelida      Animalia   \n",
       "3         Galeolaria hystrix     Sabellida  Annelida      Animalia   \n",
       "4         Serpula columbiana     Sabellida  Annelida      Animalia   \n",
       "\n",
       "                      dir18  \n",
       "0  train_val2018/Animalia/0  \n",
       "1  train_val2018/Animalia/1  \n",
       "2  train_val2018/Animalia/2  \n",
       "3  train_val2018/Animalia/3  \n",
       "4  train_val2018/Animalia/4  "
      ]
     },
     "execution_count": 12,
     "metadata": {},
     "output_type": "execute_result"
    }
   ],
   "source": [
    "df_dirmerge18.head(5)"
   ]
  },
  {
   "cell_type": "code",
   "execution_count": 13,
   "metadata": {},
   "outputs": [],
   "source": [
    "df_dirmerge19 = df19.merge(df_dir19,on=\"id\", how=\"right\")"
   ]
  },
  {
   "cell_type": "code",
   "execution_count": 179,
   "metadata": {},
   "outputs": [],
   "source": [
    "dirmerge = pd.DataFrame.merge(df_dirmerge18, df_dirmerge19[[\"name\",\"kingdom\",\"phylum\",\"class\",\"order\",\"family\",\"genus\",\"dir19\"]], how=\"outer\", on=[\"name\"])"
   ]
  },
  {
   "cell_type": "code",
   "execution_count": 254,
   "metadata": {},
   "outputs": [
    {
     "data": {
      "text/plain": [
       "(8517, 17)"
      ]
     },
     "execution_count": 254,
     "metadata": {},
     "output_type": "execute_result"
    }
   ],
   "source": [
    "dirmerge.shape"
   ]
  },
  {
   "cell_type": "code",
   "execution_count": 180,
   "metadata": {},
   "outputs": [
    {
     "data": {
      "text/html": [
       "<div>\n",
       "<style scoped>\n",
       "    .dataframe tbody tr th:only-of-type {\n",
       "        vertical-align: middle;\n",
       "    }\n",
       "\n",
       "    .dataframe tbody tr th {\n",
       "        vertical-align: top;\n",
       "    }\n",
       "\n",
       "    .dataframe thead th {\n",
       "        text-align: right;\n",
       "    }\n",
       "</style>\n",
       "<table border=\"1\" class=\"dataframe\">\n",
       "  <thead>\n",
       "    <tr style=\"text-align: right;\">\n",
       "      <th></th>\n",
       "      <th>class_x</th>\n",
       "      <th>family_x</th>\n",
       "      <th>genus_x</th>\n",
       "      <th>id</th>\n",
       "      <th>kingdom_x</th>\n",
       "      <th>name</th>\n",
       "      <th>order_x</th>\n",
       "      <th>phylum_x</th>\n",
       "      <th>supercategory</th>\n",
       "      <th>dir18</th>\n",
       "      <th>kingdom_y</th>\n",
       "      <th>phylum_y</th>\n",
       "      <th>class_y</th>\n",
       "      <th>order_y</th>\n",
       "      <th>family_y</th>\n",
       "      <th>genus_y</th>\n",
       "      <th>dir19</th>\n",
       "    </tr>\n",
       "  </thead>\n",
       "  <tbody>\n",
       "    <tr>\n",
       "      <th>0</th>\n",
       "      <td>Polychaeta</td>\n",
       "      <td>Amphinomidae</td>\n",
       "      <td>Hermodice</td>\n",
       "      <td>0.0</td>\n",
       "      <td>Animalia</td>\n",
       "      <td>Hermodice carunculata</td>\n",
       "      <td>Phyllodocida</td>\n",
       "      <td>Annelida</td>\n",
       "      <td>Animalia</td>\n",
       "      <td>train_val2018/Animalia/0</td>\n",
       "      <td>NaN</td>\n",
       "      <td>NaN</td>\n",
       "      <td>NaN</td>\n",
       "      <td>NaN</td>\n",
       "      <td>NaN</td>\n",
       "      <td>NaN</td>\n",
       "      <td>NaN</td>\n",
       "    </tr>\n",
       "    <tr>\n",
       "      <th>1</th>\n",
       "      <td>Polychaeta</td>\n",
       "      <td>Sabellariidae</td>\n",
       "      <td>Phragmatopoma</td>\n",
       "      <td>1.0</td>\n",
       "      <td>Animalia</td>\n",
       "      <td>Phragmatopoma californica</td>\n",
       "      <td>Sabellida</td>\n",
       "      <td>Annelida</td>\n",
       "      <td>Animalia</td>\n",
       "      <td>train_val2018/Animalia/1</td>\n",
       "      <td>NaN</td>\n",
       "      <td>NaN</td>\n",
       "      <td>NaN</td>\n",
       "      <td>NaN</td>\n",
       "      <td>NaN</td>\n",
       "      <td>NaN</td>\n",
       "      <td>NaN</td>\n",
       "    </tr>\n",
       "    <tr>\n",
       "      <th>2</th>\n",
       "      <td>Polychaeta</td>\n",
       "      <td>Sabellidae</td>\n",
       "      <td>Eudistylia</td>\n",
       "      <td>2.0</td>\n",
       "      <td>Animalia</td>\n",
       "      <td>Eudistylia vancouveri</td>\n",
       "      <td>Sabellida</td>\n",
       "      <td>Annelida</td>\n",
       "      <td>Animalia</td>\n",
       "      <td>train_val2018/Animalia/2</td>\n",
       "      <td>NaN</td>\n",
       "      <td>NaN</td>\n",
       "      <td>NaN</td>\n",
       "      <td>NaN</td>\n",
       "      <td>NaN</td>\n",
       "      <td>NaN</td>\n",
       "      <td>NaN</td>\n",
       "    </tr>\n",
       "    <tr>\n",
       "      <th>3</th>\n",
       "      <td>Polychaeta</td>\n",
       "      <td>Serpulidae</td>\n",
       "      <td>Galeolaria</td>\n",
       "      <td>3.0</td>\n",
       "      <td>Animalia</td>\n",
       "      <td>Galeolaria hystrix</td>\n",
       "      <td>Sabellida</td>\n",
       "      <td>Annelida</td>\n",
       "      <td>Animalia</td>\n",
       "      <td>train_val2018/Animalia/3</td>\n",
       "      <td>NaN</td>\n",
       "      <td>NaN</td>\n",
       "      <td>NaN</td>\n",
       "      <td>NaN</td>\n",
       "      <td>NaN</td>\n",
       "      <td>NaN</td>\n",
       "      <td>NaN</td>\n",
       "    </tr>\n",
       "    <tr>\n",
       "      <th>4</th>\n",
       "      <td>Polychaeta</td>\n",
       "      <td>Serpulidae</td>\n",
       "      <td>Serpula</td>\n",
       "      <td>4.0</td>\n",
       "      <td>Animalia</td>\n",
       "      <td>Serpula columbiana</td>\n",
       "      <td>Sabellida</td>\n",
       "      <td>Annelida</td>\n",
       "      <td>Animalia</td>\n",
       "      <td>train_val2018/Animalia/4</td>\n",
       "      <td>NaN</td>\n",
       "      <td>NaN</td>\n",
       "      <td>NaN</td>\n",
       "      <td>NaN</td>\n",
       "      <td>NaN</td>\n",
       "      <td>NaN</td>\n",
       "      <td>NaN</td>\n",
       "    </tr>\n",
       "  </tbody>\n",
       "</table>\n",
       "</div>"
      ],
      "text/plain": [
       "      class_x       family_x        genus_x   id kingdom_x  \\\n",
       "0  Polychaeta   Amphinomidae      Hermodice  0.0  Animalia   \n",
       "1  Polychaeta  Sabellariidae  Phragmatopoma  1.0  Animalia   \n",
       "2  Polychaeta     Sabellidae     Eudistylia  2.0  Animalia   \n",
       "3  Polychaeta     Serpulidae     Galeolaria  3.0  Animalia   \n",
       "4  Polychaeta     Serpulidae        Serpula  4.0  Animalia   \n",
       "\n",
       "                        name       order_x  phylum_x supercategory  \\\n",
       "0      Hermodice carunculata  Phyllodocida  Annelida      Animalia   \n",
       "1  Phragmatopoma californica     Sabellida  Annelida      Animalia   \n",
       "2      Eudistylia vancouveri     Sabellida  Annelida      Animalia   \n",
       "3         Galeolaria hystrix     Sabellida  Annelida      Animalia   \n",
       "4         Serpula columbiana     Sabellida  Annelida      Animalia   \n",
       "\n",
       "                      dir18 kingdom_y phylum_y class_y order_y family_y  \\\n",
       "0  train_val2018/Animalia/0       NaN      NaN     NaN     NaN      NaN   \n",
       "1  train_val2018/Animalia/1       NaN      NaN     NaN     NaN      NaN   \n",
       "2  train_val2018/Animalia/2       NaN      NaN     NaN     NaN      NaN   \n",
       "3  train_val2018/Animalia/3       NaN      NaN     NaN     NaN      NaN   \n",
       "4  train_val2018/Animalia/4       NaN      NaN     NaN     NaN      NaN   \n",
       "\n",
       "  genus_y dir19  \n",
       "0     NaN   NaN  \n",
       "1     NaN   NaN  \n",
       "2     NaN   NaN  \n",
       "3     NaN   NaN  \n",
       "4     NaN   NaN  "
      ]
     },
     "execution_count": 180,
     "metadata": {},
     "output_type": "execute_result"
    }
   ],
   "source": [
    "# 763 more rows than dir18\n",
    "dirmerge.head()"
   ]
  },
  {
   "cell_type": "code",
   "execution_count": 181,
   "metadata": {},
   "outputs": [
    {
     "name": "stderr",
     "output_type": "stream",
     "text": [
      "C:\\Users\\gjack\\Anaconda3\\lib\\site-packages\\IPython\\core\\interactiveshell.py:3057: DtypeWarning: Columns (11,17) have mixed types. Specify dtype option on import or set low_memory=False.\n",
      "  interactivity=interactivity, compiler=compiler, result=result)\n"
     ]
    }
   ],
   "source": [
    "# translate from binomial name to common name using csv data [https://observation.org/download.php]\n",
    "species_translate = pd.read_csv(\"species.csv\",sep=\";\")"
   ]
  },
  {
   "cell_type": "code",
   "execution_count": 182,
   "metadata": {},
   "outputs": [],
   "source": [
    "names = species_translate[[\"name\",\"Scientific name\"]]"
   ]
  },
  {
   "cell_type": "code",
   "execution_count": 183,
   "metadata": {},
   "outputs": [],
   "source": [
    "names.columns = [\"commonname\",\"Scientific name\"]"
   ]
  },
  {
   "cell_type": "code",
   "execution_count": 184,
   "metadata": {},
   "outputs": [],
   "source": [
    "_df = pd.merge(dirmerge,names, how=\"left\", left_on=\"name\", right_on=\"Scientific name\")"
   ]
  },
  {
   "cell_type": "code",
   "execution_count": 185,
   "metadata": {},
   "outputs": [],
   "source": [
    "df = _df.drop_duplicates(subset=\"name\")"
   ]
  },
  {
   "cell_type": "code",
   "execution_count": 186,
   "metadata": {},
   "outputs": [
    {
     "data": {
      "text/plain": [
       "2304"
      ]
     },
     "execution_count": 186,
     "metadata": {},
     "output_type": "execute_result"
    }
   ],
   "source": [
    "# count species without common names available\n",
    "df[\"commonname\"].isnull().sum()"
   ]
  },
  {
   "cell_type": "code",
   "execution_count": 187,
   "metadata": {},
   "outputs": [
    {
     "data": {
      "text/plain": [
       "(8517, 19)"
      ]
     },
     "execution_count": 187,
     "metadata": {},
     "output_type": "execute_result"
    }
   ],
   "source": [
    "df.shape"
   ]
  },
  {
   "cell_type": "code",
   "execution_count": 188,
   "metadata": {},
   "outputs": [],
   "source": [
    "# had to do this instead of normal join due to inconsistencies btwn tables\n",
    "df[\"kingdom_x\"].fillna(df[\"kingdom_y\"], inplace=True)\n",
    "df[\"phylum_x\"].fillna(df[\"phylum_y\"], inplace=True)\n",
    "df[\"class_x\"].fillna(df[\"class_y\"], inplace=True)\n",
    "df[\"order_x\"].fillna(df[\"order_y\"],inplace=True)\n",
    "df[\"family_x\"].fillna(df[\"family_y\"], inplace=True)\n",
    "df[\"genus_x\"].fillna(df[\"genus_y\"],inplace=True)"
   ]
  },
  {
   "cell_type": "markdown",
   "metadata": {},
   "source": [
    "### Join With Yosemite Species Data\n",
    "\n",
    "Contains data that can be used to populate gameplay tables (e.g. occurrence, abundance, nativeness)"
   ]
  },
  {
   "cell_type": "code",
   "execution_count": 64,
   "metadata": {},
   "outputs": [],
   "source": [
    "# yosemite species list from NPS\n",
    "yose = pd.read_csv('NPSpecies_FullList_YOSE_20200229_212528.csv')"
   ]
  },
  {
   "cell_type": "code",
   "execution_count": 66,
   "metadata": {},
   "outputs": [
    {
     "data": {
      "text/html": [
       "<div>\n",
       "<style scoped>\n",
       "    .dataframe tbody tr th:only-of-type {\n",
       "        vertical-align: middle;\n",
       "    }\n",
       "\n",
       "    .dataframe tbody tr th {\n",
       "        vertical-align: top;\n",
       "    }\n",
       "\n",
       "    .dataframe thead th {\n",
       "        text-align: right;\n",
       "    }\n",
       "</style>\n",
       "<table border=\"1\" class=\"dataframe\">\n",
       "  <thead>\n",
       "    <tr style=\"text-align: right;\">\n",
       "      <th></th>\n",
       "      <th>Park Code</th>\n",
       "      <th>Category</th>\n",
       "      <th>Order</th>\n",
       "      <th>Family</th>\n",
       "      <th>Taxa Code</th>\n",
       "      <th>Scientific Name</th>\n",
       "      <th>Synonyms</th>\n",
       "      <th>Common Name</th>\n",
       "      <th>Occurrence</th>\n",
       "      <th>Occurrence Tags</th>\n",
       "      <th>Abundance</th>\n",
       "      <th>Nativeness</th>\n",
       "      <th>Nativeness Tags</th>\n",
       "      <th>Record Status</th>\n",
       "    </tr>\n",
       "  </thead>\n",
       "  <tbody>\n",
       "    <tr>\n",
       "      <th>0</th>\n",
       "      <td>YOSE</td>\n",
       "      <td>Mammal</td>\n",
       "      <td>Artiodactyla</td>\n",
       "      <td>Bovidae</td>\n",
       "      <td>891494</td>\n",
       "      <td>Ovis canadensis sierrae</td>\n",
       "      <td>NaN</td>\n",
       "      <td>Sierra Nevada bighorn sheep</td>\n",
       "      <td>Present</td>\n",
       "      <td>NaN</td>\n",
       "      <td>Rare</td>\n",
       "      <td>Native</td>\n",
       "      <td>NaN</td>\n",
       "      <td>Approved</td>\n",
       "    </tr>\n",
       "    <tr>\n",
       "      <th>1</th>\n",
       "      <td>YOSE</td>\n",
       "      <td>Mammal</td>\n",
       "      <td>Artiodactyla</td>\n",
       "      <td>Cervidae</td>\n",
       "      <td>731246</td>\n",
       "      <td>Cervus nannodes</td>\n",
       "      <td>NaN</td>\n",
       "      <td>NaN</td>\n",
       "      <td>Not In Park</td>\n",
       "      <td>Historical</td>\n",
       "      <td>NaN</td>\n",
       "      <td>Non-native</td>\n",
       "      <td>NaN</td>\n",
       "      <td>In Review</td>\n",
       "    </tr>\n",
       "    <tr>\n",
       "      <th>2</th>\n",
       "      <td>YOSE</td>\n",
       "      <td>Mammal</td>\n",
       "      <td>Artiodactyla</td>\n",
       "      <td>Cervidae</td>\n",
       "      <td>95045</td>\n",
       "      <td>Odocoileus hemionus</td>\n",
       "      <td>Odocoileus hemionus californicus (731223),Dama...</td>\n",
       "      <td>mule deer, Mule Deer</td>\n",
       "      <td>Present</td>\n",
       "      <td>NaN</td>\n",
       "      <td>Common</td>\n",
       "      <td>Native</td>\n",
       "      <td>NaN</td>\n",
       "      <td>Approved</td>\n",
       "    </tr>\n",
       "    <tr>\n",
       "      <th>3</th>\n",
       "      <td>YOSE</td>\n",
       "      <td>Mammal</td>\n",
       "      <td>Artiodactyla</td>\n",
       "      <td>Suidae</td>\n",
       "      <td>95073</td>\n",
       "      <td>Sus scrofa</td>\n",
       "      <td>NaN</td>\n",
       "      <td>pig, pig (feral), wild boar, Wild Boar</td>\n",
       "      <td>Unconfirmed</td>\n",
       "      <td>Adjacent</td>\n",
       "      <td>NaN</td>\n",
       "      <td>Non-native</td>\n",
       "      <td>NaN</td>\n",
       "      <td>Approved</td>\n",
       "    </tr>\n",
       "    <tr>\n",
       "      <th>4</th>\n",
       "      <td>YOSE</td>\n",
       "      <td>Mammal</td>\n",
       "      <td>Carnivora</td>\n",
       "      <td>Canidae</td>\n",
       "      <td>93340</td>\n",
       "      <td>Canis latrans</td>\n",
       "      <td>Canis latrans lestes (154884)</td>\n",
       "      <td>Coyote</td>\n",
       "      <td>Present</td>\n",
       "      <td>NaN</td>\n",
       "      <td>Uncommon</td>\n",
       "      <td>Native</td>\n",
       "      <td>NaN</td>\n",
       "      <td>Approved</td>\n",
       "    </tr>\n",
       "  </tbody>\n",
       "</table>\n",
       "</div>"
      ],
      "text/plain": [
       "  Park Code Category         Order    Family  Taxa Code  \\\n",
       "0      YOSE   Mammal  Artiodactyla   Bovidae     891494   \n",
       "1      YOSE   Mammal  Artiodactyla  Cervidae     731246   \n",
       "2      YOSE   Mammal  Artiodactyla  Cervidae      95045   \n",
       "3      YOSE   Mammal  Artiodactyla    Suidae      95073   \n",
       "4      YOSE   Mammal     Carnivora   Canidae      93340   \n",
       "\n",
       "           Scientific Name                                           Synonyms  \\\n",
       "0  Ovis canadensis sierrae                                                NaN   \n",
       "1          Cervus nannodes                                                NaN   \n",
       "2      Odocoileus hemionus  Odocoileus hemionus californicus (731223),Dama...   \n",
       "3               Sus scrofa                                                NaN   \n",
       "4            Canis latrans                      Canis latrans lestes (154884)   \n",
       "\n",
       "                              Common Name   Occurrence Occurrence Tags  \\\n",
       "0             Sierra Nevada bighorn sheep      Present             NaN   \n",
       "1                                     NaN  Not In Park      Historical   \n",
       "2                    mule deer, Mule Deer      Present             NaN   \n",
       "3  pig, pig (feral), wild boar, Wild Boar  Unconfirmed        Adjacent   \n",
       "4                                  Coyote      Present             NaN   \n",
       "\n",
       "  Abundance  Nativeness Nativeness Tags Record Status  \n",
       "0      Rare      Native             NaN      Approved  \n",
       "1       NaN  Non-native             NaN     In Review  \n",
       "2    Common      Native             NaN      Approved  \n",
       "3       NaN  Non-native             NaN      Approved  \n",
       "4  Uncommon      Native             NaN      Approved  "
      ]
     },
     "execution_count": 66,
     "metadata": {},
     "output_type": "execute_result"
    }
   ],
   "source": [
    "yose.head()"
   ]
  },
  {
   "cell_type": "code",
   "execution_count": 67,
   "metadata": {},
   "outputs": [],
   "source": [
    "from fuzzywuzzy import fuzz\n",
    "from fuzzywuzzy import process"
   ]
  },
  {
   "cell_type": "code",
   "execution_count": 68,
   "metadata": {},
   "outputs": [],
   "source": [
    "yose_cats=list(yose[\"Scientific Name\"])"
   ]
  },
  {
   "cell_type": "code",
   "execution_count": 71,
   "metadata": {},
   "outputs": [
    {
     "name": "stdout",
     "output_type": "stream",
     "text": [
      "('Ovis canadensis sierrae', 100)\n"
     ]
    }
   ],
   "source": [
    "# example fuzzy string match\n",
    "str2Match='Ovis canadensis'\n",
    "Ratios = process.extractOne(str2Match, yose_cats, scorer=fuzz.partial_ratio)\n",
    "print(Ratios)"
   ]
  },
  {
   "cell_type": "code",
   "execution_count": 189,
   "metadata": {},
   "outputs": [
    {
     "name": "stderr",
     "output_type": "stream",
     "text": [
      "C:\\Users\\gjack\\Anaconda3\\lib\\site-packages\\ipykernel_launcher.py:1: SettingWithCopyWarning: \n",
      "A value is trying to be set on a copy of a slice from a DataFrame.\n",
      "Try using .loc[row_indexer,col_indexer] = value instead\n",
      "\n",
      "See the caveats in the documentation: http://pandas.pydata.org/pandas-docs/stable/indexing.html#indexing-view-versus-copy\n",
      "  \"\"\"Entry point for launching an IPython kernel.\n"
     ]
    }
   ],
   "source": [
    "df['fuzzywuzzy'] = df.name.apply(lambda x: process.extractOne(x, yose_cats, scorer=fuzz.partial_ratio))"
   ]
  },
  {
   "cell_type": "code",
   "execution_count": 190,
   "metadata": {},
   "outputs": [
    {
     "name": "stderr",
     "output_type": "stream",
     "text": [
      "C:\\Users\\gjack\\Anaconda3\\lib\\site-packages\\ipykernel_launcher.py:1: SettingWithCopyWarning: \n",
      "A value is trying to be set on a copy of a slice from a DataFrame.\n",
      "Try using .loc[row_indexer,col_indexer] = value instead\n",
      "\n",
      "See the caveats in the documentation: http://pandas.pydata.org/pandas-docs/stable/indexing.html#indexing-view-versus-copy\n",
      "  \"\"\"Entry point for launching an IPython kernel.\n",
      "C:\\Users\\gjack\\Anaconda3\\lib\\site-packages\\ipykernel_launcher.py:2: SettingWithCopyWarning: \n",
      "A value is trying to be set on a copy of a slice from a DataFrame.\n",
      "Try using .loc[row_indexer,col_indexer] = value instead\n",
      "\n",
      "See the caveats in the documentation: http://pandas.pydata.org/pandas-docs/stable/indexing.html#indexing-view-versus-copy\n",
      "  \n"
     ]
    }
   ],
   "source": [
    "df['yose_score']= df['fuzzywuzzy'].apply(lambda x: x[1])\n",
    "df['yose_name']= df['fuzzywuzzy'].apply(lambda x: x[0])"
   ]
  },
  {
   "cell_type": "code",
   "execution_count": 193,
   "metadata": {},
   "outputs": [],
   "source": [
    "df['yose_join']=None\n",
    "df.loc[df.yose_score==100,'yose_join'] = df.yose_name"
   ]
  },
  {
   "cell_type": "code",
   "execution_count": 194,
   "metadata": {},
   "outputs": [
    {
     "data": {
      "text/plain": [
       "2807    Oncorhynchus clarkii henshawi\n",
       "2811              Oncorhynchus mykiss\n",
       "2813                     Salmo trutta\n",
       "2815            Salvelinus fontinalis\n",
       "2897       Anaxyrus boreas halophilus\n",
       "Name: yose_join, dtype: object"
      ]
     },
     "execution_count": 194,
     "metadata": {},
     "output_type": "execute_result"
    }
   ],
   "source": [
    "df.loc[df['yose_score']==100]['yose_join'].head()"
   ]
  },
  {
   "cell_type": "code",
   "execution_count": 195,
   "metadata": {},
   "outputs": [],
   "source": [
    "df1 = df.drop(columns=['kingdom_y', 'phylum_y','class_y','family_y','genus_y',\n",
    "                       'Scientific name', 'fuzzywuzzy','yose_name'])"
   ]
  },
  {
   "cell_type": "code",
   "execution_count": 196,
   "metadata": {},
   "outputs": [
    {
     "data": {
      "text/html": [
       "<div>\n",
       "<style scoped>\n",
       "    .dataframe tbody tr th:only-of-type {\n",
       "        vertical-align: middle;\n",
       "    }\n",
       "\n",
       "    .dataframe tbody tr th {\n",
       "        vertical-align: top;\n",
       "    }\n",
       "\n",
       "    .dataframe thead th {\n",
       "        text-align: right;\n",
       "    }\n",
       "</style>\n",
       "<table border=\"1\" class=\"dataframe\">\n",
       "  <thead>\n",
       "    <tr style=\"text-align: right;\">\n",
       "      <th></th>\n",
       "      <th>class_x</th>\n",
       "      <th>family_x</th>\n",
       "      <th>genus_x</th>\n",
       "      <th>id</th>\n",
       "      <th>kingdom_x</th>\n",
       "      <th>name</th>\n",
       "      <th>order_x</th>\n",
       "      <th>phylum_x</th>\n",
       "      <th>supercategory</th>\n",
       "      <th>dir18</th>\n",
       "      <th>order_y</th>\n",
       "      <th>dir19</th>\n",
       "      <th>commonname</th>\n",
       "      <th>yose_score</th>\n",
       "      <th>yose_join</th>\n",
       "    </tr>\n",
       "  </thead>\n",
       "  <tbody>\n",
       "    <tr>\n",
       "      <th>0</th>\n",
       "      <td>Polychaeta</td>\n",
       "      <td>Amphinomidae</td>\n",
       "      <td>Hermodice</td>\n",
       "      <td>0.0</td>\n",
       "      <td>Animalia</td>\n",
       "      <td>Hermodice carunculata</td>\n",
       "      <td>Phyllodocida</td>\n",
       "      <td>Annelida</td>\n",
       "      <td>Animalia</td>\n",
       "      <td>train_val2018/Animalia/0</td>\n",
       "      <td>NaN</td>\n",
       "      <td>NaN</td>\n",
       "      <td>Bearded fireworm</td>\n",
       "      <td>67</td>\n",
       "      <td>None</td>\n",
       "    </tr>\n",
       "    <tr>\n",
       "      <th>1</th>\n",
       "      <td>Polychaeta</td>\n",
       "      <td>Sabellariidae</td>\n",
       "      <td>Phragmatopoma</td>\n",
       "      <td>1.0</td>\n",
       "      <td>Animalia</td>\n",
       "      <td>Phragmatopoma californica</td>\n",
       "      <td>Sabellida</td>\n",
       "      <td>Annelida</td>\n",
       "      <td>Animalia</td>\n",
       "      <td>train_val2018/Animalia/1</td>\n",
       "      <td>NaN</td>\n",
       "      <td>NaN</td>\n",
       "      <td>NaN</td>\n",
       "      <td>88</td>\n",
       "      <td>None</td>\n",
       "    </tr>\n",
       "    <tr>\n",
       "      <th>2</th>\n",
       "      <td>Polychaeta</td>\n",
       "      <td>Sabellidae</td>\n",
       "      <td>Eudistylia</td>\n",
       "      <td>2.0</td>\n",
       "      <td>Animalia</td>\n",
       "      <td>Eudistylia vancouveri</td>\n",
       "      <td>Sabellida</td>\n",
       "      <td>Annelida</td>\n",
       "      <td>Animalia</td>\n",
       "      <td>train_val2018/Animalia/2</td>\n",
       "      <td>NaN</td>\n",
       "      <td>NaN</td>\n",
       "      <td>NaN</td>\n",
       "      <td>59</td>\n",
       "      <td>None</td>\n",
       "    </tr>\n",
       "    <tr>\n",
       "      <th>3</th>\n",
       "      <td>Polychaeta</td>\n",
       "      <td>Serpulidae</td>\n",
       "      <td>Galeolaria</td>\n",
       "      <td>3.0</td>\n",
       "      <td>Animalia</td>\n",
       "      <td>Galeolaria hystrix</td>\n",
       "      <td>Sabellida</td>\n",
       "      <td>Annelida</td>\n",
       "      <td>Animalia</td>\n",
       "      <td>train_val2018/Animalia/3</td>\n",
       "      <td>NaN</td>\n",
       "      <td>NaN</td>\n",
       "      <td>NaN</td>\n",
       "      <td>65</td>\n",
       "      <td>None</td>\n",
       "    </tr>\n",
       "    <tr>\n",
       "      <th>4</th>\n",
       "      <td>Polychaeta</td>\n",
       "      <td>Serpulidae</td>\n",
       "      <td>Serpula</td>\n",
       "      <td>4.0</td>\n",
       "      <td>Animalia</td>\n",
       "      <td>Serpula columbiana</td>\n",
       "      <td>Sabellida</td>\n",
       "      <td>Annelida</td>\n",
       "      <td>Animalia</td>\n",
       "      <td>train_val2018/Animalia/4</td>\n",
       "      <td>NaN</td>\n",
       "      <td>NaN</td>\n",
       "      <td>NaN</td>\n",
       "      <td>72</td>\n",
       "      <td>None</td>\n",
       "    </tr>\n",
       "  </tbody>\n",
       "</table>\n",
       "</div>"
      ],
      "text/plain": [
       "      class_x       family_x        genus_x   id kingdom_x  \\\n",
       "0  Polychaeta   Amphinomidae      Hermodice  0.0  Animalia   \n",
       "1  Polychaeta  Sabellariidae  Phragmatopoma  1.0  Animalia   \n",
       "2  Polychaeta     Sabellidae     Eudistylia  2.0  Animalia   \n",
       "3  Polychaeta     Serpulidae     Galeolaria  3.0  Animalia   \n",
       "4  Polychaeta     Serpulidae        Serpula  4.0  Animalia   \n",
       "\n",
       "                        name       order_x  phylum_x supercategory  \\\n",
       "0      Hermodice carunculata  Phyllodocida  Annelida      Animalia   \n",
       "1  Phragmatopoma californica     Sabellida  Annelida      Animalia   \n",
       "2      Eudistylia vancouveri     Sabellida  Annelida      Animalia   \n",
       "3         Galeolaria hystrix     Sabellida  Annelida      Animalia   \n",
       "4         Serpula columbiana     Sabellida  Annelida      Animalia   \n",
       "\n",
       "                      dir18 order_y dir19        commonname  yose_score  \\\n",
       "0  train_val2018/Animalia/0     NaN   NaN  Bearded fireworm          67   \n",
       "1  train_val2018/Animalia/1     NaN   NaN               NaN          88   \n",
       "2  train_val2018/Animalia/2     NaN   NaN               NaN          59   \n",
       "3  train_val2018/Animalia/3     NaN   NaN               NaN          65   \n",
       "4  train_val2018/Animalia/4     NaN   NaN               NaN          72   \n",
       "\n",
       "  yose_join  \n",
       "0      None  \n",
       "1      None  \n",
       "2      None  \n",
       "3      None  \n",
       "4      None  "
      ]
     },
     "execution_count": 196,
     "metadata": {},
     "output_type": "execute_result"
    }
   ],
   "source": [
    "df1.head()"
   ]
  },
  {
   "cell_type": "code",
   "execution_count": 197,
   "metadata": {},
   "outputs": [
    {
     "data": {
      "text/plain": [
       "Index(['Park Code', 'Category', 'Order', 'Family', 'Taxa Code',\n",
       "       'Scientific Name', 'Synonyms', 'Common Name', 'Occurrence',\n",
       "       'Occurrence Tags', 'Abundance', 'Nativeness', 'Nativeness Tags',\n",
       "       'Record Status'],\n",
       "      dtype='object')"
      ]
     },
     "execution_count": 197,
     "metadata": {},
     "output_type": "execute_result"
    }
   ],
   "source": [
    "yose.columns"
   ]
  },
  {
   "cell_type": "code",
   "execution_count": 198,
   "metadata": {},
   "outputs": [],
   "source": [
    "yose_sub = yose[['Scientific Name', 'Synonyms', 'Common Name', 'Occurrence',\n",
    "       'Occurrence Tags', 'Abundance', 'Nativeness', 'Nativeness Tags']]"
   ]
  },
  {
   "cell_type": "code",
   "execution_count": 199,
   "metadata": {},
   "outputs": [],
   "source": [
    "dfm = pd.merge(df1, yose_sub, how=\"left\", left_on=\"yose_join\", right_on=\"Scientific Name\")"
   ]
  },
  {
   "cell_type": "code",
   "execution_count": 175,
   "metadata": {},
   "outputs": [],
   "source": [
    "# get class counts (remove marine classes below)\n",
    "# dfm[\"class_x\"].value_counts()   # exported marine_classes to txt\n"
   ]
  },
  {
   "cell_type": "markdown",
   "metadata": {},
   "source": [
    "### Flag Irrelevant Classes \n",
    "\n",
    "E.g. flag marine classes. Consider more granular separation (e.g. could remove orders like dolphins and whales from mammals)"
   ]
  },
  {
   "cell_type": "code",
   "execution_count": 200,
   "metadata": {},
   "outputs": [],
   "source": [
    "marine_classes = [\"Actinopterygii\",\"Malacostraca\",\"Bivalvia\",\n",
    "\"Elasmobranchii\",\"Phaeophyceae\",\"Anthozoa\",\"Asteroidea\",\n",
    "\"Polyplacophora\",\"Florideophyceae\",\"Hexanauplia\",\n",
    "\"Echinoidea\",\"Cephalopoda\",\"Polychaeta\",\"Ascidiacea\",\n",
    "\"Ulvophyceae\",\"Hydrozoa\",\"Holothuroidea\",\"Ophiuroidea\",\n",
    "\"Scyphozoa\",\"Zygomycetes\",\"Jungermanniopsida\",\"Merostomata\",\n",
    "\"Rhabditophora\",\"Phascolosomatidea\",\n",
    "\"Compsopogonophyceae\",\"Cyanophyceae\",\"Gymnolaemata\"]"
   ]
  },
  {
   "cell_type": "code",
   "execution_count": 204,
   "metadata": {},
   "outputs": [],
   "source": [
    "# mark classes we don't expect to encounter\n",
    "dfm.loc[dfm['class_x'].isin(marine_classes), 'marine'] = True"
   ]
  },
  {
   "cell_type": "code",
   "execution_count": 214,
   "metadata": {},
   "outputs": [
    {
     "data": {
      "text/html": [
       "<div>\n",
       "<style scoped>\n",
       "    .dataframe tbody tr th:only-of-type {\n",
       "        vertical-align: middle;\n",
       "    }\n",
       "\n",
       "    .dataframe tbody tr th {\n",
       "        vertical-align: top;\n",
       "    }\n",
       "\n",
       "    .dataframe thead th {\n",
       "        text-align: right;\n",
       "    }\n",
       "</style>\n",
       "<table border=\"1\" class=\"dataframe\">\n",
       "  <thead>\n",
       "    <tr style=\"text-align: right;\">\n",
       "      <th></th>\n",
       "      <th>class_x</th>\n",
       "      <th>family_x</th>\n",
       "      <th>genus_x</th>\n",
       "      <th>id</th>\n",
       "      <th>kingdom_x</th>\n",
       "      <th>name</th>\n",
       "      <th>order_x</th>\n",
       "      <th>phylum_x</th>\n",
       "      <th>supercategory</th>\n",
       "      <th>dir18</th>\n",
       "      <th>...</th>\n",
       "      <th>yose_join</th>\n",
       "      <th>Scientific Name</th>\n",
       "      <th>Synonyms</th>\n",
       "      <th>Common Name</th>\n",
       "      <th>Occurrence</th>\n",
       "      <th>Occurrence Tags</th>\n",
       "      <th>Abundance</th>\n",
       "      <th>Nativeness</th>\n",
       "      <th>Nativeness Tags</th>\n",
       "      <th>marine</th>\n",
       "    </tr>\n",
       "  </thead>\n",
       "  <tbody>\n",
       "    <tr>\n",
       "      <th>8512</th>\n",
       "      <td>Pinopsida</td>\n",
       "      <td>Pinaceae</td>\n",
       "      <td>Pinus</td>\n",
       "      <td>NaN</td>\n",
       "      <td>Plantae</td>\n",
       "      <td>Pinus echinata</td>\n",
       "      <td>Pinales</td>\n",
       "      <td>Tracheophyta</td>\n",
       "      <td>NaN</td>\n",
       "      <td>NaN</td>\n",
       "      <td>...</td>\n",
       "      <td>None</td>\n",
       "      <td>NaN</td>\n",
       "      <td>NaN</td>\n",
       "      <td>NaN</td>\n",
       "      <td>NaN</td>\n",
       "      <td>NaN</td>\n",
       "      <td>NaN</td>\n",
       "      <td>NaN</td>\n",
       "      <td>NaN</td>\n",
       "      <td>NaN</td>\n",
       "    </tr>\n",
       "    <tr>\n",
       "      <th>8513</th>\n",
       "      <td>Pinopsida</td>\n",
       "      <td>Pinaceae</td>\n",
       "      <td>Pinus</td>\n",
       "      <td>NaN</td>\n",
       "      <td>Plantae</td>\n",
       "      <td>Pinus sylvestris</td>\n",
       "      <td>Pinales</td>\n",
       "      <td>Tracheophyta</td>\n",
       "      <td>NaN</td>\n",
       "      <td>NaN</td>\n",
       "      <td>...</td>\n",
       "      <td>None</td>\n",
       "      <td>NaN</td>\n",
       "      <td>NaN</td>\n",
       "      <td>NaN</td>\n",
       "      <td>NaN</td>\n",
       "      <td>NaN</td>\n",
       "      <td>NaN</td>\n",
       "      <td>NaN</td>\n",
       "      <td>NaN</td>\n",
       "      <td>NaN</td>\n",
       "    </tr>\n",
       "    <tr>\n",
       "      <th>8514</th>\n",
       "      <td>Polypodiopsida</td>\n",
       "      <td>Aspleniaceae</td>\n",
       "      <td>Asplenium</td>\n",
       "      <td>NaN</td>\n",
       "      <td>Plantae</td>\n",
       "      <td>Asplenium flabellifolium</td>\n",
       "      <td>Polypodiales</td>\n",
       "      <td>Tracheophyta</td>\n",
       "      <td>NaN</td>\n",
       "      <td>NaN</td>\n",
       "      <td>...</td>\n",
       "      <td>None</td>\n",
       "      <td>NaN</td>\n",
       "      <td>NaN</td>\n",
       "      <td>NaN</td>\n",
       "      <td>NaN</td>\n",
       "      <td>NaN</td>\n",
       "      <td>NaN</td>\n",
       "      <td>NaN</td>\n",
       "      <td>NaN</td>\n",
       "      <td>NaN</td>\n",
       "    </tr>\n",
       "    <tr>\n",
       "      <th>8515</th>\n",
       "      <td>Polypodiopsida</td>\n",
       "      <td>Aspleniaceae</td>\n",
       "      <td>Asplenium</td>\n",
       "      <td>NaN</td>\n",
       "      <td>Plantae</td>\n",
       "      <td>Asplenium ruta-muraria</td>\n",
       "      <td>Polypodiales</td>\n",
       "      <td>Tracheophyta</td>\n",
       "      <td>NaN</td>\n",
       "      <td>NaN</td>\n",
       "      <td>...</td>\n",
       "      <td>None</td>\n",
       "      <td>NaN</td>\n",
       "      <td>NaN</td>\n",
       "      <td>NaN</td>\n",
       "      <td>NaN</td>\n",
       "      <td>NaN</td>\n",
       "      <td>NaN</td>\n",
       "      <td>NaN</td>\n",
       "      <td>NaN</td>\n",
       "      <td>NaN</td>\n",
       "    </tr>\n",
       "    <tr>\n",
       "      <th>8516</th>\n",
       "      <td>Polypodiopsida</td>\n",
       "      <td>Aspleniaceae</td>\n",
       "      <td>Asplenium</td>\n",
       "      <td>NaN</td>\n",
       "      <td>Plantae</td>\n",
       "      <td>Asplenium nidus</td>\n",
       "      <td>Polypodiales</td>\n",
       "      <td>Tracheophyta</td>\n",
       "      <td>NaN</td>\n",
       "      <td>NaN</td>\n",
       "      <td>...</td>\n",
       "      <td>None</td>\n",
       "      <td>NaN</td>\n",
       "      <td>NaN</td>\n",
       "      <td>NaN</td>\n",
       "      <td>NaN</td>\n",
       "      <td>NaN</td>\n",
       "      <td>NaN</td>\n",
       "      <td>NaN</td>\n",
       "      <td>NaN</td>\n",
       "      <td>NaN</td>\n",
       "    </tr>\n",
       "  </tbody>\n",
       "</table>\n",
       "<p>5 rows × 24 columns</p>\n",
       "</div>"
      ],
      "text/plain": [
       "             class_x      family_x    genus_x  id kingdom_x  \\\n",
       "8512       Pinopsida      Pinaceae      Pinus NaN   Plantae   \n",
       "8513       Pinopsida      Pinaceae      Pinus NaN   Plantae   \n",
       "8514  Polypodiopsida  Aspleniaceae  Asplenium NaN   Plantae   \n",
       "8515  Polypodiopsida  Aspleniaceae  Asplenium NaN   Plantae   \n",
       "8516  Polypodiopsida  Aspleniaceae  Asplenium NaN   Plantae   \n",
       "\n",
       "                          name       order_x      phylum_x supercategory  \\\n",
       "8512            Pinus echinata       Pinales  Tracheophyta           NaN   \n",
       "8513          Pinus sylvestris       Pinales  Tracheophyta           NaN   \n",
       "8514  Asplenium flabellifolium  Polypodiales  Tracheophyta           NaN   \n",
       "8515    Asplenium ruta-muraria  Polypodiales  Tracheophyta           NaN   \n",
       "8516           Asplenium nidus  Polypodiales  Tracheophyta           NaN   \n",
       "\n",
       "     dir18  ... yose_join Scientific Name Synonyms  Common Name Occurrence  \\\n",
       "8512   NaN  ...      None             NaN      NaN          NaN        NaN   \n",
       "8513   NaN  ...      None             NaN      NaN          NaN        NaN   \n",
       "8514   NaN  ...      None             NaN      NaN          NaN        NaN   \n",
       "8515   NaN  ...      None             NaN      NaN          NaN        NaN   \n",
       "8516   NaN  ...      None             NaN      NaN          NaN        NaN   \n",
       "\n",
       "     Occurrence Tags Abundance Nativeness Nativeness Tags marine  \n",
       "8512             NaN       NaN        NaN             NaN    NaN  \n",
       "8513             NaN       NaN        NaN             NaN    NaN  \n",
       "8514             NaN       NaN        NaN             NaN    NaN  \n",
       "8515             NaN       NaN        NaN             NaN    NaN  \n",
       "8516             NaN       NaN        NaN             NaN    NaN  \n",
       "\n",
       "[5 rows x 24 columns]"
      ]
     },
     "execution_count": 214,
     "metadata": {},
     "output_type": "execute_result"
    }
   ],
   "source": [
    "dfm.tail()"
   ]
  },
  {
   "cell_type": "markdown",
   "metadata": {},
   "source": [
    "### Create Labels\n",
    "\n",
    "Initially set up labels to use common name where it exists, but that created issues due to length and special characters. Using binomial name instead. Will use join later to get labels that are displayed in app."
   ]
  },
  {
   "cell_type": "code",
   "execution_count": 217,
   "metadata": {},
   "outputs": [],
   "source": [
    "# set label to common name or sci name if doesn't exist\n",
    "dfm['label']=dfm.name\n",
    "dfm.loc[dfm[\"commonname\"].notnull(),'label'] = dfm[\"commonname\"]"
   ]
  },
  {
   "cell_type": "code",
   "execution_count": 219,
   "metadata": {},
   "outputs": [
    {
     "data": {
      "text/plain": [
       "0             Bearded fireworm\n",
       "1    Phragmatopoma californica\n",
       "2        Eudistylia vancouveri\n",
       "3           Galeolaria hystrix\n",
       "4           Serpula columbiana\n",
       "Name: label, dtype: object"
      ]
     },
     "execution_count": 219,
     "metadata": {},
     "output_type": "execute_result"
    }
   ],
   "source": [
    "dfm[\"label\"].head()"
   ]
  },
  {
   "cell_type": "code",
   "execution_count": 230,
   "metadata": {},
   "outputs": [],
   "source": [
    "# 29 species had Common Name from yose dataset that wasn't in orig, changing label for those\n",
    "dfm.loc[(dfm[\"commonname\"].isnull())&(dfm[\"Common Name\"].notnull()), 'label'] = dfm[\"Common Name\"]"
   ]
  },
  {
   "cell_type": "code",
   "execution_count": 231,
   "metadata": {},
   "outputs": [],
   "source": [
    "# exporting to csv\n",
    "dfm.to_csv(\"speciesDB_full.csv\",index=False)"
   ]
  },
  {
   "cell_type": "code",
   "execution_count": 232,
   "metadata": {},
   "outputs": [],
   "source": [
    "# df nonmarine (exclude marine species)\n",
    "df_nm = dfm[dfm.marine.isnull()]"
   ]
  },
  {
   "cell_type": "code",
   "execution_count": 301,
   "metadata": {},
   "outputs": [],
   "source": [
    "# Yosemite species only table\n",
    "df_yose = df_nm[df_nm.yose_join.notnull()]"
   ]
  },
  {
   "cell_type": "code",
   "execution_count": 234,
   "metadata": {},
   "outputs": [
    {
     "data": {
      "text/plain": [
       "(680, 24)"
      ]
     },
     "execution_count": 234,
     "metadata": {},
     "output_type": "execute_result"
    }
   ],
   "source": [
    "# 680 species in iNat\n",
    "df_yose.shape"
   ]
  },
  {
   "cell_type": "code",
   "execution_count": 235,
   "metadata": {},
   "outputs": [
    {
     "data": {
      "text/plain": [
       "(7870, 25)"
      ]
     },
     "execution_count": 235,
     "metadata": {},
     "output_type": "execute_result"
    }
   ],
   "source": [
    "df_nm.shape"
   ]
  },
  {
   "cell_type": "code",
   "execution_count": 244,
   "metadata": {},
   "outputs": [],
   "source": [
    "# df_cf stands for the cloudfile paths\n",
    "df_cf = pd.read_csv(r\"C:\\Users\\gjack\\Documents\\GitHub\\Nature-Scavenger-Hunt\\Data\\iNat\\cloudfiles.txt\",\n",
    "                    header=None, names=['pth'])"
   ]
  },
  {
   "cell_type": "code",
   "execution_count": 332,
   "metadata": {},
   "outputs": [
    {
     "data": {
      "text/plain": [
       "704963"
      ]
     },
     "execution_count": 332,
     "metadata": {},
     "output_type": "execute_result"
    }
   ],
   "source": [
    "# total no of pics\n",
    "df_cf.loc[df_cf['pth'].str.endswith(\"jpg\")].shape[0]"
   ]
  },
  {
   "cell_type": "code",
   "execution_count": 256,
   "metadata": {},
   "outputs": [
    {
     "data": {
      "text/plain": [
       "8515"
      ]
     },
     "execution_count": 256,
     "metadata": {},
     "output_type": "execute_result"
    }
   ],
   "source": [
    "# need to remove anything that doesn't end in jpg\n",
    "# check to make sure no of species makes sense (removing one extra line per species)\n",
    "df_cf.shape[0]-df_cf.loc[df_cf['pth'].str.endswith(\"jpg\")].shape[0]"
   ]
  },
  {
   "cell_type": "code",
   "execution_count": 268,
   "metadata": {},
   "outputs": [],
   "source": [
    "df_cfj=df_cf.loc[df_cf['pth'].str.endswith(\"jpg\")]"
   ]
  },
  {
   "cell_type": "code",
   "execution_count": 333,
   "metadata": {},
   "outputs": [
    {
     "name": "stderr",
     "output_type": "stream",
     "text": [
      "C:\\Users\\gjack\\Anaconda3\\lib\\site-packages\\ipykernel_launcher.py:3: SettingWithCopyWarning: \n",
      "A value is trying to be set on a copy of a slice from a DataFrame.\n",
      "Try using .loc[row_indexer,col_indexer] = value instead\n",
      "\n",
      "See the caveats in the documentation: http://pandas.pydata.org/pandas-docs/stable/indexing.html#indexing-view-versus-copy\n",
      "  This is separate from the ipykernel package so we can avoid doing imports until\n"
     ]
    }
   ],
   "source": [
    "# create column of binomial name (should match iNat name)\n",
    "# df_cfj will join binomial name extracted from pth w main table\n",
    "df_cfj[\"_biname\"]=df_cfj.pth.apply(lambda x: x.split(\"/\")[-2])\n",
    "df_cfj._biname = df_cfj._biname.apply(lambda x: x.replace(\"_\",\" \"))"
   ]
  },
  {
   "cell_type": "code",
   "execution_count": 335,
   "metadata": {},
   "outputs": [
    {
     "data": {
      "text/html": [
       "<div>\n",
       "<style scoped>\n",
       "    .dataframe tbody tr th:only-of-type {\n",
       "        vertical-align: middle;\n",
       "    }\n",
       "\n",
       "    .dataframe tbody tr th {\n",
       "        vertical-align: top;\n",
       "    }\n",
       "\n",
       "    .dataframe thead th {\n",
       "        text-align: right;\n",
       "    }\n",
       "</style>\n",
       "<table border=\"1\" class=\"dataframe\">\n",
       "  <thead>\n",
       "    <tr style=\"text-align: right;\">\n",
       "      <th></th>\n",
       "      <th>pth</th>\n",
       "      <th>_biname</th>\n",
       "    </tr>\n",
       "  </thead>\n",
       "  <tbody>\n",
       "    <tr>\n",
       "      <th>1</th>\n",
       "      <td>gs://poetic-orb-251401-vcm/Abaeis_nicippe/0228...</td>\n",
       "      <td>Abaeis nicippe</td>\n",
       "    </tr>\n",
       "  </tbody>\n",
       "</table>\n",
       "</div>"
      ],
      "text/plain": [
       "                                                 pth         _biname\n",
       "1  gs://poetic-orb-251401-vcm/Abaeis_nicippe/0228...  Abaeis nicippe"
      ]
     },
     "execution_count": 335,
     "metadata": {},
     "output_type": "execute_result"
    }
   ],
   "source": [
    "df_cfj.head(1)"
   ]
  },
  {
   "cell_type": "code",
   "execution_count": null,
   "metadata": {},
   "outputs": [],
   "source": [
    "# create a negative label for species not in yosemite\n",
    "df_nm['neglbl'] = df_nm[\"name\"]\n",
    "df_nm.loc[df_nm[\"yose_join\"].isnull(),\"neglbl\"] = \"negclass\""
   ]
  },
  {
   "cell_type": "markdown",
   "metadata": {},
   "source": [
    "### Export path data \n",
    "Export format is csv [filepath, label]. \n",
    "\n",
    "3 different setups used: \n",
    "- all species each with binomial label\n",
    "- all species with non-yosemite annotated as negclass\n",
    "- yosemite species only"
   ]
  },
  {
   "cell_type": "code",
   "execution_count": 372,
   "metadata": {},
   "outputs": [],
   "source": [
    "# unintentionally removes one species (22 pics of salix fragilis due to ascii issue)\n",
    "df_pthlbl = pd.merge(df_cfj,df_nm[[\"name\",\"label\",\"neglbl\"]], left_on=\"_biname\",right_on=\"name\", how=\"inner\")"
   ]
  },
  {
   "cell_type": "code",
   "execution_count": 373,
   "metadata": {},
   "outputs": [],
   "source": [
    "df_pthlbl_all = df_pthlbl[['pth','name']]\n",
    "df_pthlbl_neg = df_pthlbl[['pth','neglbl']]"
   ]
  },
  {
   "cell_type": "code",
   "execution_count": 374,
   "metadata": {},
   "outputs": [
    {
     "data": {
      "text/html": [
       "<div>\n",
       "<style scoped>\n",
       "    .dataframe tbody tr th:only-of-type {\n",
       "        vertical-align: middle;\n",
       "    }\n",
       "\n",
       "    .dataframe tbody tr th {\n",
       "        vertical-align: top;\n",
       "    }\n",
       "\n",
       "    .dataframe thead th {\n",
       "        text-align: right;\n",
       "    }\n",
       "</style>\n",
       "<table border=\"1\" class=\"dataframe\">\n",
       "  <thead>\n",
       "    <tr style=\"text-align: right;\">\n",
       "      <th></th>\n",
       "      <th>pth</th>\n",
       "      <th>neglbl</th>\n",
       "    </tr>\n",
       "  </thead>\n",
       "  <tbody>\n",
       "    <tr>\n",
       "      <th>0</th>\n",
       "      <td>gs://poetic-orb-251401-vcm/Abaeis_nicippe/0228...</td>\n",
       "      <td>negclass</td>\n",
       "    </tr>\n",
       "    <tr>\n",
       "      <th>1</th>\n",
       "      <td>gs://poetic-orb-251401-vcm/Abaeis_nicippe/0278...</td>\n",
       "      <td>negclass</td>\n",
       "    </tr>\n",
       "    <tr>\n",
       "      <th>2</th>\n",
       "      <td>gs://poetic-orb-251401-vcm/Abaeis_nicippe/06b8...</td>\n",
       "      <td>negclass</td>\n",
       "    </tr>\n",
       "    <tr>\n",
       "      <th>3</th>\n",
       "      <td>gs://poetic-orb-251401-vcm/Abaeis_nicippe/0af5...</td>\n",
       "      <td>negclass</td>\n",
       "    </tr>\n",
       "    <tr>\n",
       "      <th>4</th>\n",
       "      <td>gs://poetic-orb-251401-vcm/Abaeis_nicippe/0cde...</td>\n",
       "      <td>negclass</td>\n",
       "    </tr>\n",
       "  </tbody>\n",
       "</table>\n",
       "</div>"
      ],
      "text/plain": [
       "                                                 pth    neglbl\n",
       "0  gs://poetic-orb-251401-vcm/Abaeis_nicippe/0228...  negclass\n",
       "1  gs://poetic-orb-251401-vcm/Abaeis_nicippe/0278...  negclass\n",
       "2  gs://poetic-orb-251401-vcm/Abaeis_nicippe/06b8...  negclass\n",
       "3  gs://poetic-orb-251401-vcm/Abaeis_nicippe/0af5...  negclass\n",
       "4  gs://poetic-orb-251401-vcm/Abaeis_nicippe/0cde...  negclass"
      ]
     },
     "execution_count": 374,
     "metadata": {},
     "output_type": "execute_result"
    }
   ],
   "source": [
    "df_pthlbl_neg.head()"
   ]
  },
  {
   "cell_type": "code",
   "execution_count": 381,
   "metadata": {},
   "outputs": [
    {
     "data": {
      "text/plain": [
       "0"
      ]
     },
     "execution_count": 381,
     "metadata": {},
     "output_type": "execute_result"
    }
   ],
   "source": [
    "df_pthlbl_neg.neglbl.apply(lambda x: len(x)>32).sum()"
   ]
  },
  {
   "cell_type": "code",
   "execution_count": 378,
   "metadata": {},
   "outputs": [
    {
     "name": "stderr",
     "output_type": "stream",
     "text": [
      "C:\\Users\\gjack\\Anaconda3\\lib\\site-packages\\pandas\\core\\indexing.py:190: SettingWithCopyWarning: \n",
      "A value is trying to be set on a copy of a slice from a DataFrame\n",
      "\n",
      "See the caveats in the documentation: http://pandas.pydata.org/pandas-docs/stable/indexing.html#indexing-view-versus-copy\n",
      "  self._setitem_with_indexer(indexer, value)\n",
      "C:\\Users\\gjack\\Anaconda3\\lib\\site-packages\\ipykernel_launcher.py:1: SettingWithCopyWarning: \n",
      "A value is trying to be set on a copy of a slice from a DataFrame\n",
      "\n",
      "See the caveats in the documentation: http://pandas.pydata.org/pandas-docs/stable/indexing.html#indexing-view-versus-copy\n",
      "  \"\"\"Entry point for launching an IPython kernel.\n"
     ]
    }
   ],
   "source": [
    "df_pthlbl_all.loc[df_pthlbl_all.name.apply(lambda x: len(x)>32),\"name\"] = df_pthlbl_xp.name.apply(lambda x: x[:32])"
   ]
  },
  {
   "cell_type": "code",
   "execution_count": 380,
   "metadata": {},
   "outputs": [
    {
     "data": {
      "text/plain": [
       "686773"
      ]
     },
     "execution_count": 380,
     "metadata": {},
     "output_type": "execute_result"
    }
   ],
   "source": [
    "# check to make sure all pics have alphanumeric labels\n",
    "alphachk = pd.DataFrame(df_pthlbl_all.name.str.replace(\"-\",\"\"))\n",
    "alphachk['name'].str.replace(\" \",\"\").str.isalpha().sum()"
   ]
  },
  {
   "cell_type": "code",
   "execution_count": 379,
   "metadata": {},
   "outputs": [
    {
     "data": {
      "text/plain": [
       "0"
      ]
     },
     "execution_count": 379,
     "metadata": {},
     "output_type": "execute_result"
    }
   ],
   "source": [
    "# all label length < 32\n",
    "df_pthlbl_all.name.apply(lambda x: len(x)>32).sum()"
   ]
  },
  {
   "cell_type": "code",
   "execution_count": 367,
   "metadata": {},
   "outputs": [],
   "source": [
    "df_pthlbl_all.to_csv(\"cloud_pthlblxp.csv\",encoding=\"utf-8\",header=None, index=False)"
   ]
  },
  {
   "cell_type": "code",
   "execution_count": 302,
   "metadata": {},
   "outputs": [],
   "source": [
    "df_pthlbl_yoseonly = pd.merge(df_cfj,df_yose[[\"name\",\"label\"]], left_on=\"_biname\",right_on=\"name\", how=\"inner\")"
   ]
  },
  {
   "cell_type": "code",
   "execution_count": 304,
   "metadata": {},
   "outputs": [
    {
     "data": {
      "text/plain": [
       "(165322, 4)"
      ]
     },
     "execution_count": 304,
     "metadata": {},
     "output_type": "execute_result"
    }
   ],
   "source": [
    "# ~165K images for species in Yosemite\n",
    "df_pthlbl_yoseonly.shape"
   ]
  },
  {
   "cell_type": "code",
   "execution_count": 305,
   "metadata": {},
   "outputs": [],
   "source": [
    "df_pthlbl_yoseonly = df_pthlbl_yoseonly[['pth','label']]"
   ]
  },
  {
   "cell_type": "code",
   "execution_count": 306,
   "metadata": {},
   "outputs": [],
   "source": [
    "df_pthlbl_yoseonly.to_csv(\"cloud_pthlbl_yoseonly.csv\",encoding=\"utf-8\",header=None, index=False)"
   ]
  },
  {
   "cell_type": "code",
   "execution_count": 382,
   "metadata": {},
   "outputs": [],
   "source": [
    "df_pthlbl_neg.to_csv(\"cloud_pthlbl_negcls.csv\", encoding=\"utf-8\", header=None, index=False)"
   ]
  }
 ],
 "metadata": {
  "kernelspec": {
   "display_name": "Python 3",
   "language": "python",
   "name": "python3"
  },
  "language_info": {
   "codemirror_mode": {
    "name": "ipython",
    "version": 3
   },
   "file_extension": ".py",
   "mimetype": "text/x-python",
   "name": "python",
   "nbconvert_exporter": "python",
   "pygments_lexer": "ipython3",
   "version": "3.7.3"
  }
 },
 "nbformat": 4,
 "nbformat_minor": 4
}
