{
 "cells": [
  {
   "cell_type": "markdown",
   "metadata": {},
   "source": [
    "## Selecting and Preprocessing iNaturalist Data"
   ]
  },
  {
   "cell_type": "code",
   "execution_count": 1,
   "metadata": {},
   "outputs": [],
   "source": [
    "import json\n",
    "import pandas as pd"
   ]
  },
  {
   "cell_type": "code",
   "execution_count": 2,
   "metadata": {},
   "outputs": [],
   "source": [
    "# load the data\n",
    "with open('train2019.json') as json_file:\n",
    "    data2019 = json.load(json_file)\n",
    "with open('categories2019.json') as json_file:\n",
    "    cat2019 = json.load(json_file)\n",
    "with open('train2018.json') as json_file:\n",
    "    data2018 = json.load(json_file)\n",
    "with open('categories2018.json') as json_file:\n",
    "    cat2018 = json.load(json_file)"
   ]
  },
  {
   "cell_type": "code",
   "execution_count": 3,
   "metadata": {},
   "outputs": [
    {
     "data": {
      "text/plain": [
       "dict_keys(['info', 'images', 'licenses', 'annotations', 'categories'])"
      ]
     },
     "execution_count": 3,
     "metadata": {},
     "output_type": "execute_result"
    }
   ],
   "source": [
    "# check out what keys are available\n",
    "data2019.keys()"
   ]
  },
  {
   "cell_type": "code",
   "execution_count": 4,
   "metadata": {},
   "outputs": [],
   "source": [
    "# get numeric ID from binomial name\n",
    "def getID(binom_name, cat=cat2019):\n",
    "    for row in cat:\n",
    "        if row['name'].lower() == binom_name.lower():\n",
    "            print(row['id'])"
   ]
  },
  {
   "cell_type": "code",
   "execution_count": 5,
   "metadata": {},
   "outputs": [
    {
     "name": "stdout",
     "output_type": "stream",
     "text": [
      "405\n"
     ]
    }
   ],
   "source": [
    "getID(\"acer macrophyllum\")"
   ]
  },
  {
   "cell_type": "code",
   "execution_count": 6,
   "metadata": {},
   "outputs": [],
   "source": [
    "# key is binomial name, returns tuple (common name, (2019_id,2018_id))\n",
    "species_map = {\"Corvus Corax\": (\"Raven\", (212, 3278)),\n",
    "\"Sceloporus Occidentalis\": (\"Western Fence Lizard\", (165, 4436)),\n",
    "\"Quercus Kelloggii\": (\"Black Oak\", (657, 6851)),\n",
    "\"Cornus Nuttallii\": (\"Pacific Dogwood\", (442, None)),\n",
    "\"Asclepias Speciosa\": (\"Milkweed\", (68, 6904)),\n",
    "\"Pinus Ponderosa\": (\"Ponderosa Pine\", (981, 7963)),\n",
    "\"Castilleja Miniata\": (\"Giant Red Paintbrush\", (736, None)),\n",
    "\"Toxicodendron Diversilobum\": (\"Poison Oak\", (None, 7741)),\n",
    "\"Odocoileus Hemionus\": (\"Mule Deer\", (None, 4068)),\n",
    "\"Sequoiadendron Giganteum\":(\"Redwood Tree\", (None, 7935) ),\n",
    "\"Sarcodes Sanguinea\": (\"Snowplant\", (None, 6607)),\n",
    "\"Calocedrus Decurrens\":(\"California Incense Cedar\", (None,7920)),\n",
    "\"Eschscholzia Californica\": (\"California Poppy\", (None, 7512)),\n",
    "\"Juniperus Occidentalis\": (\"Western Juniper\", (None, 7930)),\n",
    "\"Pinus Albicaulis\": (\"White Bark Pine\", (None,7949)),\n",
    "\"Pinus Sabiniana\": (\"Digger Pine\", (None,7966)),\n",
    "\"Quercus Lobata\": (\"Valley Oak\", (None, 6853)),\n",
    "\"Pinus Attenuata\": (\"Knobcone Pine\", (None,7950)),\n",
    "\"Aesculus Californica\": (\"California Buckeye\", (None,7767)),\n",
    "\"Umbellularia Californica\": (\"California Laurel\", (None,7246)),\n",
    "\"Torreya Californica\": (\"California Nutmeg\", (None,7979)),\n",
    "\"Pseudotsuga Menziesii\": (\"Douglas Fir\", (None,7971)),\n",
    "\"Acer Macrophyllum\": (\"Broadleaf Maple\", (None,7757)),\n",
    "\"Populus Tremuloides\": (\"Quaking Aspen\", (None,7330))\n",
    "}"
   ]
  },
  {
   "cell_type": "code",
   "execution_count": 207,
   "metadata": {},
   "outputs": [],
   "source": [
    "def getDirectory(year=2019, species_map=species_map):\n",
    "    '''returns tuple of common name and dir'''\n",
    "\n",
    "    data = eval(\"data\"+str(year))\n",
    "    dirs = []\n",
    "    for keys in species_map.keys():\n",
    "        common_name = species_map[keys][0]\n",
    "        if year == 2019:\n",
    "            key = species_map[keys][1][0]\n",
    "        elif year == 2018:\n",
    "            key = species_map[keys][1][1]\n",
    "        try:\n",
    "            # join and split token\n",
    "            s =\"/\"\n",
    "            # get dirname if numeric ID key matches key from species dict\n",
    "            dirname = [s.join(row[\"file_name\"].split(\"/\")[:3]) for row in data[\"images\"] if row[\"file_name\"].split(\"/\")[2]==str(key)]\n",
    "            dirs.append((keys, common_name, dirname[0]))\n",
    "        except:\n",
    "            pass\n",
    "    return dirs"
   ]
  },
  {
   "cell_type": "markdown",
   "metadata": {},
   "source": [
    "### List of directories for species in list"
   ]
  },
  {
   "cell_type": "code",
   "execution_count": 206,
   "metadata": {},
   "outputs": [
    {
     "data": {
      "text/plain": [
       "[('Corvus Corax', 'Raven', 'train_val2018/Aves/3278'),\n",
       " ('Sceloporus Occidentalis',\n",
       "  'Western Fence Lizard',\n",
       "  'train_val2018/Reptilia/4436'),\n",
       " ('Quercus Kelloggii', 'Black Oak', 'train_val2018/Plantae/6851'),\n",
       " ('Asclepias Speciosa', 'Milkweed', 'train_val2018/Plantae/6904'),\n",
       " ('Pinus Ponderosa', 'Ponderosa Pine', 'train_val2018/Plantae/7963'),\n",
       " ('Toxicodendron Diversilobum', 'Poison Oak', 'train_val2018/Plantae/7741'),\n",
       " ('Odocoileus Hemionus', 'Mule Deer', 'train_val2018/Mammalia/4068'),\n",
       " ('Sequoiadendron Giganteum', 'Redwood Tree', 'train_val2018/Plantae/7935'),\n",
       " ('Sarcodes Sanguinea', 'Snowplant', 'train_val2018/Plantae/6607'),\n",
       " ('Calocedrus Decurrens',\n",
       "  'California Incense Cedar',\n",
       "  'train_val2018/Plantae/7920'),\n",
       " ('Eschscholzia Californica',\n",
       "  'California Poppy',\n",
       "  'train_val2018/Plantae/7512'),\n",
       " ('Juniperus Occidentalis', 'Western Juniper', 'train_val2018/Plantae/7930'),\n",
       " ('Pinus Albicaulis', 'White Bark Pine', 'train_val2018/Plantae/7949'),\n",
       " ('Pinus Sabiniana', 'Digger Pine', 'train_val2018/Plantae/7966'),\n",
       " ('Quercus Lobata', 'Valley Oak', 'train_val2018/Plantae/6853'),\n",
       " ('Pinus Attenuata', 'Knobcone Pine', 'train_val2018/Plantae/7950'),\n",
       " ('Aesculus Californica', 'California Buckeye', 'train_val2018/Plantae/7767'),\n",
       " ('Umbellularia Californica',\n",
       "  'California Laurel',\n",
       "  'train_val2018/Plantae/7246'),\n",
       " ('Torreya Californica', 'California Nutmeg', 'train_val2018/Plantae/7979'),\n",
       " ('Pseudotsuga Menziesii', 'Douglas Fir', 'train_val2018/Plantae/7971'),\n",
       " ('Acer Macrophyllum', 'Broadleaf Maple', 'train_val2018/Plantae/7757'),\n",
       " ('Populus Tremuloides', 'Quaking Aspen', 'train_val2018/Plantae/7330')]"
      ]
     },
     "execution_count": 206,
     "metadata": {},
     "output_type": "execute_result"
    }
   ],
   "source": [
    "getDirectory(year=2018)"
   ]
  },
  {
   "cell_type": "code",
   "execution_count": 208,
   "metadata": {},
   "outputs": [
    {
     "data": {
      "text/plain": [
       "[('Corvus Corax', 'Raven', 'train_val2019/Birds/212'),\n",
       " ('Sceloporus Occidentalis',\n",
       "  'Western Fence Lizard',\n",
       "  'train_val2019/Reptiles/165'),\n",
       " ('Quercus Kelloggii', 'Black Oak', 'train_val2019/Plants/657'),\n",
       " ('Cornus Nuttallii', 'Pacific Dogwood', 'train_val2019/Plants/442'),\n",
       " ('Asclepias Speciosa', 'Milkweed', 'train_val2019/Insects/68'),\n",
       " ('Pinus Ponderosa', 'Ponderosa Pine', 'train_val2019/Plants/981'),\n",
       " ('Castilleja Miniata', 'Giant Red Paintbrush', 'train_val2019/Plants/736')]"
      ]
     },
     "execution_count": 208,
     "metadata": {},
     "output_type": "execute_result"
    }
   ],
   "source": [
    "getDirectory(year=2019)"
   ]
  },
  {
   "cell_type": "code",
   "execution_count": 210,
   "metadata": {},
   "outputs": [
    {
     "name": "stdout",
     "output_type": "stream",
     "text": [
      "2018 total images: 437513\n",
      "2019 total images: 265213\n",
      "2018 total species: 8142\n",
      "2019 total species: 1010\n"
     ]
    }
   ],
   "source": [
    "# brief EDA on dataset\n",
    "im_catlist2018 = [str(row['category_id']) for row in data2018['annotations']]\n",
    "im_catlist2019 = [str(row['category_id']) for row in data2019['annotations']]\n",
    "\n",
    "#total image count\n",
    "print(\"2018 total images:\", len(im_catlist2018))\n",
    "print(\"2019 total images:\", len(im_catlist2019))\n",
    "# # unique species\n",
    "print(\"2018 total species:\", len(set(im_catlist2018)))\n",
    "print(\"2019 total species:\", len(set(im_catlist2019)))\n",
    "\n",
    "im_id = [row[\"image_id\"] for row in data[\"annotations\"] if row[\"category_id\"]==212]"
   ]
  },
  {
   "cell_type": "code",
   "execution_count": 211,
   "metadata": {},
   "outputs": [],
   "source": [
    "# how many images in each category?\n",
    "cat_table = pd.Series(im_catlist2018, name=\"category_id\")\n",
    "df_cnt2018 = cat_table.value_counts()\n",
    "cat_table = pd.Series(im_catlist2019, name=\"category_id\")\n",
    "df_cnt2019 = cat_table.value_counts()"
   ]
  },
  {
   "cell_type": "code",
   "execution_count": 212,
   "metadata": {},
   "outputs": [
    {
     "data": {
      "text/plain": [
       "count    8142.000000\n",
       "mean       53.735323\n",
       "std       117.111695\n",
       "min         2.000000\n",
       "25%        16.000000\n",
       "50%        22.000000\n",
       "75%        30.000000\n",
       "max      1000.000000\n",
       "Name: category_id, dtype: float64"
      ]
     },
     "execution_count": 212,
     "metadata": {},
     "output_type": "execute_result"
    }
   ],
   "source": [
    "# many classes have 1000 photos, but avg is closer to 50\n",
    "df_cnt2018.describe()"
   ]
  },
  {
   "cell_type": "code",
   "execution_count": 213,
   "metadata": {},
   "outputs": [
    {
     "data": {
      "text/plain": [
       "count    1010.000000\n",
       "mean      262.587129\n",
       "std       167.614673\n",
       "min        16.000000\n",
       "25%       111.000000\n",
       "50%       212.000000\n",
       "75%       477.750000\n",
       "max       500.000000\n",
       "Name: category_id, dtype: float64"
      ]
     },
     "execution_count": 213,
     "metadata": {},
     "output_type": "execute_result"
    }
   ],
   "source": [
    "# mean closer to 260 photos in 2019 but fewer species\n",
    "df_cnt2019.describe()"
   ]
  },
  {
   "cell_type": "code",
   "execution_count": 214,
   "metadata": {},
   "outputs": [
    {
     "name": "stdout",
     "output_type": "stream",
     "text": [
      "Corvus Corax 677\n"
     ]
    }
   ],
   "source": [
    "# can look look at counts from a given class\n",
    "dirs2018 = getDirectory(2018)\n",
    "dirs2019 = getDirectory(2019)\n",
    "print(dirs2018[0][0], df_cnt.loc[dirs2018[0][2].split(\"/\")[2]])"
   ]
  },
  {
   "cell_type": "code",
   "execution_count": 215,
   "metadata": {},
   "outputs": [],
   "source": [
    "# look at counts from our classes\n",
    "clscnt2018 = [(row[0], df_cnt2018.loc[row[2].split(\"/\")[2]]) for row in dirs2018]\n",
    "clscnt2019 = [(row[0], df_cnt2019.loc[row[2].split(\"/\")[2]]) for row in dirs2019]\n",
    "_df2018 = pd.DataFrame(clscnt2018, columns=[\"binom_name\", \"count2018\"])\n",
    "_df2019 = pd.DataFrame(clscnt2019, columns=[\"binom_name\", \"count2019\"])"
   ]
  },
  {
   "cell_type": "code",
   "execution_count": 216,
   "metadata": {},
   "outputs": [
    {
     "data": {
      "text/html": [
       "<div>\n",
       "<style scoped>\n",
       "    .dataframe tbody tr th:only-of-type {\n",
       "        vertical-align: middle;\n",
       "    }\n",
       "\n",
       "    .dataframe tbody tr th {\n",
       "        vertical-align: top;\n",
       "    }\n",
       "\n",
       "    .dataframe thead th {\n",
       "        text-align: right;\n",
       "    }\n",
       "</style>\n",
       "<table border=\"1\" class=\"dataframe\">\n",
       "  <thead>\n",
       "    <tr style=\"text-align: right;\">\n",
       "      <th></th>\n",
       "      <th>binom_name</th>\n",
       "      <th>count2018</th>\n",
       "    </tr>\n",
       "  </thead>\n",
       "  <tbody>\n",
       "    <tr>\n",
       "      <th>0</th>\n",
       "      <td>Corvus Corax</td>\n",
       "      <td>677</td>\n",
       "    </tr>\n",
       "    <tr>\n",
       "      <th>1</th>\n",
       "      <td>Sceloporus Occidentalis</td>\n",
       "      <td>1000</td>\n",
       "    </tr>\n",
       "    <tr>\n",
       "      <th>2</th>\n",
       "      <td>Quercus Kelloggii</td>\n",
       "      <td>77</td>\n",
       "    </tr>\n",
       "    <tr>\n",
       "      <th>3</th>\n",
       "      <td>Asclepias Speciosa</td>\n",
       "      <td>61</td>\n",
       "    </tr>\n",
       "    <tr>\n",
       "      <th>4</th>\n",
       "      <td>Pinus Ponderosa</td>\n",
       "      <td>57</td>\n",
       "    </tr>\n",
       "  </tbody>\n",
       "</table>\n",
       "</div>"
      ],
      "text/plain": [
       "                binom_name  count2018\n",
       "0             Corvus Corax        677\n",
       "1  Sceloporus Occidentalis       1000\n",
       "2        Quercus Kelloggii         77\n",
       "3       Asclepias Speciosa         61\n",
       "4          Pinus Ponderosa         57"
      ]
     },
     "execution_count": 216,
     "metadata": {},
     "output_type": "execute_result"
    }
   ],
   "source": [
    "_df2018.head()"
   ]
  },
  {
   "cell_type": "code",
   "execution_count": 242,
   "metadata": {},
   "outputs": [],
   "source": [
    "# unifying the tables\n",
    "_dirs2018 = pd.DataFrame(dirs2018, columns=[\"binom_name\",\"common_name\", \"dir2018\"])\n",
    "_dirs2019 = pd.DataFrame(dirs2019, columns=[\"binom_name\",\"common_name\", \"dir2019\"])\n",
    "dirs = pd.merge(_dirs2018,_dirs2019,how=\"outer\",on=[\"binom_name\",\"common_name\"])\n",
    "df = pd.merge(dirs,_df2018, how=\"outer\",on=\"binom_name\")\n",
    "df = pd.merge(df,_df2019, how=\"outer\",on=\"binom_name\")"
   ]
  },
  {
   "cell_type": "code",
   "execution_count": 243,
   "metadata": {},
   "outputs": [],
   "source": [
    "import numpy as np \n",
    "df.replace(np.nan,\"\", regex=True, inplace=True)"
   ]
  },
  {
   "cell_type": "code",
   "execution_count": 341,
   "metadata": {},
   "outputs": [
    {
     "data": {
      "text/html": [
       "<div>\n",
       "<style scoped>\n",
       "    .dataframe tbody tr th:only-of-type {\n",
       "        vertical-align: middle;\n",
       "    }\n",
       "\n",
       "    .dataframe tbody tr th {\n",
       "        vertical-align: top;\n",
       "    }\n",
       "\n",
       "    .dataframe thead th {\n",
       "        text-align: right;\n",
       "    }\n",
       "</style>\n",
       "<table border=\"1\" class=\"dataframe\">\n",
       "  <thead>\n",
       "    <tr style=\"text-align: right;\">\n",
       "      <th></th>\n",
       "      <th>binom_name</th>\n",
       "      <th>common_name</th>\n",
       "      <th>dir2018</th>\n",
       "      <th>dir2019</th>\n",
       "      <th>count2018</th>\n",
       "      <th>count2019</th>\n",
       "      <th>copy_cmd2018</th>\n",
       "      <th>copy_cmd2019</th>\n",
       "    </tr>\n",
       "  </thead>\n",
       "  <tbody>\n",
       "    <tr>\n",
       "      <th>0</th>\n",
       "      <td>Corvus Corax</td>\n",
       "      <td>Raven</td>\n",
       "      <td>train_val2018/Aves/3278</td>\n",
       "      <td>train_val2019/Birds/212</td>\n",
       "      <td>677</td>\n",
       "      <td>500</td>\n",
       "      <td>gsutil -m cp -r train_val2018/Aves/3278 gs://m...</td>\n",
       "      <td>gsutil -m cp -r train_val2018/Aves/3278 gs://m...</td>\n",
       "    </tr>\n",
       "    <tr>\n",
       "      <th>1</th>\n",
       "      <td>Sceloporus Occidentalis</td>\n",
       "      <td>Western Fence Lizard</td>\n",
       "      <td>train_val2018/Reptilia/4436</td>\n",
       "      <td>train_val2019/Reptiles/165</td>\n",
       "      <td>1000</td>\n",
       "      <td>500</td>\n",
       "      <td>gsutil -m cp -r train_val2018/Reptilia/4436 gs...</td>\n",
       "      <td>gsutil -m cp -r train_val2018/Reptilia/4436 gs...</td>\n",
       "    </tr>\n",
       "    <tr>\n",
       "      <th>2</th>\n",
       "      <td>Quercus Kelloggii</td>\n",
       "      <td>Black Oak</td>\n",
       "      <td>train_val2018/Plantae/6851</td>\n",
       "      <td>train_val2019/Plants/657</td>\n",
       "      <td>77</td>\n",
       "      <td>500</td>\n",
       "      <td>gsutil -m cp -r train_val2018/Plantae/6851 gs:...</td>\n",
       "      <td>gsutil -m cp -r train_val2018/Plantae/6851 gs:...</td>\n",
       "    </tr>\n",
       "    <tr>\n",
       "      <th>3</th>\n",
       "      <td>Asclepias Speciosa</td>\n",
       "      <td>Milkweed</td>\n",
       "      <td>train_val2018/Plantae/6904</td>\n",
       "      <td>train_val2019/Insects/68</td>\n",
       "      <td>61</td>\n",
       "      <td>500</td>\n",
       "      <td>gsutil -m cp -r train_val2018/Plantae/6904 gs:...</td>\n",
       "      <td>gsutil -m cp -r train_val2018/Plantae/6904 gs:...</td>\n",
       "    </tr>\n",
       "    <tr>\n",
       "      <th>4</th>\n",
       "      <td>Pinus Ponderosa</td>\n",
       "      <td>Ponderosa Pine</td>\n",
       "      <td>train_val2018/Plantae/7963</td>\n",
       "      <td>train_val2019/Plants/981</td>\n",
       "      <td>57</td>\n",
       "      <td>500</td>\n",
       "      <td>gsutil -m cp -r train_val2018/Plantae/7963 gs:...</td>\n",
       "      <td>gsutil -m cp -r train_val2018/Plantae/7963 gs:...</td>\n",
       "    </tr>\n",
       "    <tr>\n",
       "      <th>5</th>\n",
       "      <td>Toxicodendron Diversilobum</td>\n",
       "      <td>Poison Oak</td>\n",
       "      <td>train_val2018/Plantae/7741</td>\n",
       "      <td></td>\n",
       "      <td>604</td>\n",
       "      <td></td>\n",
       "      <td>gsutil -m cp -r train_val2018/Plantae/7741 gs:...</td>\n",
       "      <td></td>\n",
       "    </tr>\n",
       "    <tr>\n",
       "      <th>6</th>\n",
       "      <td>Odocoileus Hemionus</td>\n",
       "      <td>Mule Deer</td>\n",
       "      <td>train_val2018/Mammalia/4068</td>\n",
       "      <td></td>\n",
       "      <td>950</td>\n",
       "      <td></td>\n",
       "      <td>gsutil -m cp -r train_val2018/Mammalia/4068 gs...</td>\n",
       "      <td></td>\n",
       "    </tr>\n",
       "    <tr>\n",
       "      <th>7</th>\n",
       "      <td>Sequoiadendron Giganteum</td>\n",
       "      <td>Redwood Tree</td>\n",
       "      <td>train_val2018/Plantae/7935</td>\n",
       "      <td></td>\n",
       "      <td>350</td>\n",
       "      <td></td>\n",
       "      <td>gsutil -m cp -r train_val2018/Plantae/7935 gs:...</td>\n",
       "      <td></td>\n",
       "    </tr>\n",
       "    <tr>\n",
       "      <th>8</th>\n",
       "      <td>Sarcodes Sanguinea</td>\n",
       "      <td>Snowplant</td>\n",
       "      <td>train_val2018/Plantae/6607</td>\n",
       "      <td></td>\n",
       "      <td>90</td>\n",
       "      <td></td>\n",
       "      <td>gsutil -m cp -r train_val2018/Plantae/6607 gs:...</td>\n",
       "      <td></td>\n",
       "    </tr>\n",
       "    <tr>\n",
       "      <th>9</th>\n",
       "      <td>Calocedrus Decurrens</td>\n",
       "      <td>California Incense Cedar</td>\n",
       "      <td>train_val2018/Plantae/7920</td>\n",
       "      <td></td>\n",
       "      <td>52</td>\n",
       "      <td></td>\n",
       "      <td>gsutil -m cp -r train_val2018/Plantae/7920 gs:...</td>\n",
       "      <td></td>\n",
       "    </tr>\n",
       "    <tr>\n",
       "      <th>10</th>\n",
       "      <td>Eschscholzia Californica</td>\n",
       "      <td>California Poppy</td>\n",
       "      <td>train_val2018/Plantae/7512</td>\n",
       "      <td></td>\n",
       "      <td>758</td>\n",
       "      <td></td>\n",
       "      <td>gsutil -m cp -r train_val2018/Plantae/7512 gs:...</td>\n",
       "      <td></td>\n",
       "    </tr>\n",
       "    <tr>\n",
       "      <th>11</th>\n",
       "      <td>Juniperus Occidentalis</td>\n",
       "      <td>Western Juniper</td>\n",
       "      <td>train_val2018/Plantae/7930</td>\n",
       "      <td></td>\n",
       "      <td>20</td>\n",
       "      <td></td>\n",
       "      <td>gsutil -m cp -r train_val2018/Plantae/7930 gs:...</td>\n",
       "      <td></td>\n",
       "    </tr>\n",
       "    <tr>\n",
       "      <th>12</th>\n",
       "      <td>Pinus Albicaulis</td>\n",
       "      <td>White Bark Pine</td>\n",
       "      <td>train_val2018/Plantae/7949</td>\n",
       "      <td></td>\n",
       "      <td>13</td>\n",
       "      <td></td>\n",
       "      <td>gsutil -m cp -r train_val2018/Plantae/7949 gs:...</td>\n",
       "      <td></td>\n",
       "    </tr>\n",
       "    <tr>\n",
       "      <th>13</th>\n",
       "      <td>Pinus Sabiniana</td>\n",
       "      <td>Digger Pine</td>\n",
       "      <td>train_val2018/Plantae/7966</td>\n",
       "      <td></td>\n",
       "      <td>42</td>\n",
       "      <td></td>\n",
       "      <td>gsutil -m cp -r train_val2018/Plantae/7966 gs:...</td>\n",
       "      <td></td>\n",
       "    </tr>\n",
       "    <tr>\n",
       "      <th>14</th>\n",
       "      <td>Quercus Lobata</td>\n",
       "      <td>Valley Oak</td>\n",
       "      <td>train_val2018/Plantae/6853</td>\n",
       "      <td></td>\n",
       "      <td>76</td>\n",
       "      <td></td>\n",
       "      <td>gsutil -m cp -r train_val2018/Plantae/6853 gs:...</td>\n",
       "      <td></td>\n",
       "    </tr>\n",
       "    <tr>\n",
       "      <th>15</th>\n",
       "      <td>Pinus Attenuata</td>\n",
       "      <td>Knobcone Pine</td>\n",
       "      <td>train_val2018/Plantae/7950</td>\n",
       "      <td></td>\n",
       "      <td>22</td>\n",
       "      <td></td>\n",
       "      <td>gsutil -m cp -r train_val2018/Plantae/7950 gs:...</td>\n",
       "      <td></td>\n",
       "    </tr>\n",
       "    <tr>\n",
       "      <th>16</th>\n",
       "      <td>Aesculus Californica</td>\n",
       "      <td>California Buckeye</td>\n",
       "      <td>train_val2018/Plantae/7767</td>\n",
       "      <td></td>\n",
       "      <td>231</td>\n",
       "      <td></td>\n",
       "      <td>gsutil -m cp -r train_val2018/Plantae/7767 gs:...</td>\n",
       "      <td></td>\n",
       "    </tr>\n",
       "    <tr>\n",
       "      <th>17</th>\n",
       "      <td>Umbellularia Californica</td>\n",
       "      <td>California Laurel</td>\n",
       "      <td>train_val2018/Plantae/7246</td>\n",
       "      <td></td>\n",
       "      <td>249</td>\n",
       "      <td></td>\n",
       "      <td>gsutil -m cp -r train_val2018/Plantae/7246 gs:...</td>\n",
       "      <td></td>\n",
       "    </tr>\n",
       "    <tr>\n",
       "      <th>18</th>\n",
       "      <td>Torreya Californica</td>\n",
       "      <td>California Nutmeg</td>\n",
       "      <td>train_val2018/Plantae/7979</td>\n",
       "      <td></td>\n",
       "      <td>10</td>\n",
       "      <td></td>\n",
       "      <td>gsutil -m cp -r train_val2018/Plantae/7979 gs:...</td>\n",
       "      <td></td>\n",
       "    </tr>\n",
       "    <tr>\n",
       "      <th>19</th>\n",
       "      <td>Pseudotsuga Menziesii</td>\n",
       "      <td>Douglas Fir</td>\n",
       "      <td>train_val2018/Plantae/7971</td>\n",
       "      <td></td>\n",
       "      <td>203</td>\n",
       "      <td></td>\n",
       "      <td>gsutil -m cp -r train_val2018/Plantae/7971 gs:...</td>\n",
       "      <td></td>\n",
       "    </tr>\n",
       "    <tr>\n",
       "      <th>20</th>\n",
       "      <td>Acer Macrophyllum</td>\n",
       "      <td>Broadleaf Maple</td>\n",
       "      <td>train_val2018/Plantae/7757</td>\n",
       "      <td></td>\n",
       "      <td>246</td>\n",
       "      <td></td>\n",
       "      <td>gsutil -m cp -r train_val2018/Plantae/7757 gs:...</td>\n",
       "      <td></td>\n",
       "    </tr>\n",
       "    <tr>\n",
       "      <th>21</th>\n",
       "      <td>Populus Tremuloides</td>\n",
       "      <td>Quaking Aspen</td>\n",
       "      <td>train_val2018/Plantae/7330</td>\n",
       "      <td></td>\n",
       "      <td>170</td>\n",
       "      <td></td>\n",
       "      <td>gsutil -m cp -r train_val2018/Plantae/7330 gs:...</td>\n",
       "      <td></td>\n",
       "    </tr>\n",
       "    <tr>\n",
       "      <th>22</th>\n",
       "      <td>Cornus Nuttallii</td>\n",
       "      <td>Pacific Dogwood</td>\n",
       "      <td></td>\n",
       "      <td>train_val2019/Plants/442</td>\n",
       "      <td></td>\n",
       "      <td>186</td>\n",
       "      <td></td>\n",
       "      <td>gsutil -m cp -r  gs://muirsquest/Cornus_Nuttallii</td>\n",
       "    </tr>\n",
       "    <tr>\n",
       "      <th>23</th>\n",
       "      <td>Castilleja Miniata</td>\n",
       "      <td>Giant Red Paintbrush</td>\n",
       "      <td></td>\n",
       "      <td>train_val2019/Plants/736</td>\n",
       "      <td></td>\n",
       "      <td>334</td>\n",
       "      <td></td>\n",
       "      <td>gsutil -m cp -r  gs://muirsquest/Castilleja_Mi...</td>\n",
       "    </tr>\n",
       "  </tbody>\n",
       "</table>\n",
       "</div>"
      ],
      "text/plain": [
       "                    binom_name               common_name  \\\n",
       "0                 Corvus Corax                     Raven   \n",
       "1      Sceloporus Occidentalis      Western Fence Lizard   \n",
       "2            Quercus Kelloggii                 Black Oak   \n",
       "3           Asclepias Speciosa                  Milkweed   \n",
       "4              Pinus Ponderosa            Ponderosa Pine   \n",
       "5   Toxicodendron Diversilobum                Poison Oak   \n",
       "6          Odocoileus Hemionus                 Mule Deer   \n",
       "7     Sequoiadendron Giganteum              Redwood Tree   \n",
       "8           Sarcodes Sanguinea                 Snowplant   \n",
       "9         Calocedrus Decurrens  California Incense Cedar   \n",
       "10    Eschscholzia Californica          California Poppy   \n",
       "11      Juniperus Occidentalis           Western Juniper   \n",
       "12            Pinus Albicaulis           White Bark Pine   \n",
       "13             Pinus Sabiniana               Digger Pine   \n",
       "14              Quercus Lobata                Valley Oak   \n",
       "15             Pinus Attenuata             Knobcone Pine   \n",
       "16        Aesculus Californica        California Buckeye   \n",
       "17    Umbellularia Californica         California Laurel   \n",
       "18         Torreya Californica         California Nutmeg   \n",
       "19       Pseudotsuga Menziesii               Douglas Fir   \n",
       "20           Acer Macrophyllum           Broadleaf Maple   \n",
       "21         Populus Tremuloides             Quaking Aspen   \n",
       "22            Cornus Nuttallii           Pacific Dogwood   \n",
       "23          Castilleja Miniata      Giant Red Paintbrush   \n",
       "\n",
       "                        dir2018                     dir2019 count2018  \\\n",
       "0       train_val2018/Aves/3278     train_val2019/Birds/212       677   \n",
       "1   train_val2018/Reptilia/4436  train_val2019/Reptiles/165      1000   \n",
       "2    train_val2018/Plantae/6851    train_val2019/Plants/657        77   \n",
       "3    train_val2018/Plantae/6904    train_val2019/Insects/68        61   \n",
       "4    train_val2018/Plantae/7963    train_val2019/Plants/981        57   \n",
       "5    train_val2018/Plantae/7741                                   604   \n",
       "6   train_val2018/Mammalia/4068                                   950   \n",
       "7    train_val2018/Plantae/7935                                   350   \n",
       "8    train_val2018/Plantae/6607                                    90   \n",
       "9    train_val2018/Plantae/7920                                    52   \n",
       "10   train_val2018/Plantae/7512                                   758   \n",
       "11   train_val2018/Plantae/7930                                    20   \n",
       "12   train_val2018/Plantae/7949                                    13   \n",
       "13   train_val2018/Plantae/7966                                    42   \n",
       "14   train_val2018/Plantae/6853                                    76   \n",
       "15   train_val2018/Plantae/7950                                    22   \n",
       "16   train_val2018/Plantae/7767                                   231   \n",
       "17   train_val2018/Plantae/7246                                   249   \n",
       "18   train_val2018/Plantae/7979                                    10   \n",
       "19   train_val2018/Plantae/7971                                   203   \n",
       "20   train_val2018/Plantae/7757                                   246   \n",
       "21   train_val2018/Plantae/7330                                   170   \n",
       "22                                 train_val2019/Plants/442             \n",
       "23                                 train_val2019/Plants/736             \n",
       "\n",
       "   count2019                                       copy_cmd2018  \\\n",
       "0        500  gsutil -m cp -r train_val2018/Aves/3278 gs://m...   \n",
       "1        500  gsutil -m cp -r train_val2018/Reptilia/4436 gs...   \n",
       "2        500  gsutil -m cp -r train_val2018/Plantae/6851 gs:...   \n",
       "3        500  gsutil -m cp -r train_val2018/Plantae/6904 gs:...   \n",
       "4        500  gsutil -m cp -r train_val2018/Plantae/7963 gs:...   \n",
       "5             gsutil -m cp -r train_val2018/Plantae/7741 gs:...   \n",
       "6             gsutil -m cp -r train_val2018/Mammalia/4068 gs...   \n",
       "7             gsutil -m cp -r train_val2018/Plantae/7935 gs:...   \n",
       "8             gsutil -m cp -r train_val2018/Plantae/6607 gs:...   \n",
       "9             gsutil -m cp -r train_val2018/Plantae/7920 gs:...   \n",
       "10            gsutil -m cp -r train_val2018/Plantae/7512 gs:...   \n",
       "11            gsutil -m cp -r train_val2018/Plantae/7930 gs:...   \n",
       "12            gsutil -m cp -r train_val2018/Plantae/7949 gs:...   \n",
       "13            gsutil -m cp -r train_val2018/Plantae/7966 gs:...   \n",
       "14            gsutil -m cp -r train_val2018/Plantae/6853 gs:...   \n",
       "15            gsutil -m cp -r train_val2018/Plantae/7950 gs:...   \n",
       "16            gsutil -m cp -r train_val2018/Plantae/7767 gs:...   \n",
       "17            gsutil -m cp -r train_val2018/Plantae/7246 gs:...   \n",
       "18            gsutil -m cp -r train_val2018/Plantae/7979 gs:...   \n",
       "19            gsutil -m cp -r train_val2018/Plantae/7971 gs:...   \n",
       "20            gsutil -m cp -r train_val2018/Plantae/7757 gs:...   \n",
       "21            gsutil -m cp -r train_val2018/Plantae/7330 gs:...   \n",
       "22       186                                                      \n",
       "23       334                                                      \n",
       "\n",
       "                                         copy_cmd2019  \n",
       "0   gsutil -m cp -r train_val2018/Aves/3278 gs://m...  \n",
       "1   gsutil -m cp -r train_val2018/Reptilia/4436 gs...  \n",
       "2   gsutil -m cp -r train_val2018/Plantae/6851 gs:...  \n",
       "3   gsutil -m cp -r train_val2018/Plantae/6904 gs:...  \n",
       "4   gsutil -m cp -r train_val2018/Plantae/7963 gs:...  \n",
       "5                                                      \n",
       "6                                                      \n",
       "7                                                      \n",
       "8                                                      \n",
       "9                                                      \n",
       "10                                                     \n",
       "11                                                     \n",
       "12                                                     \n",
       "13                                                     \n",
       "14                                                     \n",
       "15                                                     \n",
       "16                                                     \n",
       "17                                                     \n",
       "18                                                     \n",
       "19                                                     \n",
       "20                                                     \n",
       "21                                                     \n",
       "22  gsutil -m cp -r  gs://muirsquest/Cornus_Nuttallii  \n",
       "23  gsutil -m cp -r  gs://muirsquest/Castilleja_Mi...  "
      ]
     },
     "execution_count": 341,
     "metadata": {},
     "output_type": "execute_result"
    }
   ],
   "source": [
    "df"
   ]
  },
  {
   "cell_type": "code",
   "execution_count": 346,
   "metadata": {},
   "outputs": [],
   "source": [
    "# create commands to transfer from gcp instance to bucket\n",
    "df['copy_cmd2018'] = \"gsutil -m cp -r \"+df[\"dir2018\"]+\"/. \"+\"gs://muirsquest/\"+df[\"binom_name\"].apply(lambda x: x.split()[0]+\"_\"+x.split()[1])\n",
    "df['copy_cmd2019'] = \"gsutil -m cp -r \"+df[\"dir2019\"]+\"/. \"+\"gs://muirsquest/\"+df[\"binom_name\"].apply(lambda x: x.split()[0]+\"_\"+x.split()[1])\n",
    "df.loc[df[\"dir2018\"]==\"\", \"copy_cmd2018\"]=\"\"\n",
    "df.loc[df[\"dir2019\"]==\"\", \"copy_cmd2019\"]=\"\""
   ]
  },
  {
   "cell_type": "code",
   "execution_count": 347,
   "metadata": {},
   "outputs": [],
   "source": [
    "# write gsutil copy commands to file\n",
    "with open('2018dirs.txt', 'w') as filehandle:\n",
    "    for item in df[\"copy_cmd2018\"]:\n",
    "        filehandle.write('%s\\n' % item)\n",
    "        \n",
    "with open('2019dirs.txt', 'w') as filehandle:\n",
    "    for item in df[\"copy_cmd2019\"]:\n",
    "        filehandle.write('%s\\n' % item)"
   ]
  },
  {
   "cell_type": "code",
   "execution_count": 311,
   "metadata": {},
   "outputs": [],
   "source": [
    "def getNegClass(year=2019, species_map=species_map):\n",
    "    '''returns sample of images not in training set'''\n",
    "\n",
    "    data = eval(\"data\"+str(year))\n",
    "    dirs = [] \n",
    "    if year == 2019:\n",
    "        valset = [str(vals[1][0]) for vals in species_map.values()]\n",
    "    elif year == 2018:\n",
    "        valset = [str(vals[1][1]) for vals in species_map.values()]\n",
    "    try:\n",
    "        # join and split token\n",
    "        s =\"/\"\n",
    "        # get dirname if numeric ID key matches key from species dict\n",
    "        for row in data[\"images\"]:\n",
    "            if row[\"file_name\"].split(\"/\")[2] not in valset:\n",
    "                dirname = row[\"file_name\"]\n",
    "                dirs.append(dirname)\n",
    "    except:\n",
    "        pass\n",
    "    return dirs"
   ]
  },
  {
   "cell_type": "code",
   "execution_count": 322,
   "metadata": {},
   "outputs": [],
   "source": [
    "negdirs2019 = getNegClass()"
   ]
  },
  {
   "cell_type": "code",
   "execution_count": 316,
   "metadata": {},
   "outputs": [],
   "source": [
    "negdirs2018 = getNegClass(year=2018)"
   ]
  },
  {
   "cell_type": "code",
   "execution_count": 339,
   "metadata": {},
   "outputs": [],
   "source": [
    "# write gsutil copy commands to file\n",
    "with open('2018negdirs.txt', 'w') as filehandle:\n",
    "    for item in negdirs2018:\n",
    "        filehandle.write('%s\\n' % item)\n",
    "        \n",
    "with open('2019negdirs.txt', 'w') as filehandle:\n",
    "    for item in negdirs2019:\n",
    "        filehandle.write('%s\\n' % item)"
   ]
  },
  {
   "cell_type": "code",
   "execution_count": 332,
   "metadata": {},
   "outputs": [],
   "source": [
    "dfn = pd.DataFrame(negdirs2018, columns=[\"negdirs\"])"
   ]
  },
  {
   "cell_type": "code",
   "execution_count": 333,
   "metadata": {},
   "outputs": [],
   "source": [
    "sampled_negs = dfn.sample(n=8000,random_state=42)"
   ]
  },
  {
   "cell_type": "code",
   "execution_count": 334,
   "metadata": {},
   "outputs": [
    {
     "data": {
      "text/html": [
       "<div>\n",
       "<style scoped>\n",
       "    .dataframe tbody tr th:only-of-type {\n",
       "        vertical-align: middle;\n",
       "    }\n",
       "\n",
       "    .dataframe tbody tr th {\n",
       "        vertical-align: top;\n",
       "    }\n",
       "\n",
       "    .dataframe thead th {\n",
       "        text-align: right;\n",
       "    }\n",
       "</style>\n",
       "<table border=\"1\" class=\"dataframe\">\n",
       "  <thead>\n",
       "    <tr style=\"text-align: right;\">\n",
       "      <th></th>\n",
       "      <th>negdirs</th>\n",
       "    </tr>\n",
       "  </thead>\n",
       "  <tbody>\n",
       "    <tr>\n",
       "      <th>211499</th>\n",
       "      <td>train_val2018/Mammalia/4211/4b56fa12f3177000ba...</td>\n",
       "    </tr>\n",
       "    <tr>\n",
       "      <th>57699</th>\n",
       "      <td>train_val2018/Insecta/1566/765482acc10df135229...</td>\n",
       "    </tr>\n",
       "    <tr>\n",
       "      <th>199862</th>\n",
       "      <td>train_val2018/Aves/3355/37766b0263bce315fa62d6...</td>\n",
       "    </tr>\n",
       "    <tr>\n",
       "      <th>51040</th>\n",
       "      <td>train_val2018/Plantae/6660/b359c5e6625dbbad194...</td>\n",
       "    </tr>\n",
       "    <tr>\n",
       "      <th>200208</th>\n",
       "      <td>train_val2018/Reptilia/4362/2d2244d25249979636...</td>\n",
       "    </tr>\n",
       "  </tbody>\n",
       "</table>\n",
       "</div>"
      ],
      "text/plain": [
       "                                                  negdirs\n",
       "211499  train_val2018/Mammalia/4211/4b56fa12f3177000ba...\n",
       "57699   train_val2018/Insecta/1566/765482acc10df135229...\n",
       "199862  train_val2018/Aves/3355/37766b0263bce315fa62d6...\n",
       "51040   train_val2018/Plantae/6660/b359c5e6625dbbad194...\n",
       "200208  train_val2018/Reptilia/4362/2d2244d25249979636..."
      ]
     },
     "execution_count": 334,
     "metadata": {},
     "output_type": "execute_result"
    }
   ],
   "source": [
    "sampled_negs.head()"
   ]
  },
  {
   "cell_type": "code",
   "execution_count": 337,
   "metadata": {},
   "outputs": [],
   "source": [
    "sampled_negs[\"cmd\"] = \"gsutil cp \"+sampled_negs[\"negdirs\"]+\" \"+\"gs://muirsquest/negclass\""
   ]
  },
  {
   "cell_type": "code",
   "execution_count": 338,
   "metadata": {},
   "outputs": [],
   "source": [
    "with open('negSampleCmds8000.txt', 'w') as filehandle:\n",
    "    for item in sampled_negs[\"cmd\"]:\n",
    "        filehandle.write('%s\\n' % item)"
   ]
  }
 ],
 "metadata": {
  "kernelspec": {
   "display_name": "Python 3",
   "language": "python",
   "name": "python3"
  },
  "language_info": {
   "codemirror_mode": {
    "name": "ipython",
    "version": 3
   },
   "file_extension": ".py",
   "mimetype": "text/x-python",
   "name": "python",
   "nbconvert_exporter": "python",
   "pygments_lexer": "ipython3",
   "version": "3.7.3"
  }
 },
 "nbformat": 4,
 "nbformat_minor": 4
}
