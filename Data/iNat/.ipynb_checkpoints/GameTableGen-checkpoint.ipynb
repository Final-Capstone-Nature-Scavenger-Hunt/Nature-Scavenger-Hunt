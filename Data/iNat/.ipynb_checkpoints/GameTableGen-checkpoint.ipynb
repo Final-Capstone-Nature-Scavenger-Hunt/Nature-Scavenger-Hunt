{
 "cells": [
  {
   "cell_type": "markdown",
   "metadata": {},
   "source": [
    "## Create Game Tables"
   ]
  },
  {
   "cell_type": "code",
   "execution_count": 2,
   "metadata": {},
   "outputs": [],
   "source": [
    "import json\n",
    "import pandas as pd\n",
    "import warnings\n",
    "warnings.simplefilter(action='ignore', category=Warning)"
   ]
  },
  {
   "cell_type": "code",
   "execution_count": 2,
   "metadata": {},
   "outputs": [],
   "source": [
    "species = pd.read_csv(\"speciesDB_full.csv\")"
   ]
  },
  {
   "cell_type": "code",
   "execution_count": 29,
   "metadata": {},
   "outputs": [
    {
     "data": {
      "text/html": [
       "<div>\n",
       "<style scoped>\n",
       "    .dataframe tbody tr th:only-of-type {\n",
       "        vertical-align: middle;\n",
       "    }\n",
       "\n",
       "    .dataframe tbody tr th {\n",
       "        vertical-align: top;\n",
       "    }\n",
       "\n",
       "    .dataframe thead th {\n",
       "        text-align: right;\n",
       "    }\n",
       "</style>\n",
       "<table border=\"1\" class=\"dataframe\">\n",
       "  <thead>\n",
       "    <tr style=\"text-align: right;\">\n",
       "      <th></th>\n",
       "      <th>class_x</th>\n",
       "      <th>family_x</th>\n",
       "      <th>genus_x</th>\n",
       "      <th>id</th>\n",
       "      <th>kingdom_x</th>\n",
       "      <th>name</th>\n",
       "      <th>order_x</th>\n",
       "      <th>phylum_x</th>\n",
       "      <th>supercategory</th>\n",
       "      <th>dir18</th>\n",
       "      <th>...</th>\n",
       "      <th>Scientific Name</th>\n",
       "      <th>Synonyms</th>\n",
       "      <th>Common Name</th>\n",
       "      <th>Occurrence</th>\n",
       "      <th>Occurrence Tags</th>\n",
       "      <th>Abundance</th>\n",
       "      <th>Nativeness</th>\n",
       "      <th>Nativeness Tags</th>\n",
       "      <th>marine</th>\n",
       "      <th>label</th>\n",
       "    </tr>\n",
       "  </thead>\n",
       "  <tbody>\n",
       "    <tr>\n",
       "      <th>0</th>\n",
       "      <td>Polychaeta</td>\n",
       "      <td>Amphinomidae</td>\n",
       "      <td>Hermodice</td>\n",
       "      <td>0.0</td>\n",
       "      <td>Animalia</td>\n",
       "      <td>Hermodice carunculata</td>\n",
       "      <td>Phyllodocida</td>\n",
       "      <td>Annelida</td>\n",
       "      <td>Animalia</td>\n",
       "      <td>train_val2018/Animalia/0</td>\n",
       "      <td>...</td>\n",
       "      <td>NaN</td>\n",
       "      <td>NaN</td>\n",
       "      <td>NaN</td>\n",
       "      <td>NaN</td>\n",
       "      <td>NaN</td>\n",
       "      <td>NaN</td>\n",
       "      <td>NaN</td>\n",
       "      <td>NaN</td>\n",
       "      <td>True</td>\n",
       "      <td>Bearded fireworm</td>\n",
       "    </tr>\n",
       "    <tr>\n",
       "      <th>1</th>\n",
       "      <td>Polychaeta</td>\n",
       "      <td>Sabellariidae</td>\n",
       "      <td>Phragmatopoma</td>\n",
       "      <td>1.0</td>\n",
       "      <td>Animalia</td>\n",
       "      <td>Phragmatopoma californica</td>\n",
       "      <td>Sabellida</td>\n",
       "      <td>Annelida</td>\n",
       "      <td>Animalia</td>\n",
       "      <td>train_val2018/Animalia/1</td>\n",
       "      <td>...</td>\n",
       "      <td>NaN</td>\n",
       "      <td>NaN</td>\n",
       "      <td>NaN</td>\n",
       "      <td>NaN</td>\n",
       "      <td>NaN</td>\n",
       "      <td>NaN</td>\n",
       "      <td>NaN</td>\n",
       "      <td>NaN</td>\n",
       "      <td>True</td>\n",
       "      <td>Phragmatopoma californica</td>\n",
       "    </tr>\n",
       "    <tr>\n",
       "      <th>2</th>\n",
       "      <td>Polychaeta</td>\n",
       "      <td>Sabellidae</td>\n",
       "      <td>Eudistylia</td>\n",
       "      <td>2.0</td>\n",
       "      <td>Animalia</td>\n",
       "      <td>Eudistylia vancouveri</td>\n",
       "      <td>Sabellida</td>\n",
       "      <td>Annelida</td>\n",
       "      <td>Animalia</td>\n",
       "      <td>train_val2018/Animalia/2</td>\n",
       "      <td>...</td>\n",
       "      <td>NaN</td>\n",
       "      <td>NaN</td>\n",
       "      <td>NaN</td>\n",
       "      <td>NaN</td>\n",
       "      <td>NaN</td>\n",
       "      <td>NaN</td>\n",
       "      <td>NaN</td>\n",
       "      <td>NaN</td>\n",
       "      <td>True</td>\n",
       "      <td>Eudistylia vancouveri</td>\n",
       "    </tr>\n",
       "    <tr>\n",
       "      <th>3</th>\n",
       "      <td>Polychaeta</td>\n",
       "      <td>Serpulidae</td>\n",
       "      <td>Galeolaria</td>\n",
       "      <td>3.0</td>\n",
       "      <td>Animalia</td>\n",
       "      <td>Galeolaria hystrix</td>\n",
       "      <td>Sabellida</td>\n",
       "      <td>Annelida</td>\n",
       "      <td>Animalia</td>\n",
       "      <td>train_val2018/Animalia/3</td>\n",
       "      <td>...</td>\n",
       "      <td>NaN</td>\n",
       "      <td>NaN</td>\n",
       "      <td>NaN</td>\n",
       "      <td>NaN</td>\n",
       "      <td>NaN</td>\n",
       "      <td>NaN</td>\n",
       "      <td>NaN</td>\n",
       "      <td>NaN</td>\n",
       "      <td>True</td>\n",
       "      <td>Galeolaria hystrix</td>\n",
       "    </tr>\n",
       "    <tr>\n",
       "      <th>4</th>\n",
       "      <td>Polychaeta</td>\n",
       "      <td>Serpulidae</td>\n",
       "      <td>Serpula</td>\n",
       "      <td>4.0</td>\n",
       "      <td>Animalia</td>\n",
       "      <td>Serpula columbiana</td>\n",
       "      <td>Sabellida</td>\n",
       "      <td>Annelida</td>\n",
       "      <td>Animalia</td>\n",
       "      <td>train_val2018/Animalia/4</td>\n",
       "      <td>...</td>\n",
       "      <td>NaN</td>\n",
       "      <td>NaN</td>\n",
       "      <td>NaN</td>\n",
       "      <td>NaN</td>\n",
       "      <td>NaN</td>\n",
       "      <td>NaN</td>\n",
       "      <td>NaN</td>\n",
       "      <td>NaN</td>\n",
       "      <td>True</td>\n",
       "      <td>Serpula columbiana</td>\n",
       "    </tr>\n",
       "  </tbody>\n",
       "</table>\n",
       "<p>5 rows × 25 columns</p>\n",
       "</div>"
      ],
      "text/plain": [
       "      class_x       family_x        genus_x   id kingdom_x  \\\n",
       "0  Polychaeta   Amphinomidae      Hermodice  0.0  Animalia   \n",
       "1  Polychaeta  Sabellariidae  Phragmatopoma  1.0  Animalia   \n",
       "2  Polychaeta     Sabellidae     Eudistylia  2.0  Animalia   \n",
       "3  Polychaeta     Serpulidae     Galeolaria  3.0  Animalia   \n",
       "4  Polychaeta     Serpulidae        Serpula  4.0  Animalia   \n",
       "\n",
       "                        name       order_x  phylum_x supercategory  \\\n",
       "0      Hermodice carunculata  Phyllodocida  Annelida      Animalia   \n",
       "1  Phragmatopoma californica     Sabellida  Annelida      Animalia   \n",
       "2      Eudistylia vancouveri     Sabellida  Annelida      Animalia   \n",
       "3         Galeolaria hystrix     Sabellida  Annelida      Animalia   \n",
       "4         Serpula columbiana     Sabellida  Annelida      Animalia   \n",
       "\n",
       "                      dir18  ... Scientific Name Synonyms Common Name  \\\n",
       "0  train_val2018/Animalia/0  ...             NaN      NaN         NaN   \n",
       "1  train_val2018/Animalia/1  ...             NaN      NaN         NaN   \n",
       "2  train_val2018/Animalia/2  ...             NaN      NaN         NaN   \n",
       "3  train_val2018/Animalia/3  ...             NaN      NaN         NaN   \n",
       "4  train_val2018/Animalia/4  ...             NaN      NaN         NaN   \n",
       "\n",
       "   Occurrence Occurrence Tags Abundance Nativeness Nativeness Tags marine  \\\n",
       "0         NaN             NaN       NaN        NaN             NaN   True   \n",
       "1         NaN             NaN       NaN        NaN             NaN   True   \n",
       "2         NaN             NaN       NaN        NaN             NaN   True   \n",
       "3         NaN             NaN       NaN        NaN             NaN   True   \n",
       "4         NaN             NaN       NaN        NaN             NaN   True   \n",
       "\n",
       "                       label  \n",
       "0           Bearded fireworm  \n",
       "1  Phragmatopoma californica  \n",
       "2      Eudistylia vancouveri  \n",
       "3         Galeolaria hystrix  \n",
       "4         Serpula columbiana  \n",
       "\n",
       "[5 rows x 25 columns]"
      ]
     },
     "execution_count": 29,
     "metadata": {},
     "output_type": "execute_result"
    }
   ],
   "source": [
    "species.head()"
   ]
  },
  {
   "cell_type": "code",
   "execution_count": 4,
   "metadata": {},
   "outputs": [],
   "source": [
    "species_map = {\"Corvus Corax\": (\"Raven\", (212, 3278)),\n",
    "\"Sceloporus Occidentalis\": (\"Western Fence Lizard\", (165, 4436)),\n",
    "\"Quercus Kelloggii\": (\"Black Oak\", (657, 6851)),\n",
    "\"Cornus Nuttallii\": (\"Pacific Dogwood\", (442, None)),\n",
    "\"Asclepias Speciosa\": (\"Milkweed\", (568, 6904)),\n",
    "\"Pinus Ponderosa\": (\"Ponderosa Pine\", (981, 7963)),\n",
    "\"Castilleja Miniata\": (\"Giant Red Paintbrush\", (736, None)),\n",
    "\"Toxicodendron Diversilobum\": (\"Poison Oak\", (None, 7741)),\n",
    "\"Odocoileus Hemionus\": (\"Mule Deer\", (None, 4068)),\n",
    "\"Sequoiadendron Giganteum\":(\"Redwood Tree\", (None, 7935) ),\n",
    "\"Sarcodes Sanguinea\": (\"Snowplant\", (None, 6607)),\n",
    "\"Calocedrus Decurrens\":(\"California Incense Cedar\", (None,7920)),\n",
    "\"Eschscholzia Californica\": (\"California Poppy\", (None, 7512)),\n",
    "\"Juniperus Occidentalis\": (\"Western Juniper\", (None, 7930)),\n",
    "\"Pinus Albicaulis\": (\"White Bark Pine\", (None,7949)),\n",
    "\"Pinus Sabiniana\": (\"Digger Pine\", (None,7966)),\n",
    "\"Quercus Lobata\": (\"Valley Oak\", (None, 6853)),\n",
    "\"Pinus Attenuata\": (\"Knobcone Pine\", (None,7950)),\n",
    "\"Aesculus Californica\": (\"California Buckeye\", (None,7767)),\n",
    "\"Umbellularia Californica\": (\"California Laurel\", (None,7246)),\n",
    "\"Torreya Californica\": (\"California Nutmeg\", (None,7979)),\n",
    "\"Pseudotsuga Menziesii\": (\"Douglas Fir\", (None,7971)),\n",
    "\"Acer Macrophyllum\": (\"Broadleaf Maple\", (None,7757)),\n",
    "\"Populus Tremuloides\": (\"Quaking Aspen\", (None,7330))\n",
    "}"
   ]
  },
  {
   "cell_type": "code",
   "execution_count": 12,
   "metadata": {},
   "outputs": [],
   "source": [
    "og_list =[]\n",
    "for key in species_map:\n",
    "    og_list.append(key.split()[0]+\" \"+key.split()[1].lower())"
   ]
  },
  {
   "cell_type": "code",
   "execution_count": 13,
   "metadata": {},
   "outputs": [
    {
     "data": {
      "text/plain": [
       "['Corvus corax',\n",
       " 'Sceloporus occidentalis',\n",
       " 'Quercus kelloggii',\n",
       " 'Cornus nuttallii',\n",
       " 'Asclepias speciosa',\n",
       " 'Pinus ponderosa',\n",
       " 'Castilleja miniata',\n",
       " 'Toxicodendron diversilobum',\n",
       " 'Odocoileus hemionus',\n",
       " 'Sequoiadendron giganteum',\n",
       " 'Sarcodes sanguinea',\n",
       " 'Calocedrus decurrens',\n",
       " 'Eschscholzia californica',\n",
       " 'Juniperus occidentalis',\n",
       " 'Pinus albicaulis',\n",
       " 'Pinus sabiniana',\n",
       " 'Quercus lobata',\n",
       " 'Pinus attenuata',\n",
       " 'Aesculus californica',\n",
       " 'Umbellularia californica',\n",
       " 'Torreya californica',\n",
       " 'Pseudotsuga menziesii',\n",
       " 'Acer macrophyllum',\n",
       " 'Populus tremuloides']"
      ]
     },
     "execution_count": 13,
     "metadata": {},
     "output_type": "execute_result"
    }
   ],
   "source": [
    "og_list"
   ]
  },
  {
   "cell_type": "code",
   "execution_count": 16,
   "metadata": {},
   "outputs": [],
   "source": [
    "ogdf = pd.DataFrame(og_list, columns=[\"name\"])"
   ]
  },
  {
   "cell_type": "code",
   "execution_count": 18,
   "metadata": {},
   "outputs": [],
   "source": [
    "merged = pd.merge(ogdf,species, how=\"inner\", left_on=\"name\", right_on=\"name\")"
   ]
  },
  {
   "cell_type": "code",
   "execution_count": 19,
   "metadata": {},
   "outputs": [
    {
     "data": {
      "text/plain": [
       "Index(['name', 'class_x', 'family_x', 'genus_x', 'id', 'kingdom_x', 'order_x',\n",
       "       'phylum_x', 'supercategory', 'dir18', 'order_y', 'dir19', 'commonname',\n",
       "       'yose_score', 'yose_join', 'Scientific Name', 'Synonyms', 'Common Name',\n",
       "       'Occurrence', 'Occurrence Tags', 'Abundance', 'Nativeness',\n",
       "       'Nativeness Tags', 'marine', 'label'],\n",
       "      dtype='object')"
      ]
     },
     "execution_count": 19,
     "metadata": {},
     "output_type": "execute_result"
    }
   ],
   "source": [
    "merged.columns"
   ]
  },
  {
   "cell_type": "code",
   "execution_count": 56,
   "metadata": {},
   "outputs": [
    {
     "data": {
      "text/html": [
       "<div>\n",
       "<style scoped>\n",
       "    .dataframe tbody tr th:only-of-type {\n",
       "        vertical-align: middle;\n",
       "    }\n",
       "\n",
       "    .dataframe tbody tr th {\n",
       "        vertical-align: top;\n",
       "    }\n",
       "\n",
       "    .dataframe thead th {\n",
       "        text-align: right;\n",
       "    }\n",
       "</style>\n",
       "<table border=\"1\" class=\"dataframe\">\n",
       "  <thead>\n",
       "    <tr style=\"text-align: right;\">\n",
       "      <th></th>\n",
       "      <th>name</th>\n",
       "      <th>class_x</th>\n",
       "      <th>family_x</th>\n",
       "      <th>genus_x</th>\n",
       "      <th>id</th>\n",
       "      <th>kingdom_x</th>\n",
       "      <th>order_x</th>\n",
       "      <th>phylum_x</th>\n",
       "      <th>supercategory</th>\n",
       "      <th>dir18</th>\n",
       "      <th>...</th>\n",
       "      <th>Scientific Name</th>\n",
       "      <th>Synonyms</th>\n",
       "      <th>Common Name</th>\n",
       "      <th>Occurrence</th>\n",
       "      <th>Occurrence Tags</th>\n",
       "      <th>Abundance</th>\n",
       "      <th>Nativeness</th>\n",
       "      <th>Nativeness Tags</th>\n",
       "      <th>marine</th>\n",
       "      <th>label</th>\n",
       "    </tr>\n",
       "  </thead>\n",
       "  <tbody>\n",
       "    <tr>\n",
       "      <th>0</th>\n",
       "      <td>Corvus corax</td>\n",
       "      <td>Aves</td>\n",
       "      <td>Corvidae</td>\n",
       "      <td>Corvus</td>\n",
       "      <td>3278.0</td>\n",
       "      <td>Animalia</td>\n",
       "      <td>Passeriformes</td>\n",
       "      <td>Chordata</td>\n",
       "      <td>Aves</td>\n",
       "      <td>train_val2018/Aves/3278</td>\n",
       "      <td>...</td>\n",
       "      <td>Corvus corax</td>\n",
       "      <td>NaN</td>\n",
       "      <td>common raven</td>\n",
       "      <td>Present</td>\n",
       "      <td>NaN</td>\n",
       "      <td>Abundant</td>\n",
       "      <td>Unknown</td>\n",
       "      <td>NaN</td>\n",
       "      <td>NaN</td>\n",
       "      <td>Common Raven</td>\n",
       "    </tr>\n",
       "    <tr>\n",
       "      <th>1</th>\n",
       "      <td>Sceloporus occidentalis</td>\n",
       "      <td>Reptilia</td>\n",
       "      <td>Phrynosomatidae</td>\n",
       "      <td>Sceloporus</td>\n",
       "      <td>4436.0</td>\n",
       "      <td>Animalia</td>\n",
       "      <td>Squamata</td>\n",
       "      <td>Chordata</td>\n",
       "      <td>Reptilia</td>\n",
       "      <td>train_val2018/Reptilia/4436</td>\n",
       "      <td>...</td>\n",
       "      <td>Sceloporus occidentalis</td>\n",
       "      <td>Sceloporus occidentalis biseriatus (118745),Sc...</td>\n",
       "      <td>Western Fence Lizard</td>\n",
       "      <td>Present</td>\n",
       "      <td>NaN</td>\n",
       "      <td>Common</td>\n",
       "      <td>Native</td>\n",
       "      <td>NaN</td>\n",
       "      <td>NaN</td>\n",
       "      <td>Pacific Blue bellied Lizard</td>\n",
       "    </tr>\n",
       "    <tr>\n",
       "      <th>2</th>\n",
       "      <td>Quercus kelloggii</td>\n",
       "      <td>Magnoliopsida</td>\n",
       "      <td>Fagaceae</td>\n",
       "      <td>Quercus</td>\n",
       "      <td>6851.0</td>\n",
       "      <td>Plantae</td>\n",
       "      <td>Fagales</td>\n",
       "      <td>Magnoliophyta</td>\n",
       "      <td>Plantae</td>\n",
       "      <td>train_val2018/Plantae/6851</td>\n",
       "      <td>...</td>\n",
       "      <td>Quercus kelloggii</td>\n",
       "      <td>NaN</td>\n",
       "      <td>California black oak</td>\n",
       "      <td>Present</td>\n",
       "      <td>NaN</td>\n",
       "      <td>Common</td>\n",
       "      <td>Native</td>\n",
       "      <td>NaN</td>\n",
       "      <td>NaN</td>\n",
       "      <td>California black oak</td>\n",
       "    </tr>\n",
       "    <tr>\n",
       "      <th>3</th>\n",
       "      <td>Cornus nuttallii</td>\n",
       "      <td>Magnoliopsida</td>\n",
       "      <td>Cornaceae</td>\n",
       "      <td>Cornus</td>\n",
       "      <td>NaN</td>\n",
       "      <td>Plantae</td>\n",
       "      <td>Cornales</td>\n",
       "      <td>Tracheophyta</td>\n",
       "      <td>NaN</td>\n",
       "      <td>NaN</td>\n",
       "      <td>...</td>\n",
       "      <td>Cornus nuttallii</td>\n",
       "      <td>NaN</td>\n",
       "      <td>Pacific dogwood</td>\n",
       "      <td>Present</td>\n",
       "      <td>NaN</td>\n",
       "      <td>Common</td>\n",
       "      <td>Native</td>\n",
       "      <td>NaN</td>\n",
       "      <td>NaN</td>\n",
       "      <td>Pacific dogwood</td>\n",
       "    </tr>\n",
       "    <tr>\n",
       "      <th>4</th>\n",
       "      <td>Asclepias speciosa</td>\n",
       "      <td>Magnoliopsida</td>\n",
       "      <td>Apocynaceae</td>\n",
       "      <td>Asclepias</td>\n",
       "      <td>6904.0</td>\n",
       "      <td>Plantae</td>\n",
       "      <td>Gentianales</td>\n",
       "      <td>Magnoliophyta</td>\n",
       "      <td>Plantae</td>\n",
       "      <td>train_val2018/Plantae/6904</td>\n",
       "      <td>...</td>\n",
       "      <td>Asclepias speciosa</td>\n",
       "      <td>NaN</td>\n",
       "      <td>showy milkweed</td>\n",
       "      <td>Present</td>\n",
       "      <td>NaN</td>\n",
       "      <td>Common</td>\n",
       "      <td>Native</td>\n",
       "      <td>NaN</td>\n",
       "      <td>NaN</td>\n",
       "      <td>Showy milkweed</td>\n",
       "    </tr>\n",
       "  </tbody>\n",
       "</table>\n",
       "<p>5 rows × 25 columns</p>\n",
       "</div>"
      ],
      "text/plain": [
       "                      name        class_x         family_x     genus_x  \\\n",
       "0             Corvus corax           Aves         Corvidae      Corvus   \n",
       "1  Sceloporus occidentalis       Reptilia  Phrynosomatidae  Sceloporus   \n",
       "2        Quercus kelloggii  Magnoliopsida         Fagaceae     Quercus   \n",
       "3         Cornus nuttallii  Magnoliopsida        Cornaceae      Cornus   \n",
       "4       Asclepias speciosa  Magnoliopsida      Apocynaceae   Asclepias   \n",
       "\n",
       "       id kingdom_x        order_x       phylum_x supercategory  \\\n",
       "0  3278.0  Animalia  Passeriformes       Chordata          Aves   \n",
       "1  4436.0  Animalia       Squamata       Chordata      Reptilia   \n",
       "2  6851.0   Plantae        Fagales  Magnoliophyta       Plantae   \n",
       "3     NaN   Plantae       Cornales   Tracheophyta           NaN   \n",
       "4  6904.0   Plantae    Gentianales  Magnoliophyta       Plantae   \n",
       "\n",
       "                         dir18  ...          Scientific Name  \\\n",
       "0      train_val2018/Aves/3278  ...             Corvus corax   \n",
       "1  train_val2018/Reptilia/4436  ...  Sceloporus occidentalis   \n",
       "2   train_val2018/Plantae/6851  ...        Quercus kelloggii   \n",
       "3                          NaN  ...         Cornus nuttallii   \n",
       "4   train_val2018/Plantae/6904  ...       Asclepias speciosa   \n",
       "\n",
       "                                            Synonyms           Common Name  \\\n",
       "0                                                NaN          common raven   \n",
       "1  Sceloporus occidentalis biseriatus (118745),Sc...  Western Fence Lizard   \n",
       "2                                                NaN  California black oak   \n",
       "3                                                NaN       Pacific dogwood   \n",
       "4                                                NaN        showy milkweed   \n",
       "\n",
       "   Occurrence Occurrence Tags Abundance Nativeness Nativeness Tags marine  \\\n",
       "0     Present             NaN  Abundant    Unknown             NaN    NaN   \n",
       "1     Present             NaN    Common     Native             NaN    NaN   \n",
       "2     Present             NaN    Common     Native             NaN    NaN   \n",
       "3     Present             NaN    Common     Native             NaN    NaN   \n",
       "4     Present             NaN    Common     Native             NaN    NaN   \n",
       "\n",
       "                         label  \n",
       "0                 Common Raven  \n",
       "1  Pacific Blue bellied Lizard  \n",
       "2         California black oak  \n",
       "3              Pacific dogwood  \n",
       "4               Showy milkweed  \n",
       "\n",
       "[5 rows x 25 columns]"
      ]
     },
     "execution_count": 56,
     "metadata": {},
     "output_type": "execute_result"
    }
   ],
   "source": [
    "merged.head()"
   ]
  },
  {
   "cell_type": "code",
   "execution_count": 78,
   "metadata": {},
   "outputs": [],
   "source": [
    "game_subset = merged[['name','class_x','family_x', 'genus_x','Abundance', 'Nativeness', 'label']]"
   ]
  },
  {
   "cell_type": "markdown",
   "metadata": {},
   "source": [
    "### Format game data\n",
    "- recode abundance\n",
    "- add species (split from name)\n",
    "- change column names to match Odyssee table"
   ]
  },
  {
   "cell_type": "code",
   "execution_count": 32,
   "metadata": {},
   "outputs": [
    {
     "data": {
      "text/plain": [
       "array([nan, 'Rare', 'Unknown', 'Common', 'Uncommon', 'Occasional',\n",
       "       'Abundant'], dtype=object)"
      ]
     },
     "execution_count": 32,
     "metadata": {},
     "output_type": "execute_result"
    }
   ],
   "source": [
    "species['Abundance'].unique()"
   ]
  },
  {
   "cell_type": "code",
   "execution_count": 41,
   "metadata": {},
   "outputs": [],
   "source": [
    "species.loc[(species['Abundance']==\"Unknown\"),\"Abundance\"]=\"Rare\""
   ]
  },
  {
   "cell_type": "code",
   "execution_count": 43,
   "metadata": {},
   "outputs": [],
   "source": [
    "species.loc[(species['Abundance'].isnull()),\"Abundance\"]=\"Rare\""
   ]
  },
  {
   "cell_type": "code",
   "execution_count": 44,
   "metadata": {},
   "outputs": [
    {
     "data": {
      "text/plain": [
       "array(['Rare', 'Common', 'Uncommon', 'Occasional', 'Abundant'],\n",
       "      dtype=object)"
      ]
     },
     "execution_count": 44,
     "metadata": {},
     "output_type": "execute_result"
    }
   ],
   "source": [
    "species['Abundance'].unique()"
   ]
  },
  {
   "cell_type": "code",
   "execution_count": 46,
   "metadata": {},
   "outputs": [],
   "source": [
    "score_map = {'Rare':10,'Uncommon':7,'Common':5, 'Occasional':3, 'Abundant':1}"
   ]
  },
  {
   "cell_type": "code",
   "execution_count": 47,
   "metadata": {},
   "outputs": [
    {
     "data": {
      "text/plain": [
       "dict_keys(['Rare', 'Uncommon', 'Common', 'Occasional', 'Abundant'])"
      ]
     },
     "execution_count": 47,
     "metadata": {},
     "output_type": "execute_result"
    }
   ],
   "source": [
    "score_map.keys()"
   ]
  },
  {
   "cell_type": "code",
   "execution_count": 48,
   "metadata": {},
   "outputs": [],
   "source": [
    "#match these column names\n",
    "Odyssee_columns = [\"HuntName\",\"ItemClass\",\"Genus\",\"Species\",\"Description\",\n",
    "                   \"Hints\",\"GPSCoordLat\",\"GPSCoordLong\",\"Image\",\n",
    "                   \"MinAltitude\",\"MaxAltitude\",\"StartDate\",\"EndDate\",\n",
    "                   \"RarityScore\",\"DifficultyLevel\",\"Endemic?\",\"Scavenger?\",\n",
    "                   \"Predator?\",\"Decomposer?\",\"CarbonHungry?\",\"Flowering?\"]"
   ]
  },
  {
   "cell_type": "code",
   "execution_count": 79,
   "metadata": {},
   "outputs": [],
   "source": [
    "game_subset['RarityScore'] = game_subset['Abundance'].map(score_map)"
   ]
  },
  {
   "cell_type": "code",
   "execution_count": 80,
   "metadata": {},
   "outputs": [],
   "source": [
    "game_subset['Species'] = game_subset['name'].apply(lambda x: x.split()[1])"
   ]
  },
  {
   "cell_type": "code",
   "execution_count": 81,
   "metadata": {},
   "outputs": [],
   "source": [
    "game_subset['Endemic?'] = game_subset['Nativeness'].map({\"Unknown\":0,\"Native\":1})"
   ]
  },
  {
   "cell_type": "code",
   "execution_count": 82,
   "metadata": {},
   "outputs": [],
   "source": [
    "game_subset['HuntName'] = game_subset[\"label\"]"
   ]
  },
  {
   "cell_type": "code",
   "execution_count": 83,
   "metadata": {},
   "outputs": [],
   "source": [
    "# min diff level\n",
    "diff_map = {1:\"Easy\",3:\"Easy\",5:\"Med\",7:\"Med\", 9:\"Hard\"}\n",
    "game_subset[\"DifficultyLevel\"] = game_subset[\"RarityScore\"].map(diff_map)"
   ]
  },
  {
   "cell_type": "code",
   "execution_count": 84,
   "metadata": {},
   "outputs": [
    {
     "data": {
      "text/plain": [
       "Index(['name', 'class_x', 'family_x', 'genus_x', 'Abundance', 'Nativeness',\n",
       "       'label', 'RarityScore', 'Species', 'Endemic?', 'HuntName',\n",
       "       'DifficultyLevel'],\n",
       "      dtype='object')"
      ]
     },
     "execution_count": 84,
     "metadata": {},
     "output_type": "execute_result"
    }
   ],
   "source": [
    "game_subset.columns"
   ]
  },
  {
   "cell_type": "code",
   "execution_count": 87,
   "metadata": {},
   "outputs": [],
   "source": [
    "game_subset.rename(columns={'class_x': 'ItemClass','family_x':'Family','genus_x':'Genus','species_x':'Species'}, inplace=True)"
   ]
  },
  {
   "cell_type": "code",
   "execution_count": 90,
   "metadata": {},
   "outputs": [],
   "source": [
    "game_subset2 = game_subset[['HuntName', 'ItemClass', 'Genus', 'Species','Abundance', 'RarityScore','DifficultyLevel', 'Endemic?']]"
   ]
  },
  {
   "cell_type": "code",
   "execution_count": 91,
   "metadata": {},
   "outputs": [],
   "source": [
    "game_subset2.to_csv(\"game_table_new.csv\")"
   ]
  },
  {
   "cell_type": "markdown",
   "metadata": {},
   "source": [
    "### Export complete game data to json\n",
    "Features added to data\n",
    "- Label Number\n",
    "- Hints\n",
    "- Descriptions\n",
    "- One-hot characteristics for items\n"
   ]
  },
  {
   "cell_type": "code",
   "execution_count": 7,
   "metadata": {},
   "outputs": [],
   "source": [
    "game_df = pd.read_csv(\"game_table.csv\")"
   ]
  },
  {
   "cell_type": "code",
   "execution_count": 11,
   "metadata": {},
   "outputs": [],
   "source": [
    "with open(\"game.json\",\"w\") as file:\n",
    "    file.write(str(game_df.to_dict()))"
   ]
  },
  {
   "cell_type": "code",
   "execution_count": 13,
   "metadata": {},
   "outputs": [],
   "source": [
    "with open(\"game_recordoriented.json\",\"w\") as file:\n",
    "    file.write(str(game_df.to_json(orient=\"records\")))"
   ]
  },
  {
   "cell_type": "code",
   "execution_count": null,
   "metadata": {},
   "outputs": [],
   "source": []
  }
 ],
 "metadata": {
  "kernelspec": {
   "display_name": "Python 3",
   "language": "python",
   "name": "python3"
  },
  "language_info": {
   "codemirror_mode": {
    "name": "ipython",
    "version": 3
   },
   "file_extension": ".py",
   "mimetype": "text/x-python",
   "name": "python",
   "nbconvert_exporter": "python",
   "pygments_lexer": "ipython3",
   "version": "3.7.3"
  }
 },
 "nbformat": 4,
 "nbformat_minor": 4
}
