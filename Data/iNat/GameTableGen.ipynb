{
 "cells": [
  {
   "cell_type": "markdown",
   "metadata": {},
   "source": [
    "## Create Game Tables"
   ]
  },
  {
   "cell_type": "code",
   "execution_count": 1,
   "metadata": {},
   "outputs": [],
   "source": [
    "import json\n",
    "import pandas as pd\n",
    "import warnings\n",
    "warnings.simplefilter(action='ignore', category=Warning)"
   ]
  },
  {
   "cell_type": "code",
   "execution_count": 2,
   "metadata": {},
   "outputs": [],
   "source": [
    "species = pd.read_csv(\"speciesDB_full.csv\")"
   ]
  },
  {
   "cell_type": "code",
   "execution_count": 29,
   "metadata": {},
   "outputs": [
    {
     "data": {
      "text/html": [
       "<div>\n",
       "<style scoped>\n",
       "    .dataframe tbody tr th:only-of-type {\n",
       "        vertical-align: middle;\n",
       "    }\n",
       "\n",
       "    .dataframe tbody tr th {\n",
       "        vertical-align: top;\n",
       "    }\n",
       "\n",
       "    .dataframe thead th {\n",
       "        text-align: right;\n",
       "    }\n",
       "</style>\n",
       "<table border=\"1\" class=\"dataframe\">\n",
       "  <thead>\n",
       "    <tr style=\"text-align: right;\">\n",
       "      <th></th>\n",
       "      <th>class_x</th>\n",
       "      <th>family_x</th>\n",
       "      <th>genus_x</th>\n",
       "      <th>id</th>\n",
       "      <th>kingdom_x</th>\n",
       "      <th>name</th>\n",
       "      <th>order_x</th>\n",
       "      <th>phylum_x</th>\n",
       "      <th>supercategory</th>\n",
       "      <th>dir18</th>\n",
       "      <th>...</th>\n",
       "      <th>Scientific Name</th>\n",
       "      <th>Synonyms</th>\n",
       "      <th>Common Name</th>\n",
       "      <th>Occurrence</th>\n",
       "      <th>Occurrence Tags</th>\n",
       "      <th>Abundance</th>\n",
       "      <th>Nativeness</th>\n",
       "      <th>Nativeness Tags</th>\n",
       "      <th>marine</th>\n",
       "      <th>label</th>\n",
       "    </tr>\n",
       "  </thead>\n",
       "  <tbody>\n",
       "    <tr>\n",
       "      <th>0</th>\n",
       "      <td>Polychaeta</td>\n",
       "      <td>Amphinomidae</td>\n",
       "      <td>Hermodice</td>\n",
       "      <td>0.0</td>\n",
       "      <td>Animalia</td>\n",
       "      <td>Hermodice carunculata</td>\n",
       "      <td>Phyllodocida</td>\n",
       "      <td>Annelida</td>\n",
       "      <td>Animalia</td>\n",
       "      <td>train_val2018/Animalia/0</td>\n",
       "      <td>...</td>\n",
       "      <td>NaN</td>\n",
       "      <td>NaN</td>\n",
       "      <td>NaN</td>\n",
       "      <td>NaN</td>\n",
       "      <td>NaN</td>\n",
       "      <td>NaN</td>\n",
       "      <td>NaN</td>\n",
       "      <td>NaN</td>\n",
       "      <td>True</td>\n",
       "      <td>Bearded fireworm</td>\n",
       "    </tr>\n",
       "    <tr>\n",
       "      <th>1</th>\n",
       "      <td>Polychaeta</td>\n",
       "      <td>Sabellariidae</td>\n",
       "      <td>Phragmatopoma</td>\n",
       "      <td>1.0</td>\n",
       "      <td>Animalia</td>\n",
       "      <td>Phragmatopoma californica</td>\n",
       "      <td>Sabellida</td>\n",
       "      <td>Annelida</td>\n",
       "      <td>Animalia</td>\n",
       "      <td>train_val2018/Animalia/1</td>\n",
       "      <td>...</td>\n",
       "      <td>NaN</td>\n",
       "      <td>NaN</td>\n",
       "      <td>NaN</td>\n",
       "      <td>NaN</td>\n",
       "      <td>NaN</td>\n",
       "      <td>NaN</td>\n",
       "      <td>NaN</td>\n",
       "      <td>NaN</td>\n",
       "      <td>True</td>\n",
       "      <td>Phragmatopoma californica</td>\n",
       "    </tr>\n",
       "    <tr>\n",
       "      <th>2</th>\n",
       "      <td>Polychaeta</td>\n",
       "      <td>Sabellidae</td>\n",
       "      <td>Eudistylia</td>\n",
       "      <td>2.0</td>\n",
       "      <td>Animalia</td>\n",
       "      <td>Eudistylia vancouveri</td>\n",
       "      <td>Sabellida</td>\n",
       "      <td>Annelida</td>\n",
       "      <td>Animalia</td>\n",
       "      <td>train_val2018/Animalia/2</td>\n",
       "      <td>...</td>\n",
       "      <td>NaN</td>\n",
       "      <td>NaN</td>\n",
       "      <td>NaN</td>\n",
       "      <td>NaN</td>\n",
       "      <td>NaN</td>\n",
       "      <td>NaN</td>\n",
       "      <td>NaN</td>\n",
       "      <td>NaN</td>\n",
       "      <td>True</td>\n",
       "      <td>Eudistylia vancouveri</td>\n",
       "    </tr>\n",
       "    <tr>\n",
       "      <th>3</th>\n",
       "      <td>Polychaeta</td>\n",
       "      <td>Serpulidae</td>\n",
       "      <td>Galeolaria</td>\n",
       "      <td>3.0</td>\n",
       "      <td>Animalia</td>\n",
       "      <td>Galeolaria hystrix</td>\n",
       "      <td>Sabellida</td>\n",
       "      <td>Annelida</td>\n",
       "      <td>Animalia</td>\n",
       "      <td>train_val2018/Animalia/3</td>\n",
       "      <td>...</td>\n",
       "      <td>NaN</td>\n",
       "      <td>NaN</td>\n",
       "      <td>NaN</td>\n",
       "      <td>NaN</td>\n",
       "      <td>NaN</td>\n",
       "      <td>NaN</td>\n",
       "      <td>NaN</td>\n",
       "      <td>NaN</td>\n",
       "      <td>True</td>\n",
       "      <td>Galeolaria hystrix</td>\n",
       "    </tr>\n",
       "    <tr>\n",
       "      <th>4</th>\n",
       "      <td>Polychaeta</td>\n",
       "      <td>Serpulidae</td>\n",
       "      <td>Serpula</td>\n",
       "      <td>4.0</td>\n",
       "      <td>Animalia</td>\n",
       "      <td>Serpula columbiana</td>\n",
       "      <td>Sabellida</td>\n",
       "      <td>Annelida</td>\n",
       "      <td>Animalia</td>\n",
       "      <td>train_val2018/Animalia/4</td>\n",
       "      <td>...</td>\n",
       "      <td>NaN</td>\n",
       "      <td>NaN</td>\n",
       "      <td>NaN</td>\n",
       "      <td>NaN</td>\n",
       "      <td>NaN</td>\n",
       "      <td>NaN</td>\n",
       "      <td>NaN</td>\n",
       "      <td>NaN</td>\n",
       "      <td>True</td>\n",
       "      <td>Serpula columbiana</td>\n",
       "    </tr>\n",
       "  </tbody>\n",
       "</table>\n",
       "<p>5 rows × 25 columns</p>\n",
       "</div>"
      ],
      "text/plain": [
       "      class_x       family_x        genus_x   id kingdom_x  \\\n",
       "0  Polychaeta   Amphinomidae      Hermodice  0.0  Animalia   \n",
       "1  Polychaeta  Sabellariidae  Phragmatopoma  1.0  Animalia   \n",
       "2  Polychaeta     Sabellidae     Eudistylia  2.0  Animalia   \n",
       "3  Polychaeta     Serpulidae     Galeolaria  3.0  Animalia   \n",
       "4  Polychaeta     Serpulidae        Serpula  4.0  Animalia   \n",
       "\n",
       "                        name       order_x  phylum_x supercategory  \\\n",
       "0      Hermodice carunculata  Phyllodocida  Annelida      Animalia   \n",
       "1  Phragmatopoma californica     Sabellida  Annelida      Animalia   \n",
       "2      Eudistylia vancouveri     Sabellida  Annelida      Animalia   \n",
       "3         Galeolaria hystrix     Sabellida  Annelida      Animalia   \n",
       "4         Serpula columbiana     Sabellida  Annelida      Animalia   \n",
       "\n",
       "                      dir18  ... Scientific Name Synonyms Common Name  \\\n",
       "0  train_val2018/Animalia/0  ...             NaN      NaN         NaN   \n",
       "1  train_val2018/Animalia/1  ...             NaN      NaN         NaN   \n",
       "2  train_val2018/Animalia/2  ...             NaN      NaN         NaN   \n",
       "3  train_val2018/Animalia/3  ...             NaN      NaN         NaN   \n",
       "4  train_val2018/Animalia/4  ...             NaN      NaN         NaN   \n",
       "\n",
       "   Occurrence Occurrence Tags Abundance Nativeness Nativeness Tags marine  \\\n",
       "0         NaN             NaN       NaN        NaN             NaN   True   \n",
       "1         NaN             NaN       NaN        NaN             NaN   True   \n",
       "2         NaN             NaN       NaN        NaN             NaN   True   \n",
       "3         NaN             NaN       NaN        NaN             NaN   True   \n",
       "4         NaN             NaN       NaN        NaN             NaN   True   \n",
       "\n",
       "                       label  \n",
       "0           Bearded fireworm  \n",
       "1  Phragmatopoma californica  \n",
       "2      Eudistylia vancouveri  \n",
       "3         Galeolaria hystrix  \n",
       "4         Serpula columbiana  \n",
       "\n",
       "[5 rows x 25 columns]"
      ]
     },
     "execution_count": 29,
     "metadata": {},
     "output_type": "execute_result"
    }
   ],
   "source": [
    "species.head()"
   ]
  },
  {
   "cell_type": "code",
   "execution_count": 4,
   "metadata": {},
   "outputs": [],
   "source": [
    "species_map = {\"Corvus Corax\": (\"Raven\", (212, 3278)),\n",
    "\"Sceloporus Occidentalis\": (\"Western Fence Lizard\", (165, 4436)),\n",
    "\"Quercus Kelloggii\": (\"Black Oak\", (657, 6851)),\n",
    "\"Cornus Nuttallii\": (\"Pacific Dogwood\", (442, None)),\n",
    "\"Asclepias Speciosa\": (\"Milkweed\", (568, 6904)),\n",
    "\"Pinus Ponderosa\": (\"Ponderosa Pine\", (981, 7963)),\n",
    "\"Castilleja Miniata\": (\"Giant Red Paintbrush\", (736, None)),\n",
    "\"Toxicodendron Diversilobum\": (\"Poison Oak\", (None, 7741)),\n",
    "\"Odocoileus Hemionus\": (\"Mule Deer\", (None, 4068)),\n",
    "\"Sequoiadendron Giganteum\":(\"Redwood Tree\", (None, 7935) ),\n",
    "\"Sarcodes Sanguinea\": (\"Snowplant\", (None, 6607)),\n",
    "\"Calocedrus Decurrens\":(\"California Incense Cedar\", (None,7920)),\n",
    "\"Eschscholzia Californica\": (\"California Poppy\", (None, 7512)),\n",
    "\"Juniperus Occidentalis\": (\"Western Juniper\", (None, 7930)),\n",
    "\"Pinus Albicaulis\": (\"White Bark Pine\", (None,7949)),\n",
    "\"Pinus Sabiniana\": (\"Digger Pine\", (None,7966)),\n",
    "\"Quercus Lobata\": (\"Valley Oak\", (None, 6853)),\n",
    "\"Pinus Attenuata\": (\"Knobcone Pine\", (None,7950)),\n",
    "\"Aesculus Californica\": (\"California Buckeye\", (None,7767)),\n",
    "\"Umbellularia Californica\": (\"California Laurel\", (None,7246)),\n",
    "\"Torreya Californica\": (\"California Nutmeg\", (None,7979)),\n",
    "\"Pseudotsuga Menziesii\": (\"Douglas Fir\", (None,7971)),\n",
    "\"Acer Macrophyllum\": (\"Broadleaf Maple\", (None,7757)),\n",
    "\"Populus Tremuloides\": (\"Quaking Aspen\", (None,7330))\n",
    "}"
   ]
  },
  {
   "cell_type": "code",
   "execution_count": 12,
   "metadata": {},
   "outputs": [],
   "source": [
    "og_list =[]\n",
    "for key in species_map:\n",
    "    og_list.append(key.split()[0]+\" \"+key.split()[1].lower())"
   ]
  },
  {
   "cell_type": "code",
   "execution_count": 13,
   "metadata": {},
   "outputs": [
    {
     "data": {
      "text/plain": [
       "['Corvus corax',\n",
       " 'Sceloporus occidentalis',\n",
       " 'Quercus kelloggii',\n",
       " 'Cornus nuttallii',\n",
       " 'Asclepias speciosa',\n",
       " 'Pinus ponderosa',\n",
       " 'Castilleja miniata',\n",
       " 'Toxicodendron diversilobum',\n",
       " 'Odocoileus hemionus',\n",
       " 'Sequoiadendron giganteum',\n",
       " 'Sarcodes sanguinea',\n",
       " 'Calocedrus decurrens',\n",
       " 'Eschscholzia californica',\n",
       " 'Juniperus occidentalis',\n",
       " 'Pinus albicaulis',\n",
       " 'Pinus sabiniana',\n",
       " 'Quercus lobata',\n",
       " 'Pinus attenuata',\n",
       " 'Aesculus californica',\n",
       " 'Umbellularia californica',\n",
       " 'Torreya californica',\n",
       " 'Pseudotsuga menziesii',\n",
       " 'Acer macrophyllum',\n",
       " 'Populus tremuloides']"
      ]
     },
     "execution_count": 13,
     "metadata": {},
     "output_type": "execute_result"
    }
   ],
   "source": [
    "og_list"
   ]
  },
  {
   "cell_type": "code",
   "execution_count": 16,
   "metadata": {},
   "outputs": [],
   "source": [
    "ogdf = pd.DataFrame(og_list, columns=[\"name\"])"
   ]
  },
  {
   "cell_type": "code",
   "execution_count": 18,
   "metadata": {},
   "outputs": [],
   "source": [
    "merged = pd.merge(ogdf,species, how=\"inner\", left_on=\"name\", right_on=\"name\")"
   ]
  },
  {
   "cell_type": "code",
   "execution_count": 19,
   "metadata": {},
   "outputs": [
    {
     "data": {
      "text/plain": [
       "Index(['name', 'class_x', 'family_x', 'genus_x', 'id', 'kingdom_x', 'order_x',\n",
       "       'phylum_x', 'supercategory', 'dir18', 'order_y', 'dir19', 'commonname',\n",
       "       'yose_score', 'yose_join', 'Scientific Name', 'Synonyms', 'Common Name',\n",
       "       'Occurrence', 'Occurrence Tags', 'Abundance', 'Nativeness',\n",
       "       'Nativeness Tags', 'marine', 'label'],\n",
       "      dtype='object')"
      ]
     },
     "execution_count": 19,
     "metadata": {},
     "output_type": "execute_result"
    }
   ],
   "source": [
    "merged.columns"
   ]
  },
  {
   "cell_type": "code",
   "execution_count": 56,
   "metadata": {},
   "outputs": [
    {
     "data": {
      "text/html": [
       "<div>\n",
       "<style scoped>\n",
       "    .dataframe tbody tr th:only-of-type {\n",
       "        vertical-align: middle;\n",
       "    }\n",
       "\n",
       "    .dataframe tbody tr th {\n",
       "        vertical-align: top;\n",
       "    }\n",
       "\n",
       "    .dataframe thead th {\n",
       "        text-align: right;\n",
       "    }\n",
       "</style>\n",
       "<table border=\"1\" class=\"dataframe\">\n",
       "  <thead>\n",
       "    <tr style=\"text-align: right;\">\n",
       "      <th></th>\n",
       "      <th>name</th>\n",
       "      <th>class_x</th>\n",
       "      <th>family_x</th>\n",
       "      <th>genus_x</th>\n",
       "      <th>id</th>\n",
       "      <th>kingdom_x</th>\n",
       "      <th>order_x</th>\n",
       "      <th>phylum_x</th>\n",
       "      <th>supercategory</th>\n",
       "      <th>dir18</th>\n",
       "      <th>...</th>\n",
       "      <th>Scientific Name</th>\n",
       "      <th>Synonyms</th>\n",
       "      <th>Common Name</th>\n",
       "      <th>Occurrence</th>\n",
       "      <th>Occurrence Tags</th>\n",
       "      <th>Abundance</th>\n",
       "      <th>Nativeness</th>\n",
       "      <th>Nativeness Tags</th>\n",
       "      <th>marine</th>\n",
       "      <th>label</th>\n",
       "    </tr>\n",
       "  </thead>\n",
       "  <tbody>\n",
       "    <tr>\n",
       "      <th>0</th>\n",
       "      <td>Corvus corax</td>\n",
       "      <td>Aves</td>\n",
       "      <td>Corvidae</td>\n",
       "      <td>Corvus</td>\n",
       "      <td>3278.0</td>\n",
       "      <td>Animalia</td>\n",
       "      <td>Passeriformes</td>\n",
       "      <td>Chordata</td>\n",
       "      <td>Aves</td>\n",
       "      <td>train_val2018/Aves/3278</td>\n",
       "      <td>...</td>\n",
       "      <td>Corvus corax</td>\n",
       "      <td>NaN</td>\n",
       "      <td>common raven</td>\n",
       "      <td>Present</td>\n",
       "      <td>NaN</td>\n",
       "      <td>Abundant</td>\n",
       "      <td>Unknown</td>\n",
       "      <td>NaN</td>\n",
       "      <td>NaN</td>\n",
       "      <td>Common Raven</td>\n",
       "    </tr>\n",
       "    <tr>\n",
       "      <th>1</th>\n",
       "      <td>Sceloporus occidentalis</td>\n",
       "      <td>Reptilia</td>\n",
       "      <td>Phrynosomatidae</td>\n",
       "      <td>Sceloporus</td>\n",
       "      <td>4436.0</td>\n",
       "      <td>Animalia</td>\n",
       "      <td>Squamata</td>\n",
       "      <td>Chordata</td>\n",
       "      <td>Reptilia</td>\n",
       "      <td>train_val2018/Reptilia/4436</td>\n",
       "      <td>...</td>\n",
       "      <td>Sceloporus occidentalis</td>\n",
       "      <td>Sceloporus occidentalis biseriatus (118745),Sc...</td>\n",
       "      <td>Western Fence Lizard</td>\n",
       "      <td>Present</td>\n",
       "      <td>NaN</td>\n",
       "      <td>Common</td>\n",
       "      <td>Native</td>\n",
       "      <td>NaN</td>\n",
       "      <td>NaN</td>\n",
       "      <td>Pacific Blue bellied Lizard</td>\n",
       "    </tr>\n",
       "    <tr>\n",
       "      <th>2</th>\n",
       "      <td>Quercus kelloggii</td>\n",
       "      <td>Magnoliopsida</td>\n",
       "      <td>Fagaceae</td>\n",
       "      <td>Quercus</td>\n",
       "      <td>6851.0</td>\n",
       "      <td>Plantae</td>\n",
       "      <td>Fagales</td>\n",
       "      <td>Magnoliophyta</td>\n",
       "      <td>Plantae</td>\n",
       "      <td>train_val2018/Plantae/6851</td>\n",
       "      <td>...</td>\n",
       "      <td>Quercus kelloggii</td>\n",
       "      <td>NaN</td>\n",
       "      <td>California black oak</td>\n",
       "      <td>Present</td>\n",
       "      <td>NaN</td>\n",
       "      <td>Common</td>\n",
       "      <td>Native</td>\n",
       "      <td>NaN</td>\n",
       "      <td>NaN</td>\n",
       "      <td>California black oak</td>\n",
       "    </tr>\n",
       "    <tr>\n",
       "      <th>3</th>\n",
       "      <td>Cornus nuttallii</td>\n",
       "      <td>Magnoliopsida</td>\n",
       "      <td>Cornaceae</td>\n",
       "      <td>Cornus</td>\n",
       "      <td>NaN</td>\n",
       "      <td>Plantae</td>\n",
       "      <td>Cornales</td>\n",
       "      <td>Tracheophyta</td>\n",
       "      <td>NaN</td>\n",
       "      <td>NaN</td>\n",
       "      <td>...</td>\n",
       "      <td>Cornus nuttallii</td>\n",
       "      <td>NaN</td>\n",
       "      <td>Pacific dogwood</td>\n",
       "      <td>Present</td>\n",
       "      <td>NaN</td>\n",
       "      <td>Common</td>\n",
       "      <td>Native</td>\n",
       "      <td>NaN</td>\n",
       "      <td>NaN</td>\n",
       "      <td>Pacific dogwood</td>\n",
       "    </tr>\n",
       "    <tr>\n",
       "      <th>4</th>\n",
       "      <td>Asclepias speciosa</td>\n",
       "      <td>Magnoliopsida</td>\n",
       "      <td>Apocynaceae</td>\n",
       "      <td>Asclepias</td>\n",
       "      <td>6904.0</td>\n",
       "      <td>Plantae</td>\n",
       "      <td>Gentianales</td>\n",
       "      <td>Magnoliophyta</td>\n",
       "      <td>Plantae</td>\n",
       "      <td>train_val2018/Plantae/6904</td>\n",
       "      <td>...</td>\n",
       "      <td>Asclepias speciosa</td>\n",
       "      <td>NaN</td>\n",
       "      <td>showy milkweed</td>\n",
       "      <td>Present</td>\n",
       "      <td>NaN</td>\n",
       "      <td>Common</td>\n",
       "      <td>Native</td>\n",
       "      <td>NaN</td>\n",
       "      <td>NaN</td>\n",
       "      <td>Showy milkweed</td>\n",
       "    </tr>\n",
       "  </tbody>\n",
       "</table>\n",
       "<p>5 rows × 25 columns</p>\n",
       "</div>"
      ],
      "text/plain": [
       "                      name        class_x         family_x     genus_x  \\\n",
       "0             Corvus corax           Aves         Corvidae      Corvus   \n",
       "1  Sceloporus occidentalis       Reptilia  Phrynosomatidae  Sceloporus   \n",
       "2        Quercus kelloggii  Magnoliopsida         Fagaceae     Quercus   \n",
       "3         Cornus nuttallii  Magnoliopsida        Cornaceae      Cornus   \n",
       "4       Asclepias speciosa  Magnoliopsida      Apocynaceae   Asclepias   \n",
       "\n",
       "       id kingdom_x        order_x       phylum_x supercategory  \\\n",
       "0  3278.0  Animalia  Passeriformes       Chordata          Aves   \n",
       "1  4436.0  Animalia       Squamata       Chordata      Reptilia   \n",
       "2  6851.0   Plantae        Fagales  Magnoliophyta       Plantae   \n",
       "3     NaN   Plantae       Cornales   Tracheophyta           NaN   \n",
       "4  6904.0   Plantae    Gentianales  Magnoliophyta       Plantae   \n",
       "\n",
       "                         dir18  ...          Scientific Name  \\\n",
       "0      train_val2018/Aves/3278  ...             Corvus corax   \n",
       "1  train_val2018/Reptilia/4436  ...  Sceloporus occidentalis   \n",
       "2   train_val2018/Plantae/6851  ...        Quercus kelloggii   \n",
       "3                          NaN  ...         Cornus nuttallii   \n",
       "4   train_val2018/Plantae/6904  ...       Asclepias speciosa   \n",
       "\n",
       "                                            Synonyms           Common Name  \\\n",
       "0                                                NaN          common raven   \n",
       "1  Sceloporus occidentalis biseriatus (118745),Sc...  Western Fence Lizard   \n",
       "2                                                NaN  California black oak   \n",
       "3                                                NaN       Pacific dogwood   \n",
       "4                                                NaN        showy milkweed   \n",
       "\n",
       "   Occurrence Occurrence Tags Abundance Nativeness Nativeness Tags marine  \\\n",
       "0     Present             NaN  Abundant    Unknown             NaN    NaN   \n",
       "1     Present             NaN    Common     Native             NaN    NaN   \n",
       "2     Present             NaN    Common     Native             NaN    NaN   \n",
       "3     Present             NaN    Common     Native             NaN    NaN   \n",
       "4     Present             NaN    Common     Native             NaN    NaN   \n",
       "\n",
       "                         label  \n",
       "0                 Common Raven  \n",
       "1  Pacific Blue bellied Lizard  \n",
       "2         California black oak  \n",
       "3              Pacific dogwood  \n",
       "4               Showy milkweed  \n",
       "\n",
       "[5 rows x 25 columns]"
      ]
     },
     "execution_count": 56,
     "metadata": {},
     "output_type": "execute_result"
    }
   ],
   "source": [
    "merged.head()"
   ]
  },
  {
   "cell_type": "code",
   "execution_count": 78,
   "metadata": {},
   "outputs": [],
   "source": [
    "game_subset = merged[['name','class_x','family_x', 'genus_x','Abundance', 'Nativeness', 'label']]"
   ]
  },
  {
   "cell_type": "markdown",
   "metadata": {},
   "source": [
    "### Format game data\n",
    "- recode abundance\n",
    "- add species (split from name)\n",
    "- change column names to match Odyssee table"
   ]
  },
  {
   "cell_type": "code",
   "execution_count": 32,
   "metadata": {},
   "outputs": [
    {
     "data": {
      "text/plain": [
       "array([nan, 'Rare', 'Unknown', 'Common', 'Uncommon', 'Occasional',\n",
       "       'Abundant'], dtype=object)"
      ]
     },
     "execution_count": 32,
     "metadata": {},
     "output_type": "execute_result"
    }
   ],
   "source": [
    "species['Abundance'].unique()"
   ]
  },
  {
   "cell_type": "code",
   "execution_count": 41,
   "metadata": {},
   "outputs": [],
   "source": [
    "species.loc[(species['Abundance']==\"Unknown\"),\"Abundance\"]=\"Rare\""
   ]
  },
  {
   "cell_type": "code",
   "execution_count": 43,
   "metadata": {},
   "outputs": [],
   "source": [
    "species.loc[(species['Abundance'].isnull()),\"Abundance\"]=\"Rare\""
   ]
  },
  {
   "cell_type": "code",
   "execution_count": 44,
   "metadata": {},
   "outputs": [
    {
     "data": {
      "text/plain": [
       "array(['Rare', 'Common', 'Uncommon', 'Occasional', 'Abundant'],\n",
       "      dtype=object)"
      ]
     },
     "execution_count": 44,
     "metadata": {},
     "output_type": "execute_result"
    }
   ],
   "source": [
    "species['Abundance'].unique()"
   ]
  },
  {
   "cell_type": "code",
   "execution_count": 46,
   "metadata": {},
   "outputs": [],
   "source": [
    "score_map = {'Rare':10,'Uncommon':7,'Common':5, 'Occasional':3, 'Abundant':1}"
   ]
  },
  {
   "cell_type": "code",
   "execution_count": 47,
   "metadata": {},
   "outputs": [
    {
     "data": {
      "text/plain": [
       "dict_keys(['Rare', 'Uncommon', 'Common', 'Occasional', 'Abundant'])"
      ]
     },
     "execution_count": 47,
     "metadata": {},
     "output_type": "execute_result"
    }
   ],
   "source": [
    "score_map.keys()"
   ]
  },
  {
   "cell_type": "code",
   "execution_count": 48,
   "metadata": {},
   "outputs": [],
   "source": [
    "#match these column names\n",
    "Odyssee_columns = [\"HuntName\",\"ItemClass\",\"Genus\",\"Species\",\"Description\",\n",
    "                   \"Hints\",\"GPSCoordLat\",\"GPSCoordLong\",\"Image\",\n",
    "                   \"MinAltitude\",\"MaxAltitude\",\"StartDate\",\"EndDate\",\n",
    "                   \"RarityScore\",\"DifficultyLevel\",\"Endemic?\",\"Scavenger?\",\n",
    "                   \"Predator?\",\"Decomposer?\",\"CarbonHungry?\",\"Flowering?\"]"
   ]
  },
  {
   "cell_type": "code",
   "execution_count": 79,
   "metadata": {},
   "outputs": [],
   "source": [
    "game_subset['RarityScore'] = game_subset['Abundance'].map(score_map)"
   ]
  },
  {
   "cell_type": "code",
   "execution_count": 80,
   "metadata": {},
   "outputs": [],
   "source": [
    "game_subset['Species'] = game_subset['name'].apply(lambda x: x.split()[1])"
   ]
  },
  {
   "cell_type": "code",
   "execution_count": 81,
   "metadata": {},
   "outputs": [],
   "source": [
    "game_subset['Endemic?'] = game_subset['Nativeness'].map({\"Unknown\":0,\"Native\":1})"
   ]
  },
  {
   "cell_type": "code",
   "execution_count": 82,
   "metadata": {},
   "outputs": [],
   "source": [
    "game_subset['HuntName'] = game_subset[\"label\"]"
   ]
  },
  {
   "cell_type": "code",
   "execution_count": 83,
   "metadata": {},
   "outputs": [],
   "source": [
    "# min diff level\n",
    "diff_map = {1:\"Easy\",3:\"Easy\",5:\"Med\",7:\"Med\", 9:\"Hard\"}\n",
    "game_subset[\"DifficultyLevel\"] = game_subset[\"RarityScore\"].map(diff_map)"
   ]
  },
  {
   "cell_type": "code",
   "execution_count": 84,
   "metadata": {},
   "outputs": [
    {
     "data": {
      "text/plain": [
       "Index(['name', 'class_x', 'family_x', 'genus_x', 'Abundance', 'Nativeness',\n",
       "       'label', 'RarityScore', 'Species', 'Endemic?', 'HuntName',\n",
       "       'DifficultyLevel'],\n",
       "      dtype='object')"
      ]
     },
     "execution_count": 84,
     "metadata": {},
     "output_type": "execute_result"
    }
   ],
   "source": [
    "game_subset.columns"
   ]
  },
  {
   "cell_type": "code",
   "execution_count": 87,
   "metadata": {},
   "outputs": [],
   "source": [
    "game_subset.rename(columns={'class_x': 'ItemClass','family_x':'Family','genus_x':'Genus','species_x':'Species'}, inplace=True)"
   ]
  },
  {
   "cell_type": "code",
   "execution_count": 90,
   "metadata": {},
   "outputs": [],
   "source": [
    "game_subset2 = game_subset[['HuntName', 'ItemClass', 'Genus', 'Species','Abundance', 'RarityScore','DifficultyLevel', 'Endemic?']]"
   ]
  },
  {
   "cell_type": "code",
   "execution_count": 91,
   "metadata": {},
   "outputs": [],
   "source": [
    "game_subset2.to_csv(\"game_table_new.csv\")"
   ]
  },
  {
   "cell_type": "markdown",
   "metadata": {},
   "source": [
    "### Export complete game data to json\n",
    "Features added to data\n",
    "- Label Number\n",
    "- Hints\n",
    "- Descriptions\n",
    "- One-hot characteristics for items\n"
   ]
  },
  {
   "cell_type": "code",
   "execution_count": 8,
   "metadata": {},
   "outputs": [],
   "source": [
    "game_df = pd.read_csv(\"game_table.csv\")"
   ]
  },
  {
   "cell_type": "code",
   "execution_count": 11,
   "metadata": {},
   "outputs": [],
   "source": [
    "with open(\"game.json\",\"w\") as file:\n",
    "    file.write(str(game_df.to_dict()))"
   ]
  },
  {
   "cell_type": "code",
   "execution_count": 13,
   "metadata": {},
   "outputs": [],
   "source": [
    "with open(\"game_recordoriented.json\",\"w\") as file:\n",
    "    file.write(str(game_df.to_json(orient=\"records\")))"
   ]
  },
  {
   "cell_type": "code",
   "execution_count": 14,
   "metadata": {},
   "outputs": [
    {
     "name": "stdout",
     "output_type": "stream",
     "text": [
      "Collecting firebase-admin\n",
      "  Downloading https://files.pythonhosted.org/packages/f6/0a/98410db0d119cd1993b116489191183cf894f26d7061a87a4a1c6a240cf1/firebase_admin-4.0.0-py3-none-any.whl (82kB)\n",
      "Collecting google-api-python-client>=1.7.8 (from firebase-admin)\n",
      "  Downloading https://files.pythonhosted.org/packages/9a/b4/a955f393b838bc47cbb6ae4643b9d0f90333d3b4db4dc1e819f36aad18cc/google_api_python_client-1.8.0-py3-none-any.whl (57kB)\n",
      "Collecting google-cloud-storage>=1.18.0 (from firebase-admin)\n",
      "  Downloading https://files.pythonhosted.org/packages/88/67/80761781f813ffbf8bc1db7270b6d23de7a96468da4601de3bf2e5e1d829/google_cloud_storage-1.26.0-py2.py3-none-any.whl (75kB)\n",
      "Collecting cachecontrol>=0.12.6 (from firebase-admin)\n",
      "  Downloading https://files.pythonhosted.org/packages/18/71/0a9df4206a5dc5ae7609c41efddab2270a2c1ff61d39de7591dc7302ef89/CacheControl-0.12.6-py2.py3-none-any.whl\n",
      "Collecting google-cloud-firestore>=1.4.0; platform_python_implementation != \"PyPy\" (from firebase-admin)\n",
      "  Downloading https://files.pythonhosted.org/packages/68/a3/bcde6f5ce12314d6e392c61489c1e5f4b59d2bf23e8e8613a257d6d4c993/google_cloud_firestore-1.6.2-py2.py3-none-any.whl (335kB)\n",
      "Collecting google-api-core[grpc]<2.0.0dev,>=1.14.0; platform_python_implementation != \"PyPy\" (from firebase-admin)\n",
      "  Downloading https://files.pythonhosted.org/packages/63/7e/a523169b0cc9ce62d56e07571db927286a94b1a5f51ac220bd97db825c77/google_api_core-1.16.0-py2.py3-none-any.whl (70kB)\n",
      "Collecting google-auth>=1.4.1 (from google-api-python-client>=1.7.8->firebase-admin)\n",
      "  Downloading https://files.pythonhosted.org/packages/f7/f8/2da482a6165ef3f28d52faf8c2ca31628129a84a294033eb399ef500e265/google_auth-1.11.3-py2.py3-none-any.whl (76kB)\n",
      "Collecting google-auth-httplib2>=0.0.3 (from google-api-python-client>=1.7.8->firebase-admin)\n",
      "  Using cached https://files.pythonhosted.org/packages/33/49/c814d6d438b823441552198f096fcd0377fd6c88714dbed34f1d3c8c4389/google_auth_httplib2-0.0.3-py2.py3-none-any.whl\n",
      "Requirement already satisfied: six<2dev,>=1.6.1 in c:\\users\\gjack\\anaconda3\\lib\\site-packages (from google-api-python-client>=1.7.8->firebase-admin) (1.12.0)\n",
      "Collecting uritemplate<4dev,>=3.0.0 (from google-api-python-client>=1.7.8->firebase-admin)\n",
      "  Downloading https://files.pythonhosted.org/packages/bf/0c/60d82c077998feb631608dca3cc1fe19ac074e772bf0c24cf409b977b815/uritemplate-3.0.1-py2.py3-none-any.whl\n",
      "Collecting httplib2<1dev,>=0.9.2 (from google-api-python-client>=1.7.8->firebase-admin)\n",
      "  Downloading https://files.pythonhosted.org/packages/8e/4b/025a7338bb2d4a2c61f0e530b79aafc29d112ed8e61333a6dd9ba48f3bab/httplib2-0.17.0-py3-none-any.whl (95kB)\n",
      "Collecting google-resumable-media<0.6dev,>=0.5.0 (from google-cloud-storage>=1.18.0->firebase-admin)\n",
      "  Downloading https://files.pythonhosted.org/packages/35/9e/f73325d0466ce5bdc36333f1aeb2892ead7b76e79bdb5c8b0493961fa098/google_resumable_media-0.5.0-py2.py3-none-any.whl\n",
      "Collecting google-cloud-core<2.0dev,>=1.2.0 (from google-cloud-storage>=1.18.0->firebase-admin)\n",
      "  Downloading https://files.pythonhosted.org/packages/89/3c/8a7531839028c9690e6d14c650521f3bbaf26e53baaeb2784b8c3eb2fb97/google_cloud_core-1.3.0-py2.py3-none-any.whl\n",
      "Requirement already satisfied: msgpack>=0.5.2 in c:\\users\\gjack\\anaconda3\\lib\\site-packages (from cachecontrol>=0.12.6->firebase-admin) (0.6.1)\n",
      "Requirement already satisfied: requests in c:\\users\\gjack\\anaconda3\\lib\\site-packages (from cachecontrol>=0.12.6->firebase-admin) (2.22.0)\n",
      "Requirement already satisfied: pytz in c:\\users\\gjack\\anaconda3\\lib\\site-packages (from google-cloud-firestore>=1.4.0; platform_python_implementation != \"PyPy\"->firebase-admin) (2019.1)\n",
      "Collecting googleapis-common-protos<2.0dev,>=1.6.0 (from google-api-core[grpc]<2.0.0dev,>=1.14.0; platform_python_implementation != \"PyPy\"->firebase-admin)\n",
      "  Downloading https://files.pythonhosted.org/packages/05/46/168fd780f594a4d61122f7f3dc0561686084319ad73b4febbf02ae8b32cf/googleapis-common-protos-1.51.0.tar.gz\n",
      "Requirement already satisfied: setuptools>=34.0.0 in c:\\users\\gjack\\anaconda3\\lib\\site-packages (from google-api-core[grpc]<2.0.0dev,>=1.14.0; platform_python_implementation != \"PyPy\"->firebase-admin) (41.0.1)\n",
      "Requirement already satisfied: protobuf>=3.4.0 in c:\\users\\gjack\\anaconda3\\lib\\site-packages (from google-api-core[grpc]<2.0.0dev,>=1.14.0; platform_python_implementation != \"PyPy\"->firebase-admin) (3.9.1)\n",
      "Requirement already satisfied: grpcio<2.0dev,>=1.8.2; extra == \"grpc\" in c:\\users\\gjack\\anaconda3\\lib\\site-packages (from google-api-core[grpc]<2.0.0dev,>=1.14.0; platform_python_implementation != \"PyPy\"->firebase-admin) (1.23.0)\n",
      "Collecting cachetools<5.0,>=2.0.0 (from google-auth>=1.4.1->google-api-python-client>=1.7.8->firebase-admin)\n",
      "  Downloading https://files.pythonhosted.org/packages/08/6a/abf83cb951617793fd49c98cb9456860f5df66ff89883c8660aa0672d425/cachetools-4.0.0-py3-none-any.whl\n",
      "Collecting pyasn1-modules>=0.2.1 (from google-auth>=1.4.1->google-api-python-client>=1.7.8->firebase-admin)\n",
      "  Downloading https://files.pythonhosted.org/packages/95/de/214830a981892a3e286c3794f41ae67a4495df1108c3da8a9f62159b9a9d/pyasn1_modules-0.2.8-py2.py3-none-any.whl (155kB)\n",
      "Collecting rsa<4.1,>=3.1.4 (from google-auth>=1.4.1->google-api-python-client>=1.7.8->firebase-admin)\n",
      "  Using cached https://files.pythonhosted.org/packages/02/e5/38518af393f7c214357079ce67a317307936896e961e35450b70fad2a9cf/rsa-4.0-py2.py3-none-any.whl\n",
      "Requirement already satisfied: urllib3!=1.25.0,!=1.25.1,<1.26,>=1.21.1 in c:\\users\\gjack\\anaconda3\\lib\\site-packages (from requests->cachecontrol>=0.12.6->firebase-admin) (1.24.2)\n",
      "Requirement already satisfied: certifi>=2017.4.17 in c:\\users\\gjack\\anaconda3\\lib\\site-packages (from requests->cachecontrol>=0.12.6->firebase-admin) (2019.6.16)\n",
      "Requirement already satisfied: chardet<3.1.0,>=3.0.2 in c:\\users\\gjack\\anaconda3\\lib\\site-packages (from requests->cachecontrol>=0.12.6->firebase-admin) (3.0.4)\n",
      "Requirement already satisfied: idna<2.9,>=2.5 in c:\\users\\gjack\\anaconda3\\lib\\site-packages (from requests->cachecontrol>=0.12.6->firebase-admin) (2.8)\n",
      "Collecting pyasn1<0.5.0,>=0.4.6 (from pyasn1-modules>=0.2.1->google-auth>=1.4.1->google-api-python-client>=1.7.8->firebase-admin)\n",
      "  Downloading https://files.pythonhosted.org/packages/62/1e/a94a8d635fa3ce4cfc7f506003548d0a2447ae76fd5ca53932970fe3053f/pyasn1-0.4.8-py2.py3-none-any.whl (77kB)\n",
      "Building wheels for collected packages: googleapis-common-protos\n",
      "  Building wheel for googleapis-common-protos (setup.py): started\n",
      "  Building wheel for googleapis-common-protos (setup.py): finished with status 'done'\n",
      "  Stored in directory: C:\\Users\\gjack\\AppData\\Local\\pip\\Cache\\wheels\\2c\\f9\\7f\\6eb87e636072bf467e25348bbeb96849333e6a080dca78f706\n",
      "Successfully built googleapis-common-protos\n",
      "Installing collected packages: cachetools, pyasn1, pyasn1-modules, rsa, google-auth, httplib2, google-auth-httplib2, googleapis-common-protos, google-api-core, uritemplate, google-api-python-client, google-resumable-media, google-cloud-core, google-cloud-storage, cachecontrol, google-cloud-firestore, firebase-admin\n",
      "Successfully installed cachecontrol-0.12.6 cachetools-4.0.0 firebase-admin-4.0.0 google-api-core-1.16.0 google-api-python-client-1.8.0 google-auth-1.11.3 google-auth-httplib2-0.0.3 google-cloud-core-1.3.0 google-cloud-firestore-1.6.2 google-cloud-storage-1.26.0 google-resumable-media-0.5.0 googleapis-common-protos-1.51.0 httplib2-0.17.0 pyasn1-0.4.8 pyasn1-modules-0.2.8 rsa-4.0 uritemplate-3.0.1\n"
     ]
    }
   ],
   "source": [
    "!pip install firebase-admin"
   ]
  },
  {
   "cell_type": "code",
   "execution_count": 2,
   "metadata": {},
   "outputs": [
    {
     "data": {
      "text/plain": [
       "<firebase_admin.App at 0x15bc8edbba8>"
      ]
     },
     "execution_count": 2,
     "metadata": {},
     "output_type": "execute_result"
    }
   ],
   "source": [
    "import firebase_admin\n",
    "from firebase_admin import credentials\n",
    "\n",
    "cred = credentials.Certificate(\"CloudPaths/fir-classification-firebase-adminsdk-6635n-0f55bc991e.json\")\n",
    "firebase_admin.initialize_app(cred)"
   ]
  },
  {
   "cell_type": "code",
   "execution_count": 6,
   "metadata": {},
   "outputs": [],
   "source": [
    "from firebase_admin import db\n",
    "from firebase_admin import firestore"
   ]
  },
  {
   "cell_type": "code",
   "execution_count": 22,
   "metadata": {},
   "outputs": [
    {
     "data": {
      "text/plain": [
       "<firebase_admin.db.Reference at 0x29a0247e828>"
      ]
     },
     "execution_count": 22,
     "metadata": {},
     "output_type": "execute_result"
    }
   ],
   "source": [
    "# upload to realtime db\n",
    "ref = db.reference(url =\"https://fir-classification.firebaseio.com/OdysseeTable/opvEPyUDXUpIEn7fvaKE\")\n",
    "ref.push(str(game_df.to_dict()))"
   ]
  },
  {
   "cell_type": "markdown",
   "metadata": {},
   "source": [
    "### Upload to Cloud Firestore"
   ]
  },
  {
   "cell_type": "code",
   "execution_count": 7,
   "metadata": {},
   "outputs": [],
   "source": [
    "# setup credentials and get client\n",
    "cred = credentials.Certificate(\"CloudPaths/fir-classification-firebase-adminsdk-6635n-0f55bc991e.json\")\n",
    "firebase_admin.initialize_app(cred)\n",
    "\n",
    "db = firestore.client()"
   ]
  },
  {
   "cell_type": "code",
   "execution_count": 25,
   "metadata": {},
   "outputs": [],
   "source": [
    "# create list of records in json format\n",
    "doc_list = game_df.to_dict(orient=\"records\")"
   ]
  },
  {
   "cell_type": "code",
   "execution_count": 35,
   "metadata": {},
   "outputs": [],
   "source": [
    "# upload each row\n",
    "item_no = 0\n",
    "for doc in doc_list:\n",
    "    item=u\"item\"+str(item_no)\n",
    "    doc_ref = db.collection(u'OdysseeTable').document(item)\n",
    "    doc_ref.set(doc)\n",
    "    item_no+=1"
   ]
  },
  {
   "cell_type": "code",
   "execution_count": null,
   "metadata": {},
   "outputs": [],
   "source": []
  }
 ],
 "metadata": {
  "kernelspec": {
   "display_name": "Python 3",
   "language": "python",
   "name": "python3"
  },
  "language_info": {
   "codemirror_mode": {
    "name": "ipython",
    "version": 3
   },
   "file_extension": ".py",
   "mimetype": "text/x-python",
   "name": "python",
   "nbconvert_exporter": "python",
   "pygments_lexer": "ipython3",
   "version": "3.7.3"
  }
 },
 "nbformat": 4,
 "nbformat_minor": 4
}
