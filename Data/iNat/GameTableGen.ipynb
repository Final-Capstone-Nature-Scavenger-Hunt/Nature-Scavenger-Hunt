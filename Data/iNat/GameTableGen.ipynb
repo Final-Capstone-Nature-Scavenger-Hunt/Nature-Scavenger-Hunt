{
 "cells": [
  {
   "cell_type": "markdown",
   "metadata": {},
   "source": [
    "## Create Game Tables"
   ]
  },
  {
   "cell_type": "code",
   "execution_count": 1,
   "metadata": {},
   "outputs": [],
   "source": [
    "import json\n",
    "import pandas as pd\n",
    "import warnings\n",
    "warnings.simplefilter(action='ignore', category=Warning)"
   ]
  },
  {
   "cell_type": "code",
   "execution_count": 2,
   "metadata": {},
   "outputs": [],
   "source": [
    "species = pd.read_csv(\"speciesDB_full.csv\")"
   ]
  },
  {
   "cell_type": "code",
   "execution_count": 3,
   "metadata": {},
   "outputs": [
    {
     "data": {
      "text/html": [
       "<div>\n",
       "<style scoped>\n",
       "    .dataframe tbody tr th:only-of-type {\n",
       "        vertical-align: middle;\n",
       "    }\n",
       "\n",
       "    .dataframe tbody tr th {\n",
       "        vertical-align: top;\n",
       "    }\n",
       "\n",
       "    .dataframe thead th {\n",
       "        text-align: right;\n",
       "    }\n",
       "</style>\n",
       "<table border=\"1\" class=\"dataframe\">\n",
       "  <thead>\n",
       "    <tr style=\"text-align: right;\">\n",
       "      <th></th>\n",
       "      <th>class_x</th>\n",
       "      <th>family_x</th>\n",
       "      <th>genus_x</th>\n",
       "      <th>id</th>\n",
       "      <th>kingdom_x</th>\n",
       "      <th>name</th>\n",
       "      <th>order_x</th>\n",
       "      <th>phylum_x</th>\n",
       "      <th>supercategory</th>\n",
       "      <th>dir18</th>\n",
       "      <th>...</th>\n",
       "      <th>Scientific Name</th>\n",
       "      <th>Synonyms</th>\n",
       "      <th>Common Name</th>\n",
       "      <th>Occurrence</th>\n",
       "      <th>Occurrence Tags</th>\n",
       "      <th>Abundance</th>\n",
       "      <th>Nativeness</th>\n",
       "      <th>Nativeness Tags</th>\n",
       "      <th>marine</th>\n",
       "      <th>label</th>\n",
       "    </tr>\n",
       "  </thead>\n",
       "  <tbody>\n",
       "    <tr>\n",
       "      <th>0</th>\n",
       "      <td>Polychaeta</td>\n",
       "      <td>Amphinomidae</td>\n",
       "      <td>Hermodice</td>\n",
       "      <td>0.0</td>\n",
       "      <td>Animalia</td>\n",
       "      <td>Hermodice carunculata</td>\n",
       "      <td>Phyllodocida</td>\n",
       "      <td>Annelida</td>\n",
       "      <td>Animalia</td>\n",
       "      <td>train_val2018/Animalia/0</td>\n",
       "      <td>...</td>\n",
       "      <td>NaN</td>\n",
       "      <td>NaN</td>\n",
       "      <td>NaN</td>\n",
       "      <td>NaN</td>\n",
       "      <td>NaN</td>\n",
       "      <td>NaN</td>\n",
       "      <td>NaN</td>\n",
       "      <td>NaN</td>\n",
       "      <td>True</td>\n",
       "      <td>Bearded fireworm</td>\n",
       "    </tr>\n",
       "    <tr>\n",
       "      <th>1</th>\n",
       "      <td>Polychaeta</td>\n",
       "      <td>Sabellariidae</td>\n",
       "      <td>Phragmatopoma</td>\n",
       "      <td>1.0</td>\n",
       "      <td>Animalia</td>\n",
       "      <td>Phragmatopoma californica</td>\n",
       "      <td>Sabellida</td>\n",
       "      <td>Annelida</td>\n",
       "      <td>Animalia</td>\n",
       "      <td>train_val2018/Animalia/1</td>\n",
       "      <td>...</td>\n",
       "      <td>NaN</td>\n",
       "      <td>NaN</td>\n",
       "      <td>NaN</td>\n",
       "      <td>NaN</td>\n",
       "      <td>NaN</td>\n",
       "      <td>NaN</td>\n",
       "      <td>NaN</td>\n",
       "      <td>NaN</td>\n",
       "      <td>True</td>\n",
       "      <td>Phragmatopoma californica</td>\n",
       "    </tr>\n",
       "    <tr>\n",
       "      <th>2</th>\n",
       "      <td>Polychaeta</td>\n",
       "      <td>Sabellidae</td>\n",
       "      <td>Eudistylia</td>\n",
       "      <td>2.0</td>\n",
       "      <td>Animalia</td>\n",
       "      <td>Eudistylia vancouveri</td>\n",
       "      <td>Sabellida</td>\n",
       "      <td>Annelida</td>\n",
       "      <td>Animalia</td>\n",
       "      <td>train_val2018/Animalia/2</td>\n",
       "      <td>...</td>\n",
       "      <td>NaN</td>\n",
       "      <td>NaN</td>\n",
       "      <td>NaN</td>\n",
       "      <td>NaN</td>\n",
       "      <td>NaN</td>\n",
       "      <td>NaN</td>\n",
       "      <td>NaN</td>\n",
       "      <td>NaN</td>\n",
       "      <td>True</td>\n",
       "      <td>Eudistylia vancouveri</td>\n",
       "    </tr>\n",
       "    <tr>\n",
       "      <th>3</th>\n",
       "      <td>Polychaeta</td>\n",
       "      <td>Serpulidae</td>\n",
       "      <td>Galeolaria</td>\n",
       "      <td>3.0</td>\n",
       "      <td>Animalia</td>\n",
       "      <td>Galeolaria hystrix</td>\n",
       "      <td>Sabellida</td>\n",
       "      <td>Annelida</td>\n",
       "      <td>Animalia</td>\n",
       "      <td>train_val2018/Animalia/3</td>\n",
       "      <td>...</td>\n",
       "      <td>NaN</td>\n",
       "      <td>NaN</td>\n",
       "      <td>NaN</td>\n",
       "      <td>NaN</td>\n",
       "      <td>NaN</td>\n",
       "      <td>NaN</td>\n",
       "      <td>NaN</td>\n",
       "      <td>NaN</td>\n",
       "      <td>True</td>\n",
       "      <td>Galeolaria hystrix</td>\n",
       "    </tr>\n",
       "    <tr>\n",
       "      <th>4</th>\n",
       "      <td>Polychaeta</td>\n",
       "      <td>Serpulidae</td>\n",
       "      <td>Serpula</td>\n",
       "      <td>4.0</td>\n",
       "      <td>Animalia</td>\n",
       "      <td>Serpula columbiana</td>\n",
       "      <td>Sabellida</td>\n",
       "      <td>Annelida</td>\n",
       "      <td>Animalia</td>\n",
       "      <td>train_val2018/Animalia/4</td>\n",
       "      <td>...</td>\n",
       "      <td>NaN</td>\n",
       "      <td>NaN</td>\n",
       "      <td>NaN</td>\n",
       "      <td>NaN</td>\n",
       "      <td>NaN</td>\n",
       "      <td>NaN</td>\n",
       "      <td>NaN</td>\n",
       "      <td>NaN</td>\n",
       "      <td>True</td>\n",
       "      <td>Serpula columbiana</td>\n",
       "    </tr>\n",
       "  </tbody>\n",
       "</table>\n",
       "<p>5 rows × 25 columns</p>\n",
       "</div>"
      ],
      "text/plain": [
       "      class_x       family_x        genus_x   id kingdom_x  \\\n",
       "0  Polychaeta   Amphinomidae      Hermodice  0.0  Animalia   \n",
       "1  Polychaeta  Sabellariidae  Phragmatopoma  1.0  Animalia   \n",
       "2  Polychaeta     Sabellidae     Eudistylia  2.0  Animalia   \n",
       "3  Polychaeta     Serpulidae     Galeolaria  3.0  Animalia   \n",
       "4  Polychaeta     Serpulidae        Serpula  4.0  Animalia   \n",
       "\n",
       "                        name       order_x  phylum_x supercategory  \\\n",
       "0      Hermodice carunculata  Phyllodocida  Annelida      Animalia   \n",
       "1  Phragmatopoma californica     Sabellida  Annelida      Animalia   \n",
       "2      Eudistylia vancouveri     Sabellida  Annelida      Animalia   \n",
       "3         Galeolaria hystrix     Sabellida  Annelida      Animalia   \n",
       "4         Serpula columbiana     Sabellida  Annelida      Animalia   \n",
       "\n",
       "                      dir18  ... Scientific Name Synonyms Common Name  \\\n",
       "0  train_val2018/Animalia/0  ...             NaN      NaN         NaN   \n",
       "1  train_val2018/Animalia/1  ...             NaN      NaN         NaN   \n",
       "2  train_val2018/Animalia/2  ...             NaN      NaN         NaN   \n",
       "3  train_val2018/Animalia/3  ...             NaN      NaN         NaN   \n",
       "4  train_val2018/Animalia/4  ...             NaN      NaN         NaN   \n",
       "\n",
       "   Occurrence Occurrence Tags Abundance Nativeness Nativeness Tags marine  \\\n",
       "0         NaN             NaN       NaN        NaN             NaN   True   \n",
       "1         NaN             NaN       NaN        NaN             NaN   True   \n",
       "2         NaN             NaN       NaN        NaN             NaN   True   \n",
       "3         NaN             NaN       NaN        NaN             NaN   True   \n",
       "4         NaN             NaN       NaN        NaN             NaN   True   \n",
       "\n",
       "                       label  \n",
       "0           Bearded fireworm  \n",
       "1  Phragmatopoma californica  \n",
       "2      Eudistylia vancouveri  \n",
       "3         Galeolaria hystrix  \n",
       "4         Serpula columbiana  \n",
       "\n",
       "[5 rows x 25 columns]"
      ]
     },
     "execution_count": 3,
     "metadata": {},
     "output_type": "execute_result"
    }
   ],
   "source": [
    "species.head()"
   ]
  },
  {
   "cell_type": "code",
   "execution_count": 4,
   "metadata": {},
   "outputs": [],
   "source": [
    "species_map = {\"Corvus Corax\": (\"Raven\", (212, 3278)),\n",
    "\"Sceloporus Occidentalis\": (\"Western Fence Lizard\", (165, 4436)),\n",
    "\"Quercus Kelloggii\": (\"Black Oak\", (657, 6851)),\n",
    "\"Cornus Nuttallii\": (\"Pacific Dogwood\", (442, None)),\n",
    "\"Asclepias Speciosa\": (\"Milkweed\", (568, 6904)),\n",
    "\"Pinus Ponderosa\": (\"Ponderosa Pine\", (981, 7963)),\n",
    "\"Castilleja Miniata\": (\"Giant Red Paintbrush\", (736, None)),\n",
    "\"Toxicodendron Diversilobum\": (\"Poison Oak\", (None, 7741)),\n",
    "\"Odocoileus Hemionus\": (\"Mule Deer\", (None, 4068)),\n",
    "\"Sequoiadendron Giganteum\":(\"Redwood Tree\", (None, 7935) ),\n",
    "\"Sarcodes Sanguinea\": (\"Snowplant\", (None, 6607)),\n",
    "\"Calocedrus Decurrens\":(\"California Incense Cedar\", (None,7920)),\n",
    "\"Eschscholzia Californica\": (\"California Poppy\", (None, 7512)),\n",
    "\"Juniperus Occidentalis\": (\"Western Juniper\", (None, 7930)),\n",
    "\"Pinus Albicaulis\": (\"White Bark Pine\", (None,7949)),\n",
    "\"Pinus Sabiniana\": (\"Digger Pine\", (None,7966)),\n",
    "\"Quercus Lobata\": (\"Valley Oak\", (None, 6853)),\n",
    "\"Pinus Attenuata\": (\"Knobcone Pine\", (None,7950)),\n",
    "\"Aesculus Californica\": (\"California Buckeye\", (None,7767)),\n",
    "\"Umbellularia Californica\": (\"California Laurel\", (None,7246)),\n",
    "\"Torreya Californica\": (\"California Nutmeg\", (None,7979)),\n",
    "\"Pseudotsuga Menziesii\": (\"Douglas Fir\", (None,7971)),\n",
    "\"Acer Macrophyllum\": (\"Broadleaf Maple\", (None,7757)),\n",
    "\"Populus Tremuloides\": (\"Quaking Aspen\", (None,7330))\n",
    "}"
   ]
  },
  {
   "cell_type": "code",
   "execution_count": 12,
   "metadata": {},
   "outputs": [],
   "source": [
    "og_list =[]\n",
    "for key in species_map:\n",
    "    og_list.append(key.split()[0]+\" \"+key.split()[1].lower())"
   ]
  },
  {
   "cell_type": "code",
   "execution_count": 13,
   "metadata": {},
   "outputs": [
    {
     "data": {
      "text/plain": [
       "['Corvus corax',\n",
       " 'Sceloporus occidentalis',\n",
       " 'Quercus kelloggii',\n",
       " 'Cornus nuttallii',\n",
       " 'Asclepias speciosa',\n",
       " 'Pinus ponderosa',\n",
       " 'Castilleja miniata',\n",
       " 'Toxicodendron diversilobum',\n",
       " 'Odocoileus hemionus',\n",
       " 'Sequoiadendron giganteum',\n",
       " 'Sarcodes sanguinea',\n",
       " 'Calocedrus decurrens',\n",
       " 'Eschscholzia californica',\n",
       " 'Juniperus occidentalis',\n",
       " 'Pinus albicaulis',\n",
       " 'Pinus sabiniana',\n",
       " 'Quercus lobata',\n",
       " 'Pinus attenuata',\n",
       " 'Aesculus californica',\n",
       " 'Umbellularia californica',\n",
       " 'Torreya californica',\n",
       " 'Pseudotsuga menziesii',\n",
       " 'Acer macrophyllum',\n",
       " 'Populus tremuloides']"
      ]
     },
     "execution_count": 13,
     "metadata": {},
     "output_type": "execute_result"
    }
   ],
   "source": [
    "og_list"
   ]
  },
  {
   "cell_type": "code",
   "execution_count": 16,
   "metadata": {},
   "outputs": [],
   "source": [
    "ogdf = pd.DataFrame(og_list, columns=[\"name\"])"
   ]
  },
  {
   "cell_type": "code",
   "execution_count": 18,
   "metadata": {},
   "outputs": [],
   "source": [
    "merged = pd.merge(ogdf,species, how=\"inner\", left_on=\"name\", right_on=\"name\")"
   ]
  },
  {
   "cell_type": "code",
   "execution_count": 19,
   "metadata": {},
   "outputs": [
    {
     "data": {
      "text/plain": [
       "Index(['name', 'class_x', 'family_x', 'genus_x', 'id', 'kingdom_x', 'order_x',\n",
       "       'phylum_x', 'supercategory', 'dir18', 'order_y', 'dir19', 'commonname',\n",
       "       'yose_score', 'yose_join', 'Scientific Name', 'Synonyms', 'Common Name',\n",
       "       'Occurrence', 'Occurrence Tags', 'Abundance', 'Nativeness',\n",
       "       'Nativeness Tags', 'marine', 'label'],\n",
       "      dtype='object')"
      ]
     },
     "execution_count": 19,
     "metadata": {},
     "output_type": "execute_result"
    }
   ],
   "source": [
    "merged.columns"
   ]
  },
  {
   "cell_type": "code",
   "execution_count": 56,
   "metadata": {},
   "outputs": [
    {
     "data": {
      "text/html": [
       "<div>\n",
       "<style scoped>\n",
       "    .dataframe tbody tr th:only-of-type {\n",
       "        vertical-align: middle;\n",
       "    }\n",
       "\n",
       "    .dataframe tbody tr th {\n",
       "        vertical-align: top;\n",
       "    }\n",
       "\n",
       "    .dataframe thead th {\n",
       "        text-align: right;\n",
       "    }\n",
       "</style>\n",
       "<table border=\"1\" class=\"dataframe\">\n",
       "  <thead>\n",
       "    <tr style=\"text-align: right;\">\n",
       "      <th></th>\n",
       "      <th>name</th>\n",
       "      <th>class_x</th>\n",
       "      <th>family_x</th>\n",
       "      <th>genus_x</th>\n",
       "      <th>id</th>\n",
       "      <th>kingdom_x</th>\n",
       "      <th>order_x</th>\n",
       "      <th>phylum_x</th>\n",
       "      <th>supercategory</th>\n",
       "      <th>dir18</th>\n",
       "      <th>...</th>\n",
       "      <th>Scientific Name</th>\n",
       "      <th>Synonyms</th>\n",
       "      <th>Common Name</th>\n",
       "      <th>Occurrence</th>\n",
       "      <th>Occurrence Tags</th>\n",
       "      <th>Abundance</th>\n",
       "      <th>Nativeness</th>\n",
       "      <th>Nativeness Tags</th>\n",
       "      <th>marine</th>\n",
       "      <th>label</th>\n",
       "    </tr>\n",
       "  </thead>\n",
       "  <tbody>\n",
       "    <tr>\n",
       "      <th>0</th>\n",
       "      <td>Corvus corax</td>\n",
       "      <td>Aves</td>\n",
       "      <td>Corvidae</td>\n",
       "      <td>Corvus</td>\n",
       "      <td>3278.0</td>\n",
       "      <td>Animalia</td>\n",
       "      <td>Passeriformes</td>\n",
       "      <td>Chordata</td>\n",
       "      <td>Aves</td>\n",
       "      <td>train_val2018/Aves/3278</td>\n",
       "      <td>...</td>\n",
       "      <td>Corvus corax</td>\n",
       "      <td>NaN</td>\n",
       "      <td>common raven</td>\n",
       "      <td>Present</td>\n",
       "      <td>NaN</td>\n",
       "      <td>Abundant</td>\n",
       "      <td>Unknown</td>\n",
       "      <td>NaN</td>\n",
       "      <td>NaN</td>\n",
       "      <td>Common Raven</td>\n",
       "    </tr>\n",
       "    <tr>\n",
       "      <th>1</th>\n",
       "      <td>Sceloporus occidentalis</td>\n",
       "      <td>Reptilia</td>\n",
       "      <td>Phrynosomatidae</td>\n",
       "      <td>Sceloporus</td>\n",
       "      <td>4436.0</td>\n",
       "      <td>Animalia</td>\n",
       "      <td>Squamata</td>\n",
       "      <td>Chordata</td>\n",
       "      <td>Reptilia</td>\n",
       "      <td>train_val2018/Reptilia/4436</td>\n",
       "      <td>...</td>\n",
       "      <td>Sceloporus occidentalis</td>\n",
       "      <td>Sceloporus occidentalis biseriatus (118745),Sc...</td>\n",
       "      <td>Western Fence Lizard</td>\n",
       "      <td>Present</td>\n",
       "      <td>NaN</td>\n",
       "      <td>Common</td>\n",
       "      <td>Native</td>\n",
       "      <td>NaN</td>\n",
       "      <td>NaN</td>\n",
       "      <td>Pacific Blue bellied Lizard</td>\n",
       "    </tr>\n",
       "    <tr>\n",
       "      <th>2</th>\n",
       "      <td>Quercus kelloggii</td>\n",
       "      <td>Magnoliopsida</td>\n",
       "      <td>Fagaceae</td>\n",
       "      <td>Quercus</td>\n",
       "      <td>6851.0</td>\n",
       "      <td>Plantae</td>\n",
       "      <td>Fagales</td>\n",
       "      <td>Magnoliophyta</td>\n",
       "      <td>Plantae</td>\n",
       "      <td>train_val2018/Plantae/6851</td>\n",
       "      <td>...</td>\n",
       "      <td>Quercus kelloggii</td>\n",
       "      <td>NaN</td>\n",
       "      <td>California black oak</td>\n",
       "      <td>Present</td>\n",
       "      <td>NaN</td>\n",
       "      <td>Common</td>\n",
       "      <td>Native</td>\n",
       "      <td>NaN</td>\n",
       "      <td>NaN</td>\n",
       "      <td>California black oak</td>\n",
       "    </tr>\n",
       "    <tr>\n",
       "      <th>3</th>\n",
       "      <td>Cornus nuttallii</td>\n",
       "      <td>Magnoliopsida</td>\n",
       "      <td>Cornaceae</td>\n",
       "      <td>Cornus</td>\n",
       "      <td>NaN</td>\n",
       "      <td>Plantae</td>\n",
       "      <td>Cornales</td>\n",
       "      <td>Tracheophyta</td>\n",
       "      <td>NaN</td>\n",
       "      <td>NaN</td>\n",
       "      <td>...</td>\n",
       "      <td>Cornus nuttallii</td>\n",
       "      <td>NaN</td>\n",
       "      <td>Pacific dogwood</td>\n",
       "      <td>Present</td>\n",
       "      <td>NaN</td>\n",
       "      <td>Common</td>\n",
       "      <td>Native</td>\n",
       "      <td>NaN</td>\n",
       "      <td>NaN</td>\n",
       "      <td>Pacific dogwood</td>\n",
       "    </tr>\n",
       "    <tr>\n",
       "      <th>4</th>\n",
       "      <td>Asclepias speciosa</td>\n",
       "      <td>Magnoliopsida</td>\n",
       "      <td>Apocynaceae</td>\n",
       "      <td>Asclepias</td>\n",
       "      <td>6904.0</td>\n",
       "      <td>Plantae</td>\n",
       "      <td>Gentianales</td>\n",
       "      <td>Magnoliophyta</td>\n",
       "      <td>Plantae</td>\n",
       "      <td>train_val2018/Plantae/6904</td>\n",
       "      <td>...</td>\n",
       "      <td>Asclepias speciosa</td>\n",
       "      <td>NaN</td>\n",
       "      <td>showy milkweed</td>\n",
       "      <td>Present</td>\n",
       "      <td>NaN</td>\n",
       "      <td>Common</td>\n",
       "      <td>Native</td>\n",
       "      <td>NaN</td>\n",
       "      <td>NaN</td>\n",
       "      <td>Showy milkweed</td>\n",
       "    </tr>\n",
       "  </tbody>\n",
       "</table>\n",
       "<p>5 rows × 25 columns</p>\n",
       "</div>"
      ],
      "text/plain": [
       "                      name        class_x         family_x     genus_x  \\\n",
       "0             Corvus corax           Aves         Corvidae      Corvus   \n",
       "1  Sceloporus occidentalis       Reptilia  Phrynosomatidae  Sceloporus   \n",
       "2        Quercus kelloggii  Magnoliopsida         Fagaceae     Quercus   \n",
       "3         Cornus nuttallii  Magnoliopsida        Cornaceae      Cornus   \n",
       "4       Asclepias speciosa  Magnoliopsida      Apocynaceae   Asclepias   \n",
       "\n",
       "       id kingdom_x        order_x       phylum_x supercategory  \\\n",
       "0  3278.0  Animalia  Passeriformes       Chordata          Aves   \n",
       "1  4436.0  Animalia       Squamata       Chordata      Reptilia   \n",
       "2  6851.0   Plantae        Fagales  Magnoliophyta       Plantae   \n",
       "3     NaN   Plantae       Cornales   Tracheophyta           NaN   \n",
       "4  6904.0   Plantae    Gentianales  Magnoliophyta       Plantae   \n",
       "\n",
       "                         dir18  ...          Scientific Name  \\\n",
       "0      train_val2018/Aves/3278  ...             Corvus corax   \n",
       "1  train_val2018/Reptilia/4436  ...  Sceloporus occidentalis   \n",
       "2   train_val2018/Plantae/6851  ...        Quercus kelloggii   \n",
       "3                          NaN  ...         Cornus nuttallii   \n",
       "4   train_val2018/Plantae/6904  ...       Asclepias speciosa   \n",
       "\n",
       "                                            Synonyms           Common Name  \\\n",
       "0                                                NaN          common raven   \n",
       "1  Sceloporus occidentalis biseriatus (118745),Sc...  Western Fence Lizard   \n",
       "2                                                NaN  California black oak   \n",
       "3                                                NaN       Pacific dogwood   \n",
       "4                                                NaN        showy milkweed   \n",
       "\n",
       "   Occurrence Occurrence Tags Abundance Nativeness Nativeness Tags marine  \\\n",
       "0     Present             NaN  Abundant    Unknown             NaN    NaN   \n",
       "1     Present             NaN    Common     Native             NaN    NaN   \n",
       "2     Present             NaN    Common     Native             NaN    NaN   \n",
       "3     Present             NaN    Common     Native             NaN    NaN   \n",
       "4     Present             NaN    Common     Native             NaN    NaN   \n",
       "\n",
       "                         label  \n",
       "0                 Common Raven  \n",
       "1  Pacific Blue bellied Lizard  \n",
       "2         California black oak  \n",
       "3              Pacific dogwood  \n",
       "4               Showy milkweed  \n",
       "\n",
       "[5 rows x 25 columns]"
      ]
     },
     "execution_count": 56,
     "metadata": {},
     "output_type": "execute_result"
    }
   ],
   "source": [
    "merged.head()"
   ]
  },
  {
   "cell_type": "code",
   "execution_count": 78,
   "metadata": {},
   "outputs": [],
   "source": [
    "game_subset = merged[['name','class_x','family_x', 'genus_x','Abundance', 'Nativeness', 'label']]"
   ]
  },
  {
   "cell_type": "markdown",
   "metadata": {},
   "source": [
    "### Format game data\n",
    "- recode abundance\n",
    "- add species (split from name)\n",
    "- change column names to match Odyssee table"
   ]
  },
  {
   "cell_type": "code",
   "execution_count": 32,
   "metadata": {},
   "outputs": [
    {
     "data": {
      "text/plain": [
       "array([nan, 'Rare', 'Unknown', 'Common', 'Uncommon', 'Occasional',\n",
       "       'Abundant'], dtype=object)"
      ]
     },
     "execution_count": 32,
     "metadata": {},
     "output_type": "execute_result"
    }
   ],
   "source": [
    "species['Abundance'].unique()"
   ]
  },
  {
   "cell_type": "code",
   "execution_count": 41,
   "metadata": {},
   "outputs": [],
   "source": [
    "species.loc[(species['Abundance']==\"Unknown\"),\"Abundance\"]=\"Rare\""
   ]
  },
  {
   "cell_type": "code",
   "execution_count": 43,
   "metadata": {},
   "outputs": [],
   "source": [
    "species.loc[(species['Abundance'].isnull()),\"Abundance\"]=\"Rare\""
   ]
  },
  {
   "cell_type": "code",
   "execution_count": 44,
   "metadata": {},
   "outputs": [
    {
     "data": {
      "text/plain": [
       "array(['Rare', 'Common', 'Uncommon', 'Occasional', 'Abundant'],\n",
       "      dtype=object)"
      ]
     },
     "execution_count": 44,
     "metadata": {},
     "output_type": "execute_result"
    }
   ],
   "source": [
    "species['Abundance'].unique()"
   ]
  },
  {
   "cell_type": "code",
   "execution_count": 46,
   "metadata": {},
   "outputs": [],
   "source": [
    "score_map = {'Rare':10,'Uncommon':7,'Common':5, 'Occasional':3, 'Abundant':1}"
   ]
  },
  {
   "cell_type": "code",
   "execution_count": 47,
   "metadata": {},
   "outputs": [
    {
     "data": {
      "text/plain": [
       "dict_keys(['Rare', 'Uncommon', 'Common', 'Occasional', 'Abundant'])"
      ]
     },
     "execution_count": 47,
     "metadata": {},
     "output_type": "execute_result"
    }
   ],
   "source": [
    "score_map.keys()"
   ]
  },
  {
   "cell_type": "code",
   "execution_count": 48,
   "metadata": {},
   "outputs": [],
   "source": [
    "#match these column names\n",
    "Odyssee_columns = [\"HuntName\",\"ItemClass\",\"Genus\",\"Species\",\"Description\",\n",
    "                   \"Hints\",\"GPSCoordLat\",\"GPSCoordLong\",\"Image\",\n",
    "                   \"MinAltitude\",\"MaxAltitude\",\"StartDate\",\"EndDate\",\n",
    "                   \"RarityScore\",\"DifficultyLevel\",\"Endemic?\",\"Scavenger?\",\n",
    "                   \"Predator?\",\"Decomposer?\",\"CarbonHungry?\",\"Flowering?\"]"
   ]
  },
  {
   "cell_type": "code",
   "execution_count": 79,
   "metadata": {},
   "outputs": [],
   "source": [
    "game_subset['RarityScore'] = game_subset['Abundance'].map(score_map)"
   ]
  },
  {
   "cell_type": "code",
   "execution_count": 80,
   "metadata": {},
   "outputs": [],
   "source": [
    "game_subset['Species'] = game_subset['name'].apply(lambda x: x.split()[1])"
   ]
  },
  {
   "cell_type": "code",
   "execution_count": 81,
   "metadata": {},
   "outputs": [],
   "source": [
    "game_subset['Endemic?'] = game_subset['Nativeness'].map({\"Unknown\":0,\"Native\":1})"
   ]
  },
  {
   "cell_type": "code",
   "execution_count": 82,
   "metadata": {},
   "outputs": [],
   "source": [
    "game_subset['HuntName'] = game_subset[\"label\"]"
   ]
  },
  {
   "cell_type": "code",
   "execution_count": 83,
   "metadata": {},
   "outputs": [],
   "source": [
    "# min diff level\n",
    "diff_map = {1:\"Easy\",3:\"Easy\",5:\"Med\",7:\"Med\", 9:\"Hard\"}\n",
    "game_subset[\"DifficultyLevel\"] = game_subset[\"RarityScore\"].map(diff_map)"
   ]
  },
  {
   "cell_type": "code",
   "execution_count": 84,
   "metadata": {},
   "outputs": [
    {
     "data": {
      "text/plain": [
       "Index(['name', 'class_x', 'family_x', 'genus_x', 'Abundance', 'Nativeness',\n",
       "       'label', 'RarityScore', 'Species', 'Endemic?', 'HuntName',\n",
       "       'DifficultyLevel'],\n",
       "      dtype='object')"
      ]
     },
     "execution_count": 84,
     "metadata": {},
     "output_type": "execute_result"
    }
   ],
   "source": [
    "game_subset.columns"
   ]
  },
  {
   "cell_type": "code",
   "execution_count": 87,
   "metadata": {},
   "outputs": [],
   "source": [
    "game_subset.rename(columns={'class_x': 'ItemClass','family_x':'Family','genus_x':'Genus','species_x':'Species'}, inplace=True)"
   ]
  },
  {
   "cell_type": "code",
   "execution_count": 90,
   "metadata": {},
   "outputs": [],
   "source": [
    "game_subset2 = game_subset[['HuntName', 'ItemClass', 'Genus', 'Species','Abundance', 'RarityScore','DifficultyLevel', 'Endemic?']]"
   ]
  },
  {
   "cell_type": "code",
   "execution_count": 91,
   "metadata": {},
   "outputs": [],
   "source": [
    "game_subset2.to_csv(\"game_table_new.csv\")"
   ]
  },
  {
   "cell_type": "markdown",
   "metadata": {},
   "source": [
    "### Export complete game data to json\n",
    "Features added to data\n",
    "- Label Number\n",
    "- Hints\n",
    "- Descriptions\n",
    "- One-hot characteristics for items\n"
   ]
  },
  {
   "cell_type": "code",
   "execution_count": 18,
   "metadata": {},
   "outputs": [],
   "source": [
    "game_df = pd.read_csv(\"game_table.csv\")"
   ]
  },
  {
   "cell_type": "code",
   "execution_count": 19,
   "metadata": {},
   "outputs": [
    {
     "data": {
      "text/html": [
       "<div>\n",
       "<style scoped>\n",
       "    .dataframe tbody tr th:only-of-type {\n",
       "        vertical-align: middle;\n",
       "    }\n",
       "\n",
       "    .dataframe tbody tr th {\n",
       "        vertical-align: top;\n",
       "    }\n",
       "\n",
       "    .dataframe thead th {\n",
       "        text-align: right;\n",
       "    }\n",
       "</style>\n",
       "<table border=\"1\" class=\"dataframe\">\n",
       "  <thead>\n",
       "    <tr style=\"text-align: right;\">\n",
       "      <th></th>\n",
       "      <th>LabelNo</th>\n",
       "      <th>HuntName</th>\n",
       "      <th>Landmark?</th>\n",
       "      <th>ItemClass</th>\n",
       "      <th>Genus</th>\n",
       "      <th>Species</th>\n",
       "      <th>Genus_Species</th>\n",
       "      <th>Description</th>\n",
       "      <th>Hints</th>\n",
       "      <th>MinAltitude</th>\n",
       "      <th>MaxAltitude</th>\n",
       "      <th>Abundance</th>\n",
       "      <th>RarityScore</th>\n",
       "      <th>DifficultyLevel</th>\n",
       "      <th>Endemic?</th>\n",
       "      <th>Scavenger?</th>\n",
       "      <th>Predator?</th>\n",
       "      <th>Decomposer?</th>\n",
       "      <th>CarbonHungry?</th>\n",
       "      <th>Flowering?</th>\n",
       "    </tr>\n",
       "  </thead>\n",
       "  <tbody>\n",
       "    <tr>\n",
       "      <th>0</th>\n",
       "      <td>0</td>\n",
       "      <td>Oregon Maple</td>\n",
       "      <td>0</td>\n",
       "      <td>Magnoliopsida</td>\n",
       "      <td>Acer</td>\n",
       "      <td>macrophyllum</td>\n",
       "      <td>Acer_Macrophyllum</td>\n",
       "      <td>This is the largest tree of all the maple spec...</td>\n",
       "      <td>If you're not in time to see this trees large ...</td>\n",
       "      <td>2500</td>\n",
       "      <td>5500</td>\n",
       "      <td>Common</td>\n",
       "      <td>5.0</td>\n",
       "      <td>Med</td>\n",
       "      <td>1.0</td>\n",
       "      <td>0.0</td>\n",
       "      <td>0.0</td>\n",
       "      <td>0.0</td>\n",
       "      <td>1.0</td>\n",
       "      <td>1.0</td>\n",
       "    </tr>\n",
       "    <tr>\n",
       "      <th>1</th>\n",
       "      <td>1</td>\n",
       "      <td>California buckeye</td>\n",
       "      <td>0</td>\n",
       "      <td>Magnoliopsida</td>\n",
       "      <td>Aesculus</td>\n",
       "      <td>californica</td>\n",
       "      <td>Aesculus_Californica</td>\n",
       "      <td>Young buckeye shoots were sometimes used as sp...</td>\n",
       "      <td>A deciduous, small tree, normally growing to 1...</td>\n",
       "      <td>1500</td>\n",
       "      <td>5000</td>\n",
       "      <td>Uncommon</td>\n",
       "      <td>7.0</td>\n",
       "      <td>Med</td>\n",
       "      <td>1.0</td>\n",
       "      <td>0.0</td>\n",
       "      <td>0.0</td>\n",
       "      <td>0.0</td>\n",
       "      <td>1.0</td>\n",
       "      <td>1.0</td>\n",
       "    </tr>\n",
       "    <tr>\n",
       "      <th>2</th>\n",
       "      <td>2</td>\n",
       "      <td>Showy milkweed</td>\n",
       "      <td>0</td>\n",
       "      <td>Magnoliopsida</td>\n",
       "      <td>Asclepias</td>\n",
       "      <td>speciosa</td>\n",
       "      <td>Asclepias_Speciosa</td>\n",
       "      <td>The sap of showy milkweed was used by some des...</td>\n",
       "      <td>Look in pastures, meadows, forest clearings, u...</td>\n",
       "      <td>0</td>\n",
       "      <td>6200</td>\n",
       "      <td>Common</td>\n",
       "      <td>5.0</td>\n",
       "      <td>Med</td>\n",
       "      <td>1.0</td>\n",
       "      <td>0.0</td>\n",
       "      <td>0.0</td>\n",
       "      <td>0.0</td>\n",
       "      <td>0.0</td>\n",
       "      <td>1.0</td>\n",
       "    </tr>\n",
       "    <tr>\n",
       "      <th>3</th>\n",
       "      <td>3</td>\n",
       "      <td>Incense cedar</td>\n",
       "      <td>0</td>\n",
       "      <td>Pinopsida</td>\n",
       "      <td>Calocedrus</td>\n",
       "      <td>decurrens</td>\n",
       "      <td>Calocedrus_Decurrens</td>\n",
       "      <td>Cedar is one of the most important Native Amer...</td>\n",
       "      <td>Often confused with the sequoia, use your sens...</td>\n",
       "      <td>160</td>\n",
       "      <td>9510</td>\n",
       "      <td>Abundant</td>\n",
       "      <td>1.0</td>\n",
       "      <td>Easy</td>\n",
       "      <td>1.0</td>\n",
       "      <td>0.0</td>\n",
       "      <td>0.0</td>\n",
       "      <td>0.0</td>\n",
       "      <td>0.0</td>\n",
       "      <td>0.0</td>\n",
       "    </tr>\n",
       "    <tr>\n",
       "      <th>4</th>\n",
       "      <td>4</td>\n",
       "      <td>Great red paintbrush</td>\n",
       "      <td>0</td>\n",
       "      <td>Magnoliopsida</td>\n",
       "      <td>Castilleja</td>\n",
       "      <td>miniata</td>\n",
       "      <td>Castilleja_Miniata</td>\n",
       "      <td>The flowers of Indian paintbrush are edible, a...</td>\n",
       "      <td>This parasitic plant grows up to 2.5 feet tall...</td>\n",
       "      <td>5000</td>\n",
       "      <td>15000</td>\n",
       "      <td>Common</td>\n",
       "      <td>5.0</td>\n",
       "      <td>Med</td>\n",
       "      <td>1.0</td>\n",
       "      <td>0.0</td>\n",
       "      <td>0.0</td>\n",
       "      <td>0.0</td>\n",
       "      <td>0.0</td>\n",
       "      <td>1.0</td>\n",
       "    </tr>\n",
       "  </tbody>\n",
       "</table>\n",
       "</div>"
      ],
      "text/plain": [
       "   LabelNo              HuntName  Landmark?      ItemClass       Genus  \\\n",
       "0        0          Oregon Maple          0  Magnoliopsida        Acer   \n",
       "1        1    California buckeye          0  Magnoliopsida    Aesculus   \n",
       "2        2        Showy milkweed          0  Magnoliopsida   Asclepias   \n",
       "3        3         Incense cedar          0      Pinopsida  Calocedrus   \n",
       "4        4  Great red paintbrush          0  Magnoliopsida  Castilleja   \n",
       "\n",
       "        Species         Genus_Species  \\\n",
       "0  macrophyllum     Acer_Macrophyllum   \n",
       "1   californica  Aesculus_Californica   \n",
       "2      speciosa    Asclepias_Speciosa   \n",
       "3     decurrens  Calocedrus_Decurrens   \n",
       "4       miniata    Castilleja_Miniata   \n",
       "\n",
       "                                         Description  \\\n",
       "0  This is the largest tree of all the maple spec...   \n",
       "1  Young buckeye shoots were sometimes used as sp...   \n",
       "2  The sap of showy milkweed was used by some des...   \n",
       "3  Cedar is one of the most important Native Amer...   \n",
       "4  The flowers of Indian paintbrush are edible, a...   \n",
       "\n",
       "                                               Hints  MinAltitude  \\\n",
       "0  If you're not in time to see this trees large ...         2500   \n",
       "1  A deciduous, small tree, normally growing to 1...         1500   \n",
       "2  Look in pastures, meadows, forest clearings, u...            0   \n",
       "3  Often confused with the sequoia, use your sens...          160   \n",
       "4  This parasitic plant grows up to 2.5 feet tall...         5000   \n",
       "\n",
       "   MaxAltitude Abundance  RarityScore DifficultyLevel  Endemic?  Scavenger?  \\\n",
       "0         5500    Common          5.0             Med       1.0         0.0   \n",
       "1         5000  Uncommon          7.0             Med       1.0         0.0   \n",
       "2         6200    Common          5.0             Med       1.0         0.0   \n",
       "3         9510  Abundant          1.0            Easy       1.0         0.0   \n",
       "4        15000    Common          5.0             Med       1.0         0.0   \n",
       "\n",
       "   Predator?  Decomposer?  CarbonHungry?  Flowering?  \n",
       "0        0.0          0.0            1.0         1.0  \n",
       "1        0.0          0.0            1.0         1.0  \n",
       "2        0.0          0.0            0.0         1.0  \n",
       "3        0.0          0.0            0.0         0.0  \n",
       "4        0.0          0.0            0.0         1.0  "
      ]
     },
     "execution_count": 19,
     "metadata": {},
     "output_type": "execute_result"
    }
   ],
   "source": [
    "game_df.head()"
   ]
  },
  {
   "cell_type": "code",
   "execution_count": 20,
   "metadata": {},
   "outputs": [],
   "source": [
    "game_df[\"image\"] = \"gs://fir-classification.appspot.com/Rep_images\"+\\\n",
    "                    \"/\"+\\\n",
    "                    game_df[\"Genus\"]+\"_\"+\\\n",
    "                    game_df[\"Species\"].apply(lambda x: str(x).capitalize())+\".jpg\""
   ]
  },
  {
   "cell_type": "code",
   "execution_count": 21,
   "metadata": {},
   "outputs": [],
   "source": [
    "with open(\"game.json\",\"w\") as file:\n",
    "    file.write(str(game_df.to_dict()))"
   ]
  },
  {
   "cell_type": "code",
   "execution_count": 22,
   "metadata": {},
   "outputs": [],
   "source": [
    "with open(\"game_recordoriented.json\",\"w\") as file:\n",
    "    file.write(str(game_df.to_json(orient=\"records\")))"
   ]
  },
  {
   "cell_type": "code",
   "execution_count": 2,
   "metadata": {},
   "outputs": [
    {
     "name": "stdout",
     "output_type": "stream",
     "text": [
      "Requirement already satisfied: firebase-admin in c:\\users\\gjack\\anaconda3\\lib\\site-packages (4.0.0)\n",
      "Requirement already satisfied: google-cloud-firestore>=1.4.0; platform_python_implementation != \"PyPy\" in c:\\users\\gjack\\anaconda3\\lib\\site-packages (from firebase-admin) (1.6.2)\n",
      "Requirement already satisfied: google-cloud-storage>=1.18.0 in c:\\users\\gjack\\anaconda3\\lib\\site-packages (from firebase-admin) (1.26.0)\n",
      "Requirement already satisfied: cachecontrol>=0.12.6 in c:\\users\\gjack\\anaconda3\\lib\\site-packages (from firebase-admin) (0.12.6)\n",
      "Requirement already satisfied: google-api-python-client>=1.7.8 in c:\\users\\gjack\\anaconda3\\lib\\site-packages (from firebase-admin) (1.8.0)\n",
      "Requirement already satisfied: google-api-core[grpc]<2.0.0dev,>=1.14.0; platform_python_implementation != \"PyPy\" in c:\\users\\gjack\\anaconda3\\lib\\site-packages (from firebase-admin) (1.16.0)\n",
      "Requirement already satisfied: pytz in c:\\users\\gjack\\anaconda3\\lib\\site-packages (from google-cloud-firestore>=1.4.0; platform_python_implementation != \"PyPy\"->firebase-admin) (2019.1)\n",
      "Requirement already satisfied: google-cloud-core<2.0dev,>=1.0.3 in c:\\users\\gjack\\anaconda3\\lib\\site-packages (from google-cloud-firestore>=1.4.0; platform_python_implementation != \"PyPy\"->firebase-admin) (1.3.0)\n",
      "Requirement already satisfied: google-auth<2.0dev,>=1.11.0 in c:\\users\\gjack\\anaconda3\\lib\\site-packages (from google-cloud-storage>=1.18.0->firebase-admin) (1.11.3)\n",
      "Requirement already satisfied: google-resumable-media<0.6dev,>=0.5.0 in c:\\users\\gjack\\anaconda3\\lib\\site-packages (from google-cloud-storage>=1.18.0->firebase-admin) (0.5.0)\n",
      "Requirement already satisfied: msgpack>=0.5.2 in c:\\users\\gjack\\anaconda3\\lib\\site-packages (from cachecontrol>=0.12.6->firebase-admin) (0.6.1)\n",
      "Requirement already satisfied: requests in c:\\users\\gjack\\anaconda3\\lib\\site-packages (from cachecontrol>=0.12.6->firebase-admin) (2.22.0)\n",
      "Requirement already satisfied: google-auth-httplib2>=0.0.3 in c:\\users\\gjack\\anaconda3\\lib\\site-packages (from google-api-python-client>=1.7.8->firebase-admin) (0.0.3)\n",
      "Requirement already satisfied: uritemplate<4dev,>=3.0.0 in c:\\users\\gjack\\anaconda3\\lib\\site-packages (from google-api-python-client>=1.7.8->firebase-admin) (3.0.1)\n",
      "Requirement already satisfied: httplib2<1dev,>=0.9.2 in c:\\users\\gjack\\anaconda3\\lib\\site-packages (from google-api-python-client>=1.7.8->firebase-admin) (0.17.0)\n",
      "Requirement already satisfied: six<2dev,>=1.6.1 in c:\\users\\gjack\\anaconda3\\lib\\site-packages (from google-api-python-client>=1.7.8->firebase-admin) (1.12.0)\n",
      "Requirement already satisfied: googleapis-common-protos<2.0dev,>=1.6.0 in c:\\users\\gjack\\anaconda3\\lib\\site-packages (from google-api-core[grpc]<2.0.0dev,>=1.14.0; platform_python_implementation != \"PyPy\"->firebase-admin) (1.51.0)\n",
      "Requirement already satisfied: setuptools>=34.0.0 in c:\\users\\gjack\\anaconda3\\lib\\site-packages (from google-api-core[grpc]<2.0.0dev,>=1.14.0; platform_python_implementation != \"PyPy\"->firebase-admin) (41.0.1)\n",
      "Requirement already satisfied: protobuf>=3.4.0 in c:\\users\\gjack\\anaconda3\\lib\\site-packages (from google-api-core[grpc]<2.0.0dev,>=1.14.0; platform_python_implementation != \"PyPy\"->firebase-admin) (3.9.1)\n",
      "Requirement already satisfied: grpcio<2.0dev,>=1.8.2; extra == \"grpc\" in c:\\users\\gjack\\anaconda3\\lib\\site-packages (from google-api-core[grpc]<2.0.0dev,>=1.14.0; platform_python_implementation != \"PyPy\"->firebase-admin) (1.23.0)\n",
      "Requirement already satisfied: rsa<4.1,>=3.1.4 in c:\\users\\gjack\\anaconda3\\lib\\site-packages (from google-auth<2.0dev,>=1.11.0->google-cloud-storage>=1.18.0->firebase-admin) (4.0)\n",
      "Requirement already satisfied: pyasn1-modules>=0.2.1 in c:\\users\\gjack\\anaconda3\\lib\\site-packages (from google-auth<2.0dev,>=1.11.0->google-cloud-storage>=1.18.0->firebase-admin) (0.2.8)\n",
      "Requirement already satisfied: cachetools<5.0,>=2.0.0 in c:\\users\\gjack\\anaconda3\\lib\\site-packages (from google-auth<2.0dev,>=1.11.0->google-cloud-storage>=1.18.0->firebase-admin) (4.0.0)\n",
      "Requirement already satisfied: certifi>=2017.4.17 in c:\\users\\gjack\\anaconda3\\lib\\site-packages (from requests->cachecontrol>=0.12.6->firebase-admin) (2019.6.16)\n",
      "Requirement already satisfied: chardet<3.1.0,>=3.0.2 in c:\\users\\gjack\\anaconda3\\lib\\site-packages (from requests->cachecontrol>=0.12.6->firebase-admin) (3.0.4)\n",
      "Requirement already satisfied: urllib3!=1.25.0,!=1.25.1,<1.26,>=1.21.1 in c:\\users\\gjack\\anaconda3\\lib\\site-packages (from requests->cachecontrol>=0.12.6->firebase-admin) (1.24.2)\n",
      "Requirement already satisfied: idna<2.9,>=2.5 in c:\\users\\gjack\\anaconda3\\lib\\site-packages (from requests->cachecontrol>=0.12.6->firebase-admin) (2.8)\n",
      "Requirement already satisfied: pyasn1>=0.1.3 in c:\\users\\gjack\\anaconda3\\lib\\site-packages (from rsa<4.1,>=3.1.4->google-auth<2.0dev,>=1.11.0->google-cloud-storage>=1.18.0->firebase-admin) (0.4.8)\n"
     ]
    }
   ],
   "source": [
    "!pip install firebase-admin"
   ]
  },
  {
   "cell_type": "code",
   "execution_count": 3,
   "metadata": {},
   "outputs": [
    {
     "data": {
      "text/plain": [
       "<firebase_admin.App at 0x1e440185080>"
      ]
     },
     "execution_count": 3,
     "metadata": {},
     "output_type": "execute_result"
    }
   ],
   "source": [
    "import firebase_admin\n",
    "from firebase_admin import credentials\n",
    "from firebase_admin import db\n",
    "from firebase_admin import firestore\n",
    "\n",
    "cred = credentials.Certificate(\"CloudPaths/fir-classification-firebase-adminsdk-6635n-0f55bc991e.json\")\n",
    "firebase_admin.initialize_app(cred)"
   ]
  },
  {
   "cell_type": "code",
   "execution_count": 13,
   "metadata": {},
   "outputs": [
    {
     "data": {
      "text/plain": [
       "<firebase_admin.db.Reference at 0x21da86c6320>"
      ]
     },
     "execution_count": 13,
     "metadata": {},
     "output_type": "execute_result"
    }
   ],
   "source": [
    "#### upload to realtime db only - not for firestore  ####\n",
    "ref = db.reference(url =\"https://fir-classification.firebaseio.com/OdysseeTable/opvEPyUDXUpIEn7fvaKE\")\n",
    "ref.push(str(game_df.to_dict()))"
   ]
  },
  {
   "cell_type": "markdown",
   "metadata": {},
   "source": [
    "### Upload to Cloud Firestore"
   ]
  },
  {
   "cell_type": "code",
   "execution_count": 12,
   "metadata": {},
   "outputs": [],
   "source": [
    "db = firestore.client()"
   ]
  },
  {
   "cell_type": "code",
   "execution_count": 26,
   "metadata": {},
   "outputs": [],
   "source": [
    "# create list of records in json format\n",
    "doc_list = game_df.to_dict(orient=\"records\")"
   ]
  },
  {
   "cell_type": "code",
   "execution_count": 27,
   "metadata": {},
   "outputs": [],
   "source": [
    "# upload each row\n",
    "item_no = 0\n",
    "for doc in doc_list:\n",
    "    item=u\"item\"+str(item_no)\n",
    "    doc_ref = db.collection(u'OdysseeTable').document(item)\n",
    "    doc_ref.set(doc)\n",
    "    item_no+=1"
   ]
  },
  {
   "cell_type": "code",
   "execution_count": 41,
   "metadata": {},
   "outputs": [
    {
     "data": {
      "text/plain": [
       "['California buckeye',\n",
       " 'Californian Poppy',\n",
       " 'California black oak',\n",
       " 'California nutmeg']"
      ]
     },
     "execution_count": 41,
     "metadata": {},
     "output_type": "execute_result"
    }
   ],
   "source": [
    "game_df[game_df[\"HuntName\"].str.contains(\"California\")][\"HuntName\"].tolist()"
   ]
  },
  {
   "cell_type": "markdown",
   "metadata": {},
   "source": [
    "### Upload achievements table"
   ]
  },
  {
   "cell_type": "code",
   "execution_count": 9,
   "metadata": {},
   "outputs": [],
   "source": [
    "ach_df = pd.read_csv(r\"Achievements\\achievements.csv\")"
   ]
  },
  {
   "cell_type": "code",
   "execution_count": 10,
   "metadata": {},
   "outputs": [
    {
     "data": {
      "text/html": [
       "<div>\n",
       "<style scoped>\n",
       "    .dataframe tbody tr th:only-of-type {\n",
       "        vertical-align: middle;\n",
       "    }\n",
       "\n",
       "    .dataframe tbody tr th {\n",
       "        vertical-align: top;\n",
       "    }\n",
       "\n",
       "    .dataframe thead th {\n",
       "        text-align: right;\n",
       "    }\n",
       "</style>\n",
       "<table border=\"1\" class=\"dataframe\">\n",
       "  <thead>\n",
       "    <tr style=\"text-align: right;\">\n",
       "      <th></th>\n",
       "      <th>ItemCombo</th>\n",
       "      <th>Total</th>\n",
       "      <th>AchievementName</th>\n",
       "      <th>AchievementText</th>\n",
       "      <th>Image</th>\n",
       "    </tr>\n",
       "  </thead>\n",
       "  <tbody>\n",
       "    <tr>\n",
       "      <th>0</th>\n",
       "      <td>{'Incense cedar','Prickly ponderosa'}</td>\n",
       "      <td>2</td>\n",
       "      <td>Miwok Home Maker</td>\n",
       "      <td>Bark-covered homes were used by Miwok people l...</td>\n",
       "      <td>gs://fir-classification.appspot.com/Achievemen...</td>\n",
       "    </tr>\n",
       "    <tr>\n",
       "      <th>1</th>\n",
       "      <td>{'Yosemite Falls','Bridalveil Falls'}</td>\n",
       "      <td>2</td>\n",
       "      <td>Liquid Life</td>\n",
       "      <td>For native cultures, water retains an honored ...</td>\n",
       "      <td>gs://fir-classification.appspot.com/Achievemen...</td>\n",
       "    </tr>\n",
       "    <tr>\n",
       "      <th>2</th>\n",
       "      <td>{'Oregon Maple', \\n'California buckeye', \\n'Pa...</td>\n",
       "      <td>3</td>\n",
       "      <td>Firestarter</td>\n",
       "      <td>You found 3 hardwoods. Per square inch, they c...</td>\n",
       "      <td>gs://fir-classification.appspot.com/Achievemen...</td>\n",
       "    </tr>\n",
       "    <tr>\n",
       "      <th>3</th>\n",
       "      <td>{'California buckeye','Californian Poppy','Cal...</td>\n",
       "      <td>2</td>\n",
       "      <td>Mamas and the Papas</td>\n",
       "      <td>California Dreamin'\\n\\nYou found two or more s...</td>\n",
       "      <td>gs://fir-classification.appspot.com/Achievemen...</td>\n",
       "    </tr>\n",
       "    <tr>\n",
       "      <th>4</th>\n",
       "      <td>{'California black oak','Valley oak'}</td>\n",
       "      <td>2</td>\n",
       "      <td>Dinner is Served</td>\n",
       "      <td>More than half of the Yosemite Native American...</td>\n",
       "      <td>gs://fir-classification.appspot.com/Achievemen...</td>\n",
       "    </tr>\n",
       "  </tbody>\n",
       "</table>\n",
       "</div>"
      ],
      "text/plain": [
       "                                           ItemCombo  Total  \\\n",
       "0              {'Incense cedar','Prickly ponderosa'}      2   \n",
       "1              {'Yosemite Falls','Bridalveil Falls'}      2   \n",
       "2  {'Oregon Maple', \\n'California buckeye', \\n'Pa...      3   \n",
       "3  {'California buckeye','Californian Poppy','Cal...      2   \n",
       "4              {'California black oak','Valley oak'}      2   \n",
       "\n",
       "       AchievementName                                    AchievementText  \\\n",
       "0     Miwok Home Maker  Bark-covered homes were used by Miwok people l...   \n",
       "1          Liquid Life  For native cultures, water retains an honored ...   \n",
       "2          Firestarter  You found 3 hardwoods. Per square inch, they c...   \n",
       "3  Mamas and the Papas  California Dreamin'\\n\\nYou found two or more s...   \n",
       "4     Dinner is Served  More than half of the Yosemite Native American...   \n",
       "\n",
       "                                               Image  \n",
       "0  gs://fir-classification.appspot.com/Achievemen...  \n",
       "1  gs://fir-classification.appspot.com/Achievemen...  \n",
       "2  gs://fir-classification.appspot.com/Achievemen...  \n",
       "3  gs://fir-classification.appspot.com/Achievemen...  \n",
       "4  gs://fir-classification.appspot.com/Achievemen...  "
      ]
     },
     "execution_count": 10,
     "metadata": {},
     "output_type": "execute_result"
    }
   ],
   "source": [
    "ach_df.head()"
   ]
  },
  {
   "cell_type": "code",
   "execution_count": 49,
   "metadata": {},
   "outputs": [],
   "source": [
    "# upload each row\n",
    "doc_list = ach_df.to_dict(orient=\"records\")\n",
    "item_no = 0\n",
    "for doc in doc_list:\n",
    "    item=u\"item\"+str(item_no)\n",
    "    doc_ref = db.collection(u'AchievementTable').document(item)\n",
    "    doc_ref.set(doc)\n",
    "    item_no+=1"
   ]
  },
  {
   "cell_type": "markdown",
   "metadata": {},
   "source": [
    "### Upload zones table"
   ]
  },
  {
   "cell_type": "code",
   "execution_count": 7,
   "metadata": {},
   "outputs": [],
   "source": [
    "# need to run for firebase push\n",
    "# db = firestore.client()\n",
    "zones_df = pd.read_csv(\"zones_table.csv\")"
   ]
  },
  {
   "cell_type": "code",
   "execution_count": 8,
   "metadata": {},
   "outputs": [
    {
     "data": {
      "text/html": [
       "<div>\n",
       "<style scoped>\n",
       "    .dataframe tbody tr th:only-of-type {\n",
       "        vertical-align: middle;\n",
       "    }\n",
       "\n",
       "    .dataframe tbody tr th {\n",
       "        vertical-align: top;\n",
       "    }\n",
       "\n",
       "    .dataframe thead th {\n",
       "        text-align: right;\n",
       "    }\n",
       "</style>\n",
       "<table border=\"1\" class=\"dataframe\">\n",
       "  <thead>\n",
       "    <tr style=\"text-align: right;\">\n",
       "      <th></th>\n",
       "      <th>Zone</th>\n",
       "      <th>Min Elevation</th>\n",
       "      <th>Max Elevation</th>\n",
       "      <th>Description</th>\n",
       "    </tr>\n",
       "  </thead>\n",
       "  <tbody>\n",
       "    <tr>\n",
       "      <th>0</th>\n",
       "      <td>Foothills</td>\n",
       "      <td>1800</td>\n",
       "      <td>3000</td>\n",
       "      <td>The lowest elevations in the park. An area tha...</td>\n",
       "    </tr>\n",
       "    <tr>\n",
       "      <th>1</th>\n",
       "      <td>Lower Montane</td>\n",
       "      <td>3000</td>\n",
       "      <td>6000</td>\n",
       "      <td>The hot, dry summers and cool, moist winters o...</td>\n",
       "    </tr>\n",
       "    <tr>\n",
       "      <th>2</th>\n",
       "      <td>Upper Montane</td>\n",
       "      <td>6000</td>\n",
       "      <td>8000</td>\n",
       "      <td>The montane climate is characterized by short,...</td>\n",
       "    </tr>\n",
       "    <tr>\n",
       "      <th>3</th>\n",
       "      <td>Sub-Alpine</td>\n",
       "      <td>8000</td>\n",
       "      <td>9500</td>\n",
       "      <td>The climate is cool with an even shorter growi...</td>\n",
       "    </tr>\n",
       "    <tr>\n",
       "      <th>4</th>\n",
       "      <td>Alpine</td>\n",
       "      <td>9500</td>\n",
       "      <td>13200</td>\n",
       "      <td>Easily distinguished as it is above tree line....</td>\n",
       "    </tr>\n",
       "  </tbody>\n",
       "</table>\n",
       "</div>"
      ],
      "text/plain": [
       "            Zone  Min Elevation  Max Elevation  \\\n",
       "0      Foothills           1800           3000   \n",
       "1  Lower Montane           3000           6000   \n",
       "2  Upper Montane           6000           8000   \n",
       "3     Sub-Alpine           8000           9500   \n",
       "4         Alpine           9500          13200   \n",
       "\n",
       "                                         Description  \n",
       "0  The lowest elevations in the park. An area tha...  \n",
       "1  The hot, dry summers and cool, moist winters o...  \n",
       "2  The montane climate is characterized by short,...  \n",
       "3  The climate is cool with an even shorter growi...  \n",
       "4  Easily distinguished as it is above tree line....  "
      ]
     },
     "execution_count": 8,
     "metadata": {},
     "output_type": "execute_result"
    }
   ],
   "source": [
    "zones_df.head()"
   ]
  },
  {
   "cell_type": "code",
   "execution_count": 14,
   "metadata": {},
   "outputs": [],
   "source": [
    "# upload each row\n",
    "doc_list = zones_df.to_dict(orient=\"records\")\n",
    "item_no = 0\n",
    "for doc in doc_list:\n",
    "    item=u\"item\"+str(item_no)\n",
    "    doc_ref = db.collection(u'EcoZones').document(item)\n",
    "    doc_ref.set(doc)\n",
    "    item_no+=1"
   ]
  },
  {
   "cell_type": "code",
   "execution_count": null,
   "metadata": {},
   "outputs": [],
   "source": []
  }
 ],
 "metadata": {
  "kernelspec": {
   "display_name": "Python 3",
   "language": "python",
   "name": "python3"
  },
  "language_info": {
   "codemirror_mode": {
    "name": "ipython",
    "version": 3
   },
   "file_extension": ".py",
   "mimetype": "text/x-python",
   "name": "python",
   "nbconvert_exporter": "python",
   "pygments_lexer": "ipython3",
   "version": "3.7.3"
  }
 },
 "nbformat": 4,
 "nbformat_minor": 4
}
